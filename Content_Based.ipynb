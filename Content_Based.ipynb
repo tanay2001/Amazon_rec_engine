{
  "nbformat": 4,
  "nbformat_minor": 0,
  "metadata": {
    "colab": {
      "name": "Content_Based.ipynb",
      "provenance": [],
      "collapsed_sections": []
    },
    "kernelspec": {
      "name": "python3",
      "display_name": "Python 3"
    }
  },
  "cells": [
    {
      "cell_type": "code",
      "metadata": {
        "id": "ILKUPE-cSrtT",
        "colab_type": "code",
        "colab": {
          "base_uri": "https://localhost:8080/",
          "height": 51
        },
        "outputId": "77998552-3523-414f-e61e-888eba642104"
      },
      "source": [
        "import pandas as pd\n",
        "import numpy as np\n",
        "import json\n",
        "import gzip\n",
        "import seaborn as sns\n",
        "from sklearn.feature_extraction.text import CountVectorizer, TfidfTransformer, TfidfVectorizer\n",
        "import re\n",
        "import string\n",
        "import nltk\n",
        "import re"
      ],
      "execution_count": null,
      "outputs": [
        {
          "output_type": "stream",
          "text": [
            "/usr/local/lib/python3.6/dist-packages/statsmodels/tools/_testing.py:19: FutureWarning: pandas.util.testing is deprecated. Use the functions in the public API at pandas.testing instead.\n",
            "  import pandas.util.testing as tm\n"
          ],
          "name": "stderr"
        }
      ]
    },
    {
      "cell_type": "code",
      "metadata": {
        "id": "aENnNnNVVZKr",
        "colab_type": "code",
        "colab": {
          "base_uri": "https://localhost:8080/",
          "height": 204
        },
        "outputId": "4c9cb6f9-b791-42e2-e1ff-f71b52cb779a"
      },
      "source": [
        "!wget http://deepyeti.ucsd.edu/jianmo/amazon/metaFiles/meta_Video_Games.json.gz"
      ],
      "execution_count": null,
      "outputs": [
        {
          "output_type": "stream",
          "text": [
            "--2020-06-19 20:07:13--  http://deepyeti.ucsd.edu/jianmo/amazon/metaFiles/meta_Video_Games.json.gz\n",
            "Resolving deepyeti.ucsd.edu (deepyeti.ucsd.edu)... 169.228.63.50\n",
            "Connecting to deepyeti.ucsd.edu (deepyeti.ucsd.edu)|169.228.63.50|:80... connected.\n",
            "HTTP request sent, awaiting response... 200 OK\n",
            "Length: 80222877 (77M) [application/octet-stream]\n",
            "Saving to: ‘meta_Video_Games.json.gz’\n",
            "\n",
            "\rmeta_Video_Games.js   0%[                    ]       0  --.-KB/s               \rmeta_Video_Games.js   2%[                    ]   1.76M  8.68MB/s               \rmeta_Video_Games.js  24%[===>                ]  18.57M  46.1MB/s               \rmeta_Video_Games.js  46%[========>           ]  35.63M  59.1MB/s               \rmeta_Video_Games.js  68%[============>       ]  52.75M  65.7MB/s               \rmeta_Video_Games.js  91%[=================>  ]  69.84M  69.6MB/s               \rmeta_Video_Games.js 100%[===================>]  76.51M  70.7MB/s    in 1.1s    \n",
            "\n",
            "2020-06-19 20:07:14 (70.7 MB/s) - ‘meta_Video_Games.json.gz’ saved [80222877/80222877]\n",
            "\n"
          ],
          "name": "stdout"
        }
      ]
    },
    {
      "cell_type": "code",
      "metadata": {
        "id": "DhvRzmkJVRFq",
        "colab_type": "code",
        "colab": {}
      },
      "source": [
        "data = []\n",
        "with gzip.open('meta_Video_Games.json.gz') as f:\n",
        "    for l in f:\n",
        "        data.append(json.loads(l.strip()))"
      ],
      "execution_count": null,
      "outputs": []
    },
    {
      "cell_type": "code",
      "metadata": {
        "id": "vMgE4MyjVRIW",
        "colab_type": "code",
        "colab": {}
      },
      "source": [
        "df = pd.DataFrame.from_dict(data)"
      ],
      "execution_count": null,
      "outputs": []
    },
    {
      "cell_type": "code",
      "metadata": {
        "id": "oFptVWcNVRKu",
        "colab_type": "code",
        "colab": {
          "base_uri": "https://localhost:8080/",
          "height": 204
        },
        "outputId": "c5809d53-a68a-4d36-f036-2b4824a6484d"
      },
      "source": [
        "!wget http://deepyeti.ucsd.edu/jianmo/amazon/categoryFilesSmall/Video_Games_5.json.gz"
      ],
      "execution_count": null,
      "outputs": [
        {
          "output_type": "stream",
          "text": [
            "--2020-06-19 20:07:26--  http://deepyeti.ucsd.edu/jianmo/amazon/categoryFilesSmall/Video_Games_5.json.gz\n",
            "Resolving deepyeti.ucsd.edu (deepyeti.ucsd.edu)... 169.228.63.50\n",
            "Connecting to deepyeti.ucsd.edu (deepyeti.ucsd.edu)|169.228.63.50|:80... connected.\n",
            "HTTP request sent, awaiting response... 200 OK\n",
            "Length: 154050105 (147M) [application/octet-stream]\n",
            "Saving to: ‘Video_Games_5.json.gz’\n",
            "\n",
            "Video_Games_5.json. 100%[===================>] 146.91M  77.6MB/s    in 1.9s    \n",
            "\n",
            "2020-06-19 20:07:28 (77.6 MB/s) - ‘Video_Games_5.json.gz’ saved [154050105/154050105]\n",
            "\n"
          ],
          "name": "stdout"
        }
      ]
    },
    {
      "cell_type": "code",
      "metadata": {
        "id": "EseuJvFFVRNQ",
        "colab_type": "code",
        "colab": {}
      },
      "source": [
        "data2 = []\n",
        "with gzip.open('Video_Games_5.json.gz') as f:\n",
        "    for l in f:\n",
        "        data2.append(json.loads(l.strip()))"
      ],
      "execution_count": null,
      "outputs": []
    },
    {
      "cell_type": "markdown",
      "metadata": {
        "id": "2q178QJ8RGPH",
        "colab_type": "text"
      },
      "source": [
        "# **Data Preprocessing**"
      ]
    },
    {
      "cell_type": "code",
      "metadata": {
        "id": "0s6i3US_oPc-",
        "colab_type": "code",
        "colab": {}
      },
      "source": [
        ""
      ],
      "execution_count": null,
      "outputs": []
    },
    {
      "cell_type": "code",
      "metadata": {
        "id": "GluxKc7gVRP2",
        "colab_type": "code",
        "colab": {}
      },
      "source": [
        "df2 = pd.DataFrame.from_dict(data2)\n",
        "df2=df2.head(500000)\n",
        "df2 = df2[[\"reviewerID\",\"asin\",\"reviewText\", \"summary\" ,\"overall\"]]\n",
        "df2.drop_duplicates(keep=False , inplace = True)"
      ],
      "execution_count": null,
      "outputs": []
    },
    {
      "cell_type": "code",
      "metadata": {
        "id": "vR6blWNHVRRw",
        "colab_type": "code",
        "colab": {}
      },
      "source": [
        "df3 = pd.merge(df, df2, on=\"asin\", how='right')"
      ],
      "execution_count": null,
      "outputs": []
    },
    {
      "cell_type": "code",
      "metadata": {
        "id": "kxS9h_bDVrFW",
        "colab_type": "code",
        "colab": {}
      },
      "source": [
        "df4 = df3.groupby(\"asin\").agg({\"overall\":\"mean\", \"reviewerID\":\"count\"})\n",
        "df4[\"avg_rating\"]= df4.overall\n",
        "df4[\"Count\"]= df4.reviewerID\n"
      ],
      "execution_count": null,
      "outputs": []
    },
    {
      "cell_type": "code",
      "metadata": {
        "id": "Ix3Ihn3PVt0P",
        "colab_type": "code",
        "colab": {
          "base_uri": "https://localhost:8080/",
          "height": 450
        },
        "outputId": "f53b4efc-ff02-4006-bfa0-b4dea09169af"
      },
      "source": [
        "df4\n",
        "\n",
        "\n",
        "\n"
      ],
      "execution_count": null,
      "outputs": [
        {
          "output_type": "execute_result",
          "data": {
            "text/html": [
              "<div>\n",
              "<style scoped>\n",
              "    .dataframe tbody tr th:only-of-type {\n",
              "        vertical-align: middle;\n",
              "    }\n",
              "\n",
              "    .dataframe tbody tr th {\n",
              "        vertical-align: top;\n",
              "    }\n",
              "\n",
              "    .dataframe thead th {\n",
              "        text-align: right;\n",
              "    }\n",
              "</style>\n",
              "<table border=\"1\" class=\"dataframe\">\n",
              "  <thead>\n",
              "    <tr style=\"text-align: right;\">\n",
              "      <th></th>\n",
              "      <th>overall</th>\n",
              "      <th>reviewerID</th>\n",
              "      <th>avg_rating</th>\n",
              "      <th>Count</th>\n",
              "    </tr>\n",
              "    <tr>\n",
              "      <th>asin</th>\n",
              "      <th></th>\n",
              "      <th></th>\n",
              "      <th></th>\n",
              "      <th></th>\n",
              "    </tr>\n",
              "  </thead>\n",
              "  <tbody>\n",
              "    <tr>\n",
              "      <th>0700026398</th>\n",
              "      <td>3.125000</td>\n",
              "      <td>8</td>\n",
              "      <td>3.125000</td>\n",
              "      <td>8</td>\n",
              "    </tr>\n",
              "    <tr>\n",
              "      <th>0700026657</th>\n",
              "      <td>3.692308</td>\n",
              "      <td>13</td>\n",
              "      <td>3.692308</td>\n",
              "      <td>13</td>\n",
              "    </tr>\n",
              "    <tr>\n",
              "      <th>0700099867</th>\n",
              "      <td>3.300000</td>\n",
              "      <td>30</td>\n",
              "      <td>3.300000</td>\n",
              "      <td>30</td>\n",
              "    </tr>\n",
              "    <tr>\n",
              "      <th>0804161380</th>\n",
              "      <td>4.816327</td>\n",
              "      <td>49</td>\n",
              "      <td>4.816327</td>\n",
              "      <td>49</td>\n",
              "    </tr>\n",
              "    <tr>\n",
              "      <th>3828770193</th>\n",
              "      <td>4.333333</td>\n",
              "      <td>6</td>\n",
              "      <td>4.333333</td>\n",
              "      <td>6</td>\n",
              "    </tr>\n",
              "    <tr>\n",
              "      <th>...</th>\n",
              "      <td>...</td>\n",
              "      <td>...</td>\n",
              "      <td>...</td>\n",
              "      <td>...</td>\n",
              "    </tr>\n",
              "    <tr>\n",
              "      <th>B01HFRICLE</th>\n",
              "      <td>4.428571</td>\n",
              "      <td>14</td>\n",
              "      <td>4.428571</td>\n",
              "      <td>14</td>\n",
              "    </tr>\n",
              "    <tr>\n",
              "      <th>B01HGPUTCA</th>\n",
              "      <td>4.600000</td>\n",
              "      <td>5</td>\n",
              "      <td>4.600000</td>\n",
              "      <td>5</td>\n",
              "    </tr>\n",
              "    <tr>\n",
              "      <th>B01HH6JEOC</th>\n",
              "      <td>3.625000</td>\n",
              "      <td>8</td>\n",
              "      <td>3.625000</td>\n",
              "      <td>8</td>\n",
              "    </tr>\n",
              "    <tr>\n",
              "      <th>B01HIZF7XE</th>\n",
              "      <td>4.574468</td>\n",
              "      <td>47</td>\n",
              "      <td>4.574468</td>\n",
              "      <td>47</td>\n",
              "    </tr>\n",
              "    <tr>\n",
              "      <th>B01HIZGKOE</th>\n",
              "      <td>3.500000</td>\n",
              "      <td>6</td>\n",
              "      <td>3.500000</td>\n",
              "      <td>6</td>\n",
              "    </tr>\n",
              "  </tbody>\n",
              "</table>\n",
              "<p>17341 rows × 4 columns</p>\n",
              "</div>"
            ],
            "text/plain": [
              "             overall  reviewerID  avg_rating  Count\n",
              "asin                                               \n",
              "0700026398  3.125000           8    3.125000      8\n",
              "0700026657  3.692308          13    3.692308     13\n",
              "0700099867  3.300000          30    3.300000     30\n",
              "0804161380  4.816327          49    4.816327     49\n",
              "3828770193  4.333333           6    4.333333      6\n",
              "...              ...         ...         ...    ...\n",
              "B01HFRICLE  4.428571          14    4.428571     14\n",
              "B01HGPUTCA  4.600000           5    4.600000      5\n",
              "B01HH6JEOC  3.625000           8    3.625000      8\n",
              "B01HIZF7XE  4.574468          47    4.574468     47\n",
              "B01HIZGKOE  3.500000           6    3.500000      6\n",
              "\n",
              "[17341 rows x 4 columns]"
            ]
          },
          "metadata": {
            "tags": []
          },
          "execution_count": 11
        }
      ]
    },
    {
      "cell_type": "code",
      "metadata": {
        "id": "gBOEAwOKVrJR",
        "colab_type": "code",
        "colab": {}
      },
      "source": [
        "df5 = pd.merge(df3, df4, on=\"asin\", how='inner')"
      ],
      "execution_count": null,
      "outputs": []
    },
    {
      "cell_type": "code",
      "metadata": {
        "id": "4ODBaraQVrKz",
        "colab_type": "code",
        "colab": {}
      },
      "source": [
        "df5 = df5[[\"category\",\"title\",\"asin\",\"reviewerID_x\",\"overall_x\",\"reviewText\",\"summary\",\"avg_rating\",\"Count\",\"brand\",\"feature\",\"description\"]]"
      ],
      "execution_count": null,
      "outputs": []
    },
    {
      "cell_type": "code",
      "metadata": {
        "id": "OvXs8R1gVrDp",
        "colab_type": "code",
        "colab": {
          "base_uri": "https://localhost:8080/",
          "height": 289
        },
        "outputId": "4b6ec9d1-a291-4119-855f-0cc6d02a4239"
      },
      "source": [
        "df5.head()"
      ],
      "execution_count": null,
      "outputs": [
        {
          "output_type": "execute_result",
          "data": {
            "text/html": [
              "<div>\n",
              "<style scoped>\n",
              "    .dataframe tbody tr th:only-of-type {\n",
              "        vertical-align: middle;\n",
              "    }\n",
              "\n",
              "    .dataframe tbody tr th {\n",
              "        vertical-align: top;\n",
              "    }\n",
              "\n",
              "    .dataframe thead th {\n",
              "        text-align: right;\n",
              "    }\n",
              "</style>\n",
              "<table border=\"1\" class=\"dataframe\">\n",
              "  <thead>\n",
              "    <tr style=\"text-align: right;\">\n",
              "      <th></th>\n",
              "      <th>category</th>\n",
              "      <th>title</th>\n",
              "      <th>asin</th>\n",
              "      <th>reviewerID_x</th>\n",
              "      <th>overall_x</th>\n",
              "      <th>reviewText</th>\n",
              "      <th>summary</th>\n",
              "      <th>avg_rating</th>\n",
              "      <th>Count</th>\n",
              "      <th>brand</th>\n",
              "      <th>feature</th>\n",
              "      <th>description</th>\n",
              "    </tr>\n",
              "  </thead>\n",
              "  <tbody>\n",
              "    <tr>\n",
              "      <th>0</th>\n",
              "      <td>[Video Games, PC, Games]</td>\n",
              "      <td>Anno 2070</td>\n",
              "      <td>0700026657</td>\n",
              "      <td>A1HP7NVNPFMA4N</td>\n",
              "      <td>5.0</td>\n",
              "      <td>This game is a bit hard to get the hang of, bu...</td>\n",
              "      <td>but when you do it's great.</td>\n",
              "      <td>3.692308</td>\n",
              "      <td>13</td>\n",
              "      <td>Ubisoft</td>\n",
              "      <td>[A new era: while adhering to the fundamentals...</td>\n",
              "      <td>[ANNO 2070BRAND NEW - IN STOCKDVD Rom Software...</td>\n",
              "    </tr>\n",
              "    <tr>\n",
              "      <th>1</th>\n",
              "      <td>[Video Games, PC, Games]</td>\n",
              "      <td>Anno 2070</td>\n",
              "      <td>0700026657</td>\n",
              "      <td>A1JGAP0185YJI6</td>\n",
              "      <td>4.0</td>\n",
              "      <td>I played it a while but it was alright. The st...</td>\n",
              "      <td>But in spite of that it was fun, I liked it</td>\n",
              "      <td>3.692308</td>\n",
              "      <td>13</td>\n",
              "      <td>Ubisoft</td>\n",
              "      <td>[A new era: while adhering to the fundamentals...</td>\n",
              "      <td>[ANNO 2070BRAND NEW - IN STOCKDVD Rom Software...</td>\n",
              "    </tr>\n",
              "    <tr>\n",
              "      <th>2</th>\n",
              "      <td>[Video Games, PC, Games]</td>\n",
              "      <td>Anno 2070</td>\n",
              "      <td>0700026657</td>\n",
              "      <td>A1YJWEXHQBWK2B</td>\n",
              "      <td>3.0</td>\n",
              "      <td>ok game.</td>\n",
              "      <td>Three Stars</td>\n",
              "      <td>3.692308</td>\n",
              "      <td>13</td>\n",
              "      <td>Ubisoft</td>\n",
              "      <td>[A new era: while adhering to the fundamentals...</td>\n",
              "      <td>[ANNO 2070BRAND NEW - IN STOCKDVD Rom Software...</td>\n",
              "    </tr>\n",
              "    <tr>\n",
              "      <th>3</th>\n",
              "      <td>[Video Games, PC, Games]</td>\n",
              "      <td>Anno 2070</td>\n",
              "      <td>0700026657</td>\n",
              "      <td>A2204E1TH211HT</td>\n",
              "      <td>2.0</td>\n",
              "      <td>found the game a bit too complicated, not what...</td>\n",
              "      <td>Two Stars</td>\n",
              "      <td>3.692308</td>\n",
              "      <td>13</td>\n",
              "      <td>Ubisoft</td>\n",
              "      <td>[A new era: while adhering to the fundamentals...</td>\n",
              "      <td>[ANNO 2070BRAND NEW - IN STOCKDVD Rom Software...</td>\n",
              "    </tr>\n",
              "    <tr>\n",
              "      <th>4</th>\n",
              "      <td>[Video Games, PC, Games]</td>\n",
              "      <td>Anno 2070</td>\n",
              "      <td>0700026657</td>\n",
              "      <td>A2RF5B5H74JLPE</td>\n",
              "      <td>5.0</td>\n",
              "      <td>great game, I love it and have played it since...</td>\n",
              "      <td>love this game</td>\n",
              "      <td>3.692308</td>\n",
              "      <td>13</td>\n",
              "      <td>Ubisoft</td>\n",
              "      <td>[A new era: while adhering to the fundamentals...</td>\n",
              "      <td>[ANNO 2070BRAND NEW - IN STOCKDVD Rom Software...</td>\n",
              "    </tr>\n",
              "  </tbody>\n",
              "</table>\n",
              "</div>"
            ],
            "text/plain": [
              "                   category  ...                                        description\n",
              "0  [Video Games, PC, Games]  ...  [ANNO 2070BRAND NEW - IN STOCKDVD Rom Software...\n",
              "1  [Video Games, PC, Games]  ...  [ANNO 2070BRAND NEW - IN STOCKDVD Rom Software...\n",
              "2  [Video Games, PC, Games]  ...  [ANNO 2070BRAND NEW - IN STOCKDVD Rom Software...\n",
              "3  [Video Games, PC, Games]  ...  [ANNO 2070BRAND NEW - IN STOCKDVD Rom Software...\n",
              "4  [Video Games, PC, Games]  ...  [ANNO 2070BRAND NEW - IN STOCKDVD Rom Software...\n",
              "\n",
              "[5 rows x 12 columns]"
            ]
          },
          "metadata": {
            "tags": []
          },
          "execution_count": 14
        }
      ]
    },
    {
      "cell_type": "code",
      "metadata": {
        "id": "FEshl-6AV7Do",
        "colab_type": "code",
        "colab": {}
      },
      "source": [
        "df7 = df5.groupby(\"reviewerID_x\").agg({\"asin\":\"count\"})\n",
        "df7[\"user_count\"] = df7.asin"
      ],
      "execution_count": null,
      "outputs": []
    },
    {
      "cell_type": "code",
      "metadata": {
        "id": "1Sf4fQh4V7F9",
        "colab_type": "code",
        "colab": {}
      },
      "source": [
        "df6 = pd.merge(df5, df7, on=\"reviewerID_x\", how='inner')"
      ],
      "execution_count": null,
      "outputs": []
    },
    {
      "cell_type": "code",
      "metadata": {
        "id": "_qdEHVIo9_ON",
        "colab_type": "code",
        "colab": {
          "base_uri": "https://localhost:8080/",
          "height": 34
        },
        "outputId": "f8f6b348-b6de-47f1-beea-b02b1ef91552"
      },
      "source": [
        "df6.shape"
      ],
      "execution_count": null,
      "outputs": [
        {
          "output_type": "execute_result",
          "data": {
            "text/plain": [
              "(523317, 14)"
            ]
          },
          "metadata": {
            "tags": []
          },
          "execution_count": 17
        }
      ]
    },
    {
      "cell_type": "code",
      "metadata": {
        "id": "NPjc_3BXA45k",
        "colab_type": "code",
        "colab": {}
      },
      "source": [
        "df6.dropna(axis=0,how='all',inplace = True)"
      ],
      "execution_count": null,
      "outputs": []
    },
    {
      "cell_type": "code",
      "metadata": {
        "id": "otChuUZN-ETx",
        "colab_type": "code",
        "colab": {
          "base_uri": "https://localhost:8080/",
          "height": 34
        },
        "outputId": "5a599e9f-cc44-451e-c1ed-32294c5517e8"
      },
      "source": [
        "df6= df6.reset_index()\n",
        "df6.shape"
      ],
      "execution_count": null,
      "outputs": [
        {
          "output_type": "execute_result",
          "data": {
            "text/plain": [
              "(523317, 15)"
            ]
          },
          "metadata": {
            "tags": []
          },
          "execution_count": 19
        }
      ]
    },
    {
      "cell_type": "code",
      "metadata": {
        "id": "nESHDC103ZHm",
        "colab_type": "code",
        "colab": {}
      },
      "source": [
        "del(df2,df3,df4,df5,df7)"
      ],
      "execution_count": null,
      "outputs": []
    },
    {
      "cell_type": "code",
      "metadata": {
        "id": "xK7UNPdh5izc",
        "colab_type": "code",
        "colab": {
          "base_uri": "https://localhost:8080/",
          "height": 374
        },
        "outputId": "cfed9108-7fe1-446d-d4ab-99801a94dfd5"
      },
      "source": [
        "df6.head()"
      ],
      "execution_count": null,
      "outputs": [
        {
          "output_type": "execute_result",
          "data": {
            "text/html": [
              "<div>\n",
              "<style scoped>\n",
              "    .dataframe tbody tr th:only-of-type {\n",
              "        vertical-align: middle;\n",
              "    }\n",
              "\n",
              "    .dataframe tbody tr th {\n",
              "        vertical-align: top;\n",
              "    }\n",
              "\n",
              "    .dataframe thead th {\n",
              "        text-align: right;\n",
              "    }\n",
              "</style>\n",
              "<table border=\"1\" class=\"dataframe\">\n",
              "  <thead>\n",
              "    <tr style=\"text-align: right;\">\n",
              "      <th></th>\n",
              "      <th>index</th>\n",
              "      <th>category</th>\n",
              "      <th>title</th>\n",
              "      <th>asin_x</th>\n",
              "      <th>reviewerID_x</th>\n",
              "      <th>overall_x</th>\n",
              "      <th>reviewText</th>\n",
              "      <th>summary</th>\n",
              "      <th>avg_rating</th>\n",
              "      <th>Count</th>\n",
              "      <th>brand</th>\n",
              "      <th>feature</th>\n",
              "      <th>description</th>\n",
              "      <th>asin_y</th>\n",
              "      <th>user_count</th>\n",
              "    </tr>\n",
              "  </thead>\n",
              "  <tbody>\n",
              "    <tr>\n",
              "      <th>0</th>\n",
              "      <td>0</td>\n",
              "      <td>[Video Games, PC, Games]</td>\n",
              "      <td>Anno 2070</td>\n",
              "      <td>0700026657</td>\n",
              "      <td>A1HP7NVNPFMA4N</td>\n",
              "      <td>5.0</td>\n",
              "      <td>This game is a bit hard to get the hang of, bu...</td>\n",
              "      <td>but when you do it's great.</td>\n",
              "      <td>3.692308</td>\n",
              "      <td>13</td>\n",
              "      <td>Ubisoft</td>\n",
              "      <td>[A new era: while adhering to the fundamentals...</td>\n",
              "      <td>[ANNO 2070BRAND NEW - IN STOCKDVD Rom Software...</td>\n",
              "      <td>27</td>\n",
              "      <td>27</td>\n",
              "    </tr>\n",
              "    <tr>\n",
              "      <th>1</th>\n",
              "      <td>1</td>\n",
              "      <td>[Video Games, Retro Gaming &amp; Microconsoles, Ni...</td>\n",
              "      <td>Hexen</td>\n",
              "      <td>B00000JMWB</td>\n",
              "      <td>A1HP7NVNPFMA4N</td>\n",
              "      <td>5.0</td>\n",
              "      <td>This is great for the old school game lovers.</td>\n",
              "      <td>Five Stars</td>\n",
              "      <td>4.111111</td>\n",
              "      <td>18</td>\n",
              "      <td>by\\n    \\n    Atari</td>\n",
              "      <td>[hexen]</td>\n",
              "      <td>[Like New Condition! Cart Only. FAST &amp; FREE SH...</td>\n",
              "      <td>27</td>\n",
              "      <td>27</td>\n",
              "    </tr>\n",
              "    <tr>\n",
              "      <th>2</th>\n",
              "      <td>2</td>\n",
              "      <td>[Video Games, Retro Gaming &amp; Microconsoles, Ni...</td>\n",
              "      <td>Hexen</td>\n",
              "      <td>B00000JMWB</td>\n",
              "      <td>A1HP7NVNPFMA4N</td>\n",
              "      <td>5.0</td>\n",
              "      <td>This is great for the old school game lovers.</td>\n",
              "      <td>Five Stars</td>\n",
              "      <td>4.111111</td>\n",
              "      <td>18</td>\n",
              "      <td>by\\n    \\n    Atari</td>\n",
              "      <td>[hexen]</td>\n",
              "      <td>[Like New Condition! Cart Only. FAST &amp; FREE SH...</td>\n",
              "      <td>27</td>\n",
              "      <td>27</td>\n",
              "    </tr>\n",
              "    <tr>\n",
              "      <th>3</th>\n",
              "      <td>3</td>\n",
              "      <td>[Video Games, PC, Accessories, Controllers, Ga...</td>\n",
              "      <td>Logitech Dual Action Game Pad USB</td>\n",
              "      <td>B0000ALFCI</td>\n",
              "      <td>A1HP7NVNPFMA4N</td>\n",
              "      <td>2.0</td>\n",
              "      <td>This controller stemmed like a good idea, but ...</td>\n",
              "      <td>This controller stemmed like a good idea</td>\n",
              "      <td>3.525000</td>\n",
              "      <td>80</td>\n",
              "      <td>Logitech</td>\n",
              "      <td>[Start playing right away with plug-and-play c...</td>\n",
              "      <td>[Dual Gamepad,w/ Programmable Joysticks,Black/...</td>\n",
              "      <td>27</td>\n",
              "      <td>27</td>\n",
              "    </tr>\n",
              "    <tr>\n",
              "      <th>4</th>\n",
              "      <td>4</td>\n",
              "      <td>[Video Games, PC, Accessories, Controllers, Ga...</td>\n",
              "      <td>Logitech Dual Action Game Pad USB</td>\n",
              "      <td>B0000ALFCI</td>\n",
              "      <td>A1HP7NVNPFMA4N</td>\n",
              "      <td>2.0</td>\n",
              "      <td>This controller stemmed like a good idea, but ...</td>\n",
              "      <td>This controller stemmed like a good idea</td>\n",
              "      <td>3.525000</td>\n",
              "      <td>80</td>\n",
              "      <td>Logitech</td>\n",
              "      <td>[Start playing right away with plug-and-play c...</td>\n",
              "      <td>[Dual Gamepad,w/ Programmable Joysticks,Black/...</td>\n",
              "      <td>27</td>\n",
              "      <td>27</td>\n",
              "    </tr>\n",
              "  </tbody>\n",
              "</table>\n",
              "</div>"
            ],
            "text/plain": [
              "   index                                           category  ... asin_y user_count\n",
              "0      0                           [Video Games, PC, Games]  ...     27         27\n",
              "1      1  [Video Games, Retro Gaming & Microconsoles, Ni...  ...     27         27\n",
              "2      2  [Video Games, Retro Gaming & Microconsoles, Ni...  ...     27         27\n",
              "3      3  [Video Games, PC, Accessories, Controllers, Ga...  ...     27         27\n",
              "4      4  [Video Games, PC, Accessories, Controllers, Ga...  ...     27         27\n",
              "\n",
              "[5 rows x 15 columns]"
            ]
          },
          "metadata": {
            "tags": []
          },
          "execution_count": 21
        }
      ]
    },
    {
      "cell_type": "markdown",
      "metadata": {
        "id": "N4DuVkgGRRyZ",
        "colab_type": "text"
      },
      "source": [
        "# **EDA**"
      ]
    },
    {
      "cell_type": "code",
      "metadata": {
        "id": "C0lnm_5m8rec",
        "colab_type": "code",
        "colab": {}
      },
      "source": [
        "dframe = df6[df6.user_count >10].groupby(\"reviewerID_x\").agg({'overall_x':'mean'})"
      ],
      "execution_count": null,
      "outputs": []
    },
    {
      "cell_type": "code",
      "metadata": {
        "id": "80IdxG_6W4Yn",
        "colab_type": "code",
        "colab": {}
      },
      "source": [
        "t = dframe.users.value_counts()/dframe.shape[0]"
      ],
      "execution_count": null,
      "outputs": []
    },
    {
      "cell_type": "code",
      "metadata": {
        "id": "AQTa0EAfYrzY",
        "colab_type": "code",
        "colab": {
          "base_uri": "https://localhost:8080/",
          "height": 85
        },
        "outputId": "ef0c94cc-7f00-45b0-8cf1-b139a8c58327"
      },
      "source": [
        "t"
      ],
      "execution_count": null,
      "outputs": [
        {
          "output_type": "execute_result",
          "data": {
            "text/plain": [
              "lenient    0.513806\n",
              "critic     0.249559\n",
              "normal     0.236635\n",
              "Name: users, dtype: float64"
            ]
          },
          "metadata": {
            "tags": []
          },
          "execution_count": 214
        }
      ]
    },
    {
      "cell_type": "code",
      "metadata": {
        "id": "YkPQ2zZpWngn",
        "colab_type": "code",
        "colab": {}
      },
      "source": [
        "def get_bins(v):\n",
        "  if v >4.33:\n",
        "    return \"lenient\"\n",
        "  elif v >3.866:\n",
        "    return 'normal'\n",
        "  else:\n",
        "    return \"critic\"\n",
        "\n",
        "dframe[\"users\"] = dframe.overall_x.apply(get_bins)\n"
      ],
      "execution_count": null,
      "outputs": []
    },
    {
      "cell_type": "code",
      "metadata": {
        "id": "7wkla3A4YELy",
        "colab_type": "code",
        "colab": {
          "base_uri": "https://localhost:8080/",
          "height": 367
        },
        "outputId": "f98898ee-0afc-4da3-f2b1-37dac68ba516"
      },
      "source": [
        "import seaborn as sns\n",
        "import matplotlib.pyplot as plt\n",
        "fig, ax = plt.subplots(1,1,figsize=(5,5))\n",
        "sns.barplot(x = t.index , y=t, orient = \"v\",   )\n",
        "plt.xticks(rotation =0)\n",
        "plt.title(\"Distribution of users into various categories\")\n",
        "plt.xlabel(\"type of user\")"
      ],
      "execution_count": null,
      "outputs": [
        {
          "output_type": "execute_result",
          "data": {
            "text/plain": [
              "Text(0.5, 0, 'type of user')"
            ]
          },
          "metadata": {
            "tags": []
          },
          "execution_count": 217
        },
        {
          "output_type": "display_data",
          "data": {
            "image/png": "[encoded data removed]",
            "text/plain": [
              "<Figure size 360x360 with 1 Axes>"
            ]
          },
          "metadata": {
            "tags": [],
            "needs_background": "light"
          }
        }
      ]
    },
    {
      "cell_type": "code",
      "metadata": {
        "id": "ci-NV8Gz-lU-",
        "colab_type": "code",
        "colab": {}
      },
      "source": [
        "def get_data(df):\n",
        "  try:\n",
        "    df= re.sub('by\\n    \\n ','',df)\n",
        "    return df\n",
        "  except:\n",
        "    return 0\n",
        "df6['brand2'] = df.brand.apply(get_data)"
      ],
      "execution_count": null,
      "outputs": []
    },
    {
      "cell_type": "code",
      "metadata": {
        "id": "e58z_xDQ50FU",
        "colab_type": "code",
        "colab": {}
      },
      "source": [
        "def get_data(df):\n",
        "  try:\n",
        "    df= ','.join(df)\n",
        "    return df\n",
        "  except:\n",
        "    return 0\n",
        "df6['category2'] = df.category.apply(get_data)"
      ],
      "execution_count": null,
      "outputs": []
    },
    {
      "cell_type": "code",
      "metadata": {
        "id": "iSUUC7FG9j-E",
        "colab_type": "code",
        "colab": {}
      },
      "source": [
        "df2 = df6.brand2.value_counts()\n",
        "df2 = df2.sort_values(ascending = False)"
      ],
      "execution_count": null,
      "outputs": []
    },
    {
      "cell_type": "code",
      "metadata": {
        "id": "k569kSaaA8UI",
        "colab_type": "code",
        "colab": {}
      },
      "source": [
        "d={}\n",
        "def get_tran(df):\n",
        "  try:\n",
        "    for i in df:\n",
        "      if i in d:\n",
        "        d[i]+=1\n",
        "      else:\n",
        "        d[i]=1\n",
        "  except:\n",
        "    pass\n",
        "df = df.category.apply(get_tran)"
      ],
      "execution_count": null,
      "outputs": []
    },
    {
      "cell_type": "code",
      "metadata": {
        "id": "INKpRcOYEnaG",
        "colab_type": "code",
        "colab": {}
      },
      "source": [
        "del d[1]\n",
        "ls1 = [ i[0] for i in d[:50]]\n",
        "ls2 =[ i[1] for i in d[:50]]"
      ],
      "execution_count": null,
      "outputs": []
    },
    {
      "cell_type": "code",
      "metadata": {
        "id": "5LYGCNj_ECjR",
        "colab_type": "code",
        "colab": {}
      },
      "source": [
        "d = sorted(d.items(),key =lambda x : x[1], reverse = True)"
      ],
      "execution_count": null,
      "outputs": []
    },
    {
      "cell_type": "code",
      "metadata": {
        "id": "NPGlWDG3GZ-8",
        "colab_type": "code",
        "colab": {
          "base_uri": "https://localhost:8080/",
          "height": 527
        },
        "outputId": "56a95b1a-4692-4c68-c4d1-18182c59664d"
      },
      "source": [
        "import seaborn as sns\n",
        "import matplotlib.pyplot as plt\n",
        "fig, ax = plt.subplots(1,1,figsize=(15,5))\n",
        "sns.barplot(x = ls1 , y=ls2, orient = \"v\",  )\n",
        "plt.xticks(rotation =90)\n",
        "plt.title(\"Number of prducts per category(top 50)\")\n",
        "plt.ylabel('Number of prds')\n",
        "plt.xlabel(\"Category\")"
      ],
      "execution_count": null,
      "outputs": [
        {
          "output_type": "execute_result",
          "data": {
            "text/plain": [
              "Text(0.5, 0, 'Category')"
            ]
          },
          "metadata": {
            "tags": []
          },
          "execution_count": 175
        },
        {
          "output_type": "display_data",
          "data": {
            "image/png": "[encoded data removed]",
            "text/plain": [
              "<Figure size 1080x360 with 1 Axes>"
            ]
          },
          "metadata": {
            "tags": [],
            "needs_background": "light"
          }
        }
      ]
    },
    {
      "cell_type": "code",
      "metadata": {
        "id": "ywB9lUYB_L_r",
        "colab_type": "code",
        "colab": {
          "base_uri": "https://localhost:8080/",
          "height": 660
        },
        "outputId": "e24a8124-4976-40ce-a77f-e2d64b71543d"
      },
      "source": [
        "import seaborn as sns\n",
        "import matplotlib.pyplot as plt\n",
        "fig, ax = plt.subplots(1,1,figsize=(15,8))\n",
        "sns.barplot(x = df2[1:50].index , y=df2[1:50].values, orient = \"v\",  )\n",
        "plt.xticks(rotation =90)\n",
        "plt.title(\"Number of prducts per brand(top 50)\")\n",
        "plt.ylabel('Number of prds')\n",
        "plt.xlabel(\"Brand\")"
      ],
      "execution_count": null,
      "outputs": [
        {
          "output_type": "execute_result",
          "data": {
            "text/plain": [
              "Text(0.5, 0, 'Brand')"
            ]
          },
          "metadata": {
            "tags": []
          },
          "execution_count": 168
        },
        {
          "output_type": "display_data",
          "data": {
            "image/png": "[encoded data removed]",
            "text/plain": [
              "<Figure size 1080x576 with 1 Axes>"
            ]
          },
          "metadata": {
            "tags": [],
            "needs_background": "light"
          }
        }
      ]
    },
    {
      "cell_type": "code",
      "metadata": {
        "id": "UrltaHxLD3h_",
        "colab_type": "code",
        "colab": {}
      },
      "source": [
        "df6['info'] = df6.category  + df6.feature "
      ],
      "execution_count": null,
      "outputs": []
    },
    {
      "cell_type": "code",
      "metadata": {
        "id": "0U1gitTgD3VU",
        "colab_type": "code",
        "colab": {}
      },
      "source": [
        "def clean(i):\n",
        "  b = re.sub(\"\\n\", \"\",i)\n",
        "  b = re.sub(' ', '',b)\n",
        "  return b\n",
        "  df6.brand.loc[i]= b.split(' ')"
      ],
      "execution_count": null,
      "outputs": []
    },
    {
      "cell_type": "code",
      "metadata": {
        "id": "VVTOFru9aQw_",
        "colab_type": "code",
        "colab": {}
      },
      "source": [
        "df_user = df6.drop_duplicates(subset=[\"asin_x\",\"reviewerID_x\",\"user_count\"])\n",
        "df_user.reset_index(inplace = True)"
      ],
      "execution_count": null,
      "outputs": []
    },
    {
      "cell_type": "code",
      "metadata": {
        "id": "1e15857wSk5z",
        "colab_type": "code",
        "colab": {
          "base_uri": "https://localhost:8080/",
          "height": 170
        },
        "outputId": "b236422a-8fe0-40e3-ecf2-57c582d05c58"
      },
      "source": [
        "df_user.user_count.describe()"
      ],
      "execution_count": null,
      "outputs": [
        {
          "output_type": "execute_result",
          "data": {
            "text/plain": [
              "count    450055.000000\n",
              "mean         24.420395\n",
              "std          68.639648\n",
              "min           1.000000\n",
              "25%           6.000000\n",
              "50%          10.000000\n",
              "75%          19.000000\n",
              "max        1054.000000\n",
              "Name: user_count, dtype: float64"
            ]
          },
          "metadata": {
            "tags": []
          },
          "execution_count": 28
        }
      ]
    },
    {
      "cell_type": "code",
      "metadata": {
        "id": "tWW5BECIeBDg",
        "colab_type": "code",
        "colab": {
          "base_uri": "https://localhost:8080/",
          "height": 204
        },
        "outputId": "fae8f7c0-a0b1-4884-bbd8-048352ab11b0"
      },
      "source": [
        "df_user = df_user[[\"asin_x\",\"reviewerID_x\"]]\n",
        "df_user.head()\n"
      ],
      "execution_count": null,
      "outputs": [
        {
          "output_type": "execute_result",
          "data": {
            "text/html": [
              "<div>\n",
              "<style scoped>\n",
              "    .dataframe tbody tr th:only-of-type {\n",
              "        vertical-align: middle;\n",
              "    }\n",
              "\n",
              "    .dataframe tbody tr th {\n",
              "        vertical-align: top;\n",
              "    }\n",
              "\n",
              "    .dataframe thead th {\n",
              "        text-align: right;\n",
              "    }\n",
              "</style>\n",
              "<table border=\"1\" class=\"dataframe\">\n",
              "  <thead>\n",
              "    <tr style=\"text-align: right;\">\n",
              "      <th></th>\n",
              "      <th>asin_x</th>\n",
              "      <th>reviewerID_x</th>\n",
              "    </tr>\n",
              "  </thead>\n",
              "  <tbody>\n",
              "    <tr>\n",
              "      <th>0</th>\n",
              "      <td>0700026657</td>\n",
              "      <td>A1HP7NVNPFMA4N</td>\n",
              "    </tr>\n",
              "    <tr>\n",
              "      <th>1</th>\n",
              "      <td>B00000JMWB</td>\n",
              "      <td>A1HP7NVNPFMA4N</td>\n",
              "    </tr>\n",
              "    <tr>\n",
              "      <th>2</th>\n",
              "      <td>B0000ALFCI</td>\n",
              "      <td>A1HP7NVNPFMA4N</td>\n",
              "    </tr>\n",
              "    <tr>\n",
              "      <th>3</th>\n",
              "      <td>B0009VXBAQ</td>\n",
              "      <td>A1HP7NVNPFMA4N</td>\n",
              "    </tr>\n",
              "    <tr>\n",
              "      <th>4</th>\n",
              "      <td>B000B8J7K0</td>\n",
              "      <td>A1HP7NVNPFMA4N</td>\n",
              "    </tr>\n",
              "  </tbody>\n",
              "</table>\n",
              "</div>"
            ],
            "text/plain": [
              "       asin_x    reviewerID_x\n",
              "0  0700026657  A1HP7NVNPFMA4N\n",
              "1  B00000JMWB  A1HP7NVNPFMA4N\n",
              "2  B0000ALFCI  A1HP7NVNPFMA4N\n",
              "3  B0009VXBAQ  A1HP7NVNPFMA4N\n",
              "4  B000B8J7K0  A1HP7NVNPFMA4N"
            ]
          },
          "metadata": {
            "tags": []
          },
          "execution_count": 29
        }
      ]
    },
    {
      "cell_type": "code",
      "metadata": {
        "id": "NuR-sMLAekgk",
        "colab_type": "code",
        "colab": {}
      },
      "source": [
        "user_list ={}\n",
        "for i in range(df_user.shape[0]):\n",
        "  if df_user.reviewerID_x.loc[i] in user_list:\n",
        "    user_list[df_user.reviewerID_x.loc[i]].append(df_user.asin_x.loc[i])\n",
        "  else:\n",
        "    user_list[df_user.reviewerID_x.loc[i]] = [df_user.asin_x.loc[i]]\n"
      ],
      "execution_count": null,
      "outputs": []
    },
    {
      "cell_type": "code",
      "metadata": {
        "id": "kv09glcwTHgP",
        "colab_type": "code",
        "colab": {}
      },
      "source": [
        "df_prd = df6.drop_duplicates(subset=[\"asin_x\",\"Count\"])"
      ],
      "execution_count": null,
      "outputs": []
    },
    {
      "cell_type": "code",
      "metadata": {
        "id": "Z-mslg1qTObN",
        "colab_type": "code",
        "colab": {
          "base_uri": "https://localhost:8080/",
          "height": 170
        },
        "outputId": "ebdd3af3-6bb2-4d08-ee1e-4f4154375e17"
      },
      "source": [
        "df_prd.Count.describe()"
      ],
      "execution_count": null,
      "outputs": [
        {
          "output_type": "execute_result",
          "data": {
            "text/plain": [
              "count    17341.000000\n",
              "mean        30.178017\n",
              "std         51.755784\n",
              "min          1.000000\n",
              "25%          8.000000\n",
              "50%         14.000000\n",
              "75%         30.000000\n",
              "max        806.000000\n",
              "Name: Count, dtype: float64"
            ]
          },
          "metadata": {
            "tags": []
          },
          "execution_count": 32
        }
      ]
    },
    {
      "cell_type": "code",
      "metadata": {
        "id": "C6zdGZTPYm_S",
        "colab_type": "code",
        "colab": {
          "base_uri": "https://localhost:8080/",
          "height": 34
        },
        "outputId": "ef2fb867-fd57-4381-ea86-29850e088d4b"
      },
      "source": [
        "df6.shape"
      ],
      "execution_count": null,
      "outputs": [
        {
          "output_type": "execute_result",
          "data": {
            "text/plain": [
              "(523317, 16)"
            ]
          },
          "metadata": {
            "tags": []
          },
          "execution_count": 33
        }
      ]
    },
    {
      "cell_type": "code",
      "metadata": {
        "id": "l9M4HNHb_E1O",
        "colab_type": "code",
        "colab": {}
      },
      "source": [
        "df6.loc[df6['info'].isnull(),'info']=\"\""
      ],
      "execution_count": null,
      "outputs": []
    },
    {
      "cell_type": "code",
      "metadata": {
        "id": "RCPU_w1H-K-G",
        "colab_type": "code",
        "colab": {}
      },
      "source": [
        "df6[\"data\"] = df6[\"info\"].apply(lambda x: \" \".join(x))"
      ],
      "execution_count": null,
      "outputs": []
    },
    {
      "cell_type": "code",
      "metadata": {
        "id": "KcMGasaB63cM",
        "colab_type": "code",
        "colab": {}
      },
      "source": [
        "df6.drop_duplicates(subset =[\"asin_x\", \"data\"], inplace = True)"
      ],
      "execution_count": null,
      "outputs": []
    },
    {
      "cell_type": "code",
      "metadata": {
        "id": "md1cFKK3AMn7",
        "colab_type": "code",
        "colab": {
          "base_uri": "https://localhost:8080/",
          "height": 34
        },
        "outputId": "ee4fb040-823f-43cb-c07e-7f1d99f90f85"
      },
      "source": [
        "df6.shape"
      ],
      "execution_count": null,
      "outputs": [
        {
          "output_type": "execute_result",
          "data": {
            "text/plain": [
              "(17341, 17)"
            ]
          },
          "metadata": {
            "tags": []
          },
          "execution_count": 37
        }
      ]
    },
    {
      "cell_type": "code",
      "metadata": {
        "id": "Wlv-OXZpSeT7",
        "colab_type": "code",
        "colab": {
          "base_uri": "https://localhost:8080/",
          "height": 51
        },
        "outputId": "b3d70c3e-524c-496d-b41c-ff89cfe6df7a"
      },
      "source": [
        "!pip install nltk"
      ],
      "execution_count": null,
      "outputs": [
        {
          "output_type": "stream",
          "text": [
            "Requirement already satisfied: nltk in /usr/local/lib/python3.6/dist-packages (3.2.5)\n",
            "Requirement already satisfied: six in /usr/local/lib/python3.6/dist-packages (from nltk) (1.12.0)\n"
          ],
          "name": "stdout"
        }
      ]
    },
    {
      "cell_type": "code",
      "metadata": {
        "id": "n2Q1RaXwT2sF",
        "colab_type": "code",
        "colab": {
          "base_uri": "https://localhost:8080/",
          "height": 68
        },
        "outputId": "d3a1801a-4126-42c9-8108-00f83e7f06aa"
      },
      "source": [
        "import nltk\n",
        "nltk.download('wordnet')"
      ],
      "execution_count": null,
      "outputs": [
        {
          "output_type": "stream",
          "text": [
            "[nltk_data] Downloading package wordnet to /root/nltk_data...\n",
            "[nltk_data]   Unzipping corpora/wordnet.zip.\n"
          ],
          "name": "stdout"
        },
        {
          "output_type": "execute_result",
          "data": {
            "text/plain": [
              "True"
            ]
          },
          "metadata": {
            "tags": []
          },
          "execution_count": 39
        }
      ]
    },
    {
      "cell_type": "markdown",
      "metadata": {
        "id": "vk5DwcFHRjI-",
        "colab_type": "text"
      },
      "source": [
        "# **Modelling**"
      ]
    },
    {
      "cell_type": "code",
      "metadata": {
        "id": "8mcSuYD7RjxQ",
        "colab_type": "code",
        "colab": {}
      },
      "source": [
        "from nltk.stem import WordNetLemmatizer\n",
        "lemmatizer = WordNetLemmatizer()\n",
        "def get_data(df):\n",
        "    word_list = df.split(\" \")\n",
        "    new_wrd_list =  [lemmatizer.lemmatize(i) for i in word_list]\n",
        "    return ' '.join(new_wrd_list)\n",
        "df6[\"clean_data\"] = df6[\"data\"].apply(get_data)"
      ],
      "execution_count": null,
      "outputs": []
    },
    {
      "cell_type": "code",
      "metadata": {
        "id": "HT4rBNQqYvXp",
        "colab_type": "code",
        "colab": {}
      },
      "source": [
        "'''reviews = df6[\"data\"] \n",
        "countVector = CountVectorizer(max_features = 300, stop_words='english',) \n",
        "transformedReviews = countVector.fit_transform(reviews) \n",
        "\n",
        "dfReviews = pd.DataFrame(transformedReviews.A, columns=countVector.get_feature_names())\n",
        "dfReviews = dfReviews.astype(int)'''"
      ],
      "execution_count": null,
      "outputs": []
    },
    {
      "cell_type": "code",
      "metadata": {
        "id": "Txbcbb8jZ4o4",
        "colab_type": "code",
        "colab": {}
      },
      "source": [
        ""
      ],
      "execution_count": null,
      "outputs": []
    },
    {
      "cell_type": "code",
      "metadata": {
        "id": "gMDuRfDmaIIi",
        "colab_type": "code",
        "colab": {}
      },
      "source": [
        ""
      ],
      "execution_count": null,
      "outputs": []
    },
    {
      "cell_type": "code",
      "metadata": {
        "id": "meFW0gxnf2nZ",
        "colab_type": "code",
        "colab": {}
      },
      "source": [
        "from tqdm.notebook import tqdm"
      ],
      "execution_count": null,
      "outputs": []
    },
    {
      "cell_type": "code",
      "metadata": {
        "id": "_8NOxeeM1tVq",
        "colab_type": "code",
        "colab": {}
      },
      "source": [
        "tf = TfidfVectorizer(analyzer='word',ngram_range=(1, 2),min_df=0, stop_words='english')\n",
        "tfidf_matrix = tf.fit_transform(df6['clean_data'])"
      ],
      "execution_count": null,
      "outputs": []
    },
    {
      "cell_type": "code",
      "metadata": {
        "id": "yYYaCW5ZgX8C",
        "colab_type": "code",
        "colab": {}
      },
      "source": [
        "df6.reset_index(inplace = True)"
      ],
      "execution_count": null,
      "outputs": []
    },
    {
      "cell_type": "code",
      "metadata": {
        "id": "LVW5NwfQifjN",
        "colab_type": "code",
        "colab": {
          "base_uri": "https://localhost:8080/",
          "height": 581
        },
        "outputId": "4af3be39-1916-415e-daa2-a56a3ea0f55e"
      },
      "source": [
        "df6.head()"
      ],
      "execution_count": null,
      "outputs": [
        {
          "output_type": "execute_result",
          "data": {
            "text/html": [
              "<div>\n",
              "<style scoped>\n",
              "    .dataframe tbody tr th:only-of-type {\n",
              "        vertical-align: middle;\n",
              "    }\n",
              "\n",
              "    .dataframe tbody tr th {\n",
              "        vertical-align: top;\n",
              "    }\n",
              "\n",
              "    .dataframe thead th {\n",
              "        text-align: right;\n",
              "    }\n",
              "</style>\n",
              "<table border=\"1\" class=\"dataframe\">\n",
              "  <thead>\n",
              "    <tr style=\"text-align: right;\">\n",
              "      <th></th>\n",
              "      <th>level_0</th>\n",
              "      <th>index</th>\n",
              "      <th>category</th>\n",
              "      <th>title</th>\n",
              "      <th>asin_x</th>\n",
              "      <th>reviewerID_x</th>\n",
              "      <th>overall_x</th>\n",
              "      <th>reviewText</th>\n",
              "      <th>summary</th>\n",
              "      <th>avg_rating</th>\n",
              "      <th>Count</th>\n",
              "      <th>brand</th>\n",
              "      <th>feature</th>\n",
              "      <th>description</th>\n",
              "      <th>asin_y</th>\n",
              "      <th>user_count</th>\n",
              "      <th>info</th>\n",
              "      <th>data</th>\n",
              "      <th>clean_data</th>\n",
              "    </tr>\n",
              "  </thead>\n",
              "  <tbody>\n",
              "    <tr>\n",
              "      <th>0</th>\n",
              "      <td>0</td>\n",
              "      <td>0</td>\n",
              "      <td>[Video Games, PC, Games]</td>\n",
              "      <td>Anno 2070</td>\n",
              "      <td>0700026657</td>\n",
              "      <td>A1HP7NVNPFMA4N</td>\n",
              "      <td>5.0</td>\n",
              "      <td>This game is a bit hard to get the hang of, bu...</td>\n",
              "      <td>but when you do it's great.</td>\n",
              "      <td>3.692308</td>\n",
              "      <td>13</td>\n",
              "      <td>Ubisoft</td>\n",
              "      <td>[A new era: while adhering to the fundamentals...</td>\n",
              "      <td>[ANNO 2070BRAND NEW - IN STOCKDVD Rom Software...</td>\n",
              "      <td>27</td>\n",
              "      <td>27</td>\n",
              "      <td>[Video Games, PC, Games, A new era: while adhe...</td>\n",
              "      <td>Video Games PC Games A new era: while adhering...</td>\n",
              "      <td>Video Games PC Games A new era: while adhering...</td>\n",
              "    </tr>\n",
              "    <tr>\n",
              "      <th>1</th>\n",
              "      <td>1</td>\n",
              "      <td>1</td>\n",
              "      <td>[Video Games, Retro Gaming &amp; Microconsoles, Ni...</td>\n",
              "      <td>Hexen</td>\n",
              "      <td>B00000JMWB</td>\n",
              "      <td>A1HP7NVNPFMA4N</td>\n",
              "      <td>5.0</td>\n",
              "      <td>This is great for the old school game lovers.</td>\n",
              "      <td>Five Stars</td>\n",
              "      <td>4.111111</td>\n",
              "      <td>18</td>\n",
              "      <td>by\\n    \\n    Atari</td>\n",
              "      <td>[hexen]</td>\n",
              "      <td>[Like New Condition! Cart Only. FAST &amp; FREE SH...</td>\n",
              "      <td>27</td>\n",
              "      <td>27</td>\n",
              "      <td>[Video Games, Retro Gaming &amp; Microconsoles, Ni...</td>\n",
              "      <td>Video Games Retro Gaming &amp; Microconsoles Ninte...</td>\n",
              "      <td>Video Games Retro Gaming &amp; Microconsoles Ninte...</td>\n",
              "    </tr>\n",
              "    <tr>\n",
              "      <th>2</th>\n",
              "      <td>3</td>\n",
              "      <td>3</td>\n",
              "      <td>[Video Games, PC, Accessories, Controllers, Ga...</td>\n",
              "      <td>Logitech Dual Action Game Pad USB</td>\n",
              "      <td>B0000ALFCI</td>\n",
              "      <td>A1HP7NVNPFMA4N</td>\n",
              "      <td>2.0</td>\n",
              "      <td>This controller stemmed like a good idea, but ...</td>\n",
              "      <td>This controller stemmed like a good idea</td>\n",
              "      <td>3.525000</td>\n",
              "      <td>80</td>\n",
              "      <td>Logitech</td>\n",
              "      <td>[Start playing right away with plug-and-play c...</td>\n",
              "      <td>[Dual Gamepad,w/ Programmable Joysticks,Black/...</td>\n",
              "      <td>27</td>\n",
              "      <td>27</td>\n",
              "      <td>[Video Games, PC, Accessories, Controllers, Ga...</td>\n",
              "      <td>Video Games PC Accessories Controllers Gamepad...</td>\n",
              "      <td>Video Games PC Accessories Controllers Gamepad...</td>\n",
              "    </tr>\n",
              "    <tr>\n",
              "      <th>3</th>\n",
              "      <td>5</td>\n",
              "      <td>5</td>\n",
              "      <td>[Video Games, Wii]</td>\n",
              "      <td>Wii</td>\n",
              "      <td>B0009VXBAQ</td>\n",
              "      <td>A1HP7NVNPFMA4N</td>\n",
              "      <td>5.0</td>\n",
              "      <td>I love the wii. it's always been one of my fav...</td>\n",
              "      <td>I love the wii</td>\n",
              "      <td>4.483307</td>\n",
              "      <td>629</td>\n",
              "      <td>Nintendo</td>\n",
              "      <td>[With motion-control technology, the gamer can...</td>\n",
              "      <td>[The Wii console brings a revolution of intera...</td>\n",
              "      <td>27</td>\n",
              "      <td>27</td>\n",
              "      <td>[Video Games, Wii, With motion-control technol...</td>\n",
              "      <td>Video Games Wii With motion-control technology...</td>\n",
              "      <td>Video Games Wii With motion-control technology...</td>\n",
              "    </tr>\n",
              "    <tr>\n",
              "      <th>4</th>\n",
              "      <td>6</td>\n",
              "      <td>6</td>\n",
              "      <td>[Video Games, Nintendo DS, Games, , Players us...</td>\n",
              "      <td>Mario &amp; Luigi: Partners In Time</td>\n",
              "      <td>B000B8J7K0</td>\n",
              "      <td>A1HP7NVNPFMA4N</td>\n",
              "      <td>3.0</td>\n",
              "      <td>I didn't the game. I was sold a false version ...</td>\n",
              "      <td>whoever is making them is doing a very good jo...</td>\n",
              "      <td>4.333333</td>\n",
              "      <td>48</td>\n",
              "      <td>by\\n    \\n    Nintendo</td>\n",
              "      <td>NaN</td>\n",
              "      <td>[Mario and Luigi: Partners In Time an insane s...</td>\n",
              "      <td>27</td>\n",
              "      <td>27</td>\n",
              "      <td></td>\n",
              "      <td></td>\n",
              "      <td></td>\n",
              "    </tr>\n",
              "  </tbody>\n",
              "</table>\n",
              "</div>"
            ],
            "text/plain": [
              "   level_0  ...                                         clean_data\n",
              "0        0  ...  Video Games PC Games A new era: while adhering...\n",
              "1        1  ...  Video Games Retro Gaming & Microconsoles Ninte...\n",
              "2        3  ...  Video Games PC Accessories Controllers Gamepad...\n",
              "3        5  ...  Video Games Wii With motion-control technology...\n",
              "4        6  ...                                                   \n",
              "\n",
              "[5 rows x 19 columns]"
            ]
          },
          "metadata": {
            "tags": []
          },
          "execution_count": 44
        }
      ]
    },
    {
      "cell_type": "code",
      "metadata": {
        "id": "DAJJJzqghkat",
        "colab_type": "code",
        "colab": {}
      },
      "source": [
        "\n",
        "indices = pd.Series(df6.index, index=df6['asin_x'])"
      ],
      "execution_count": null,
      "outputs": []
    },
    {
      "cell_type": "code",
      "metadata": {
        "id": "xk733gxMiWTg",
        "colab_type": "code",
        "colab": {
          "base_uri": "https://localhost:8080/",
          "height": 136
        },
        "outputId": "c113e863-e9be-4585-de7d-52260f4f4b0b"
      },
      "source": [
        "indices.head()"
      ],
      "execution_count": null,
      "outputs": [
        {
          "output_type": "execute_result",
          "data": {
            "text/plain": [
              "asin_x\n",
              "0700026657    0\n",
              "B00000JMWB    1\n",
              "B0000ALFCI    2\n",
              "B0009VXBAQ    3\n",
              "B000B8J7K0    4\n",
              "dtype: int64"
            ]
          },
          "metadata": {
            "tags": []
          },
          "execution_count": 46
        }
      ]
    },
    {
      "cell_type": "code",
      "metadata": {
        "id": "xl-Kswn8XWaV",
        "colab_type": "code",
        "colab": {
          "base_uri": "https://localhost:8080/",
          "height": 119
        },
        "outputId": "78e668c2-6458-419f-8875-9592ca3bf8d3"
      },
      "source": [
        "indices.index"
      ],
      "execution_count": null,
      "outputs": [
        {
          "output_type": "execute_result",
          "data": {
            "text/plain": [
              "Index(['0700026657', 'B00000JMWB', 'B0000ALFCI', 'B0009VXBAQ', 'B000B8J7K0',\n",
              "       'B000FQ9QVI', 'B000P5BSUQ', 'B0018QOWEU', 'B0019R3O7E', 'B0019R4VCQ',\n",
              "       ...\n",
              "       'B0153XHRPY', 'B01AWM9Y48', 'B01DW8AGLO', 'B016WRQCKQ', 'B00NUIFZN6',\n",
              "       'B00XWE53XA', 'B01GYYB5O0', 'B014P7QI6I', 'B00MEXP33U', 'B016K3SI0O'],\n",
              "      dtype='object', name='asin_x', length=17341)"
            ]
          },
          "metadata": {
            "tags": []
          },
          "execution_count": 47
        }
      ]
    },
    {
      "cell_type": "code",
      "metadata": {
        "id": "s2RGU66bWR5i",
        "colab_type": "code",
        "colab": {}
      },
      "source": [
        "#indices.loc['B00000JMWB']"
      ],
      "execution_count": null,
      "outputs": []
    },
    {
      "cell_type": "code",
      "metadata": {
        "id": "7WE9O2BMWqSr",
        "colab_type": "code",
        "colab": {}
      },
      "source": [
        ""
      ],
      "execution_count": null,
      "outputs": []
    },
    {
      "cell_type": "code",
      "metadata": {
        "id": "eCszdJ25BN7o",
        "colab_type": "code",
        "colab": {}
      },
      "source": [
        "from sklearn.metrics.pairwise import linear_kernel, cosine_similarity\n",
        "cosine_sim = linear_kernel(tfidf_matrix, tfidf_matrix)"
      ],
      "execution_count": null,
      "outputs": []
    },
    {
      "cell_type": "code",
      "metadata": {
        "id": "z9X-IHA_hDbE",
        "colab_type": "code",
        "colab": {}
      },
      "source": [
        "asin_to_title = dict(zip(df6.asin_x, df6.title))\n",
        "asin_to_avgscore = dict(zip(df6.asin_x, df6.avg_rating))"
      ],
      "execution_count": null,
      "outputs": []
    },
    {
      "cell_type": "code",
      "metadata": {
        "id": "-LrD6wU8BOJx",
        "colab_type": "code",
        "colab": {
          "base_uri": "https://localhost:8080/",
          "height": 34
        },
        "outputId": "558f2c7d-bd2d-4736-d6a4-f67f71ab9f0b"
      },
      "source": [
        "cosine_sim.shape"
      ],
      "execution_count": null,
      "outputs": [
        {
          "output_type": "execute_result",
          "data": {
            "text/plain": [
              "(17341, 17341)"
            ]
          },
          "metadata": {
            "tags": []
          },
          "execution_count": 50
        }
      ]
    },
    {
      "cell_type": "code",
      "metadata": {
        "id": "dA7ol4gFOVSa",
        "colab_type": "code",
        "colab": {
          "base_uri": "https://localhost:8080/",
          "height": 238
        },
        "outputId": "ccb057d1-cc1b-489d-cd78-e755e7510895"
      },
      "source": [
        "cosine_sim"
      ],
      "execution_count": null,
      "outputs": [
        {
          "output_type": "execute_result",
          "data": {
            "text/plain": [
              "array([[1.        , 0.00387282, 0.00400299, ..., 0.        , 0.00255822,\n",
              "        0.0125447 ],\n",
              "       [0.00387282, 1.        , 0.0021496 , ..., 0.        , 0.00512311,\n",
              "        0.00660784],\n",
              "       [0.00400299, 0.0021496 , 1.        , ..., 0.        , 0.00650716,\n",
              "        0.00219275],\n",
              "       ...,\n",
              "       [0.        , 0.        , 0.        , ..., 0.        , 0.        ,\n",
              "        0.        ],\n",
              "       [0.00255822, 0.00512311, 0.00650716, ..., 0.        , 1.        ,\n",
              "        0.00167033],\n",
              "       [0.0125447 , 0.00660784, 0.00219275, ..., 0.        , 0.00167033,\n",
              "        1.        ]])"
            ]
          },
          "metadata": {
            "tags": []
          },
          "execution_count": 51
        }
      ]
    },
    {
      "cell_type": "code",
      "metadata": {
        "id": "Oww5lzsZW8sx",
        "colab_type": "code",
        "colab": {}
      },
      "source": [
        "df = pd.DataFrame(data=cosine_sim, index=indices.index, columns=indices.index)\n"
      ],
      "execution_count": null,
      "outputs": []
    },
    {
      "cell_type": "code",
      "metadata": {
        "id": "RJ2cc01sXg1X",
        "colab_type": "code",
        "colab": {
          "base_uri": "https://localhost:8080/",
          "height": 284
        },
        "outputId": "a7c5ee5e-37da-4d36-b843-118e78daf421"
      },
      "source": [
        "df.head()"
      ],
      "execution_count": null,
      "outputs": [
        {
          "output_type": "execute_result",
          "data": {
            "text/html": [
              "<div>\n",
              "<style scoped>\n",
              "    .dataframe tbody tr th:only-of-type {\n",
              "        vertical-align: middle;\n",
              "    }\n",
              "\n",
              "    .dataframe tbody tr th {\n",
              "        vertical-align: top;\n",
              "    }\n",
              "\n",
              "    .dataframe thead th {\n",
              "        text-align: right;\n",
              "    }\n",
              "</style>\n",
              "<table border=\"1\" class=\"dataframe\">\n",
              "  <thead>\n",
              "    <tr style=\"text-align: right;\">\n",
              "      <th>asin_x</th>\n",
              "      <th>0700026657</th>\n",
              "      <th>B00000JMWB</th>\n",
              "      <th>B0000ALFCI</th>\n",
              "      <th>B0009VXBAQ</th>\n",
              "      <th>B000B8J7K0</th>\n",
              "      <th>B000FQ9QVI</th>\n",
              "      <th>B000P5BSUQ</th>\n",
              "      <th>B0018QOWEU</th>\n",
              "      <th>B0019R3O7E</th>\n",
              "      <th>B0019R4VCQ</th>\n",
              "      <th>B001L1RZ32</th>\n",
              "      <th>B00282WKEW</th>\n",
              "      <th>B002AB7TX8</th>\n",
              "      <th>B002BXKJA0</th>\n",
              "      <th>B002GEKIOG</th>\n",
              "      <th>B003YLWJLA</th>\n",
              "      <th>B004X56PWK</th>\n",
              "      <th>B0053B5RGI</th>\n",
              "      <th>B005EYRAUK</th>\n",
              "      <th>B005EZ5GNW</th>\n",
              "      <th>B006JKASAC</th>\n",
              "      <th>B00737H0KQ</th>\n",
              "      <th>B00AYABWYE</th>\n",
              "      <th>B00CH923NE</th>\n",
              "      <th>B00L4KVO78</th>\n",
              "      <th>B00001N2OM</th>\n",
              "      <th>B00002SUHI</th>\n",
              "      <th>B00002SVBV</th>\n",
              "      <th>B00004DSDE</th>\n",
              "      <th>B00004T77P</th>\n",
              "      <th>B00004U55G</th>\n",
              "      <th>B00004ZB2I</th>\n",
              "      <th>B00005AG1J</th>\n",
              "      <th>B0000899ZX</th>\n",
              "      <th>B00008JOLW</th>\n",
              "      <th>B00009THMU</th>\n",
              "      <th>B0000C0YW2</th>\n",
              "      <th>B0000C0YNT</th>\n",
              "      <th>B0000D12XH</th>\n",
              "      <th>B0000E2XEG</th>\n",
              "      <th>...</th>\n",
              "      <th>B00QDHPVS0</th>\n",
              "      <th>B00PYWLXH8</th>\n",
              "      <th>B00I6A7C7A</th>\n",
              "      <th>B00OXT577K</th>\n",
              "      <th>B00H0GGPNI</th>\n",
              "      <th>B00Q53IWHE</th>\n",
              "      <th>B00YZ4E3YG</th>\n",
              "      <th>B00LMI0LVM</th>\n",
              "      <th>B00DDCBOUC</th>\n",
              "      <th>B01GKH5QZ0</th>\n",
              "      <th>B01A8LQGCQ</th>\n",
              "      <th>B01D0G4DU8</th>\n",
              "      <th>B01H0TGLBU</th>\n",
              "      <th>B015GCU8XK</th>\n",
              "      <th>B013HJ77U6</th>\n",
              "      <th>B00GP2FH1O</th>\n",
              "      <th>B01FWYIYNI</th>\n",
              "      <th>B0155VB214</th>\n",
              "      <th>B00VKPL5LC</th>\n",
              "      <th>B00LWH3HMI</th>\n",
              "      <th>B01BRMDSMQ</th>\n",
              "      <th>B01EYCLJ04</th>\n",
              "      <th>B00SCQF9TG</th>\n",
              "      <th>B013HJ7CII</th>\n",
              "      <th>B00NQT47YM</th>\n",
              "      <th>B00IIYN746</th>\n",
              "      <th>B010OXC93I</th>\n",
              "      <th>B00LVRXS8C</th>\n",
              "      <th>B00XEXQTHI</th>\n",
              "      <th>B00ZAV2KC0</th>\n",
              "      <th>B0153XHRPY</th>\n",
              "      <th>B01AWM9Y48</th>\n",
              "      <th>B01DW8AGLO</th>\n",
              "      <th>B016WRQCKQ</th>\n",
              "      <th>B00NUIFZN6</th>\n",
              "      <th>B00XWE53XA</th>\n",
              "      <th>B01GYYB5O0</th>\n",
              "      <th>B014P7QI6I</th>\n",
              "      <th>B00MEXP33U</th>\n",
              "      <th>B016K3SI0O</th>\n",
              "    </tr>\n",
              "    <tr>\n",
              "      <th>asin_x</th>\n",
              "      <th></th>\n",
              "      <th></th>\n",
              "      <th></th>\n",
              "      <th></th>\n",
              "      <th></th>\n",
              "      <th></th>\n",
              "      <th></th>\n",
              "      <th></th>\n",
              "      <th></th>\n",
              "      <th></th>\n",
              "      <th></th>\n",
              "      <th></th>\n",
              "      <th></th>\n",
              "      <th></th>\n",
              "      <th></th>\n",
              "      <th></th>\n",
              "      <th></th>\n",
              "      <th></th>\n",
              "      <th></th>\n",
              "      <th></th>\n",
              "      <th></th>\n",
              "      <th></th>\n",
              "      <th></th>\n",
              "      <th></th>\n",
              "      <th></th>\n",
              "      <th></th>\n",
              "      <th></th>\n",
              "      <th></th>\n",
              "      <th></th>\n",
              "      <th></th>\n",
              "      <th></th>\n",
              "      <th></th>\n",
              "      <th></th>\n",
              "      <th></th>\n",
              "      <th></th>\n",
              "      <th></th>\n",
              "      <th></th>\n",
              "      <th></th>\n",
              "      <th></th>\n",
              "      <th></th>\n",
              "      <th></th>\n",
              "      <th></th>\n",
              "      <th></th>\n",
              "      <th></th>\n",
              "      <th></th>\n",
              "      <th></th>\n",
              "      <th></th>\n",
              "      <th></th>\n",
              "      <th></th>\n",
              "      <th></th>\n",
              "      <th></th>\n",
              "      <th></th>\n",
              "      <th></th>\n",
              "      <th></th>\n",
              "      <th></th>\n",
              "      <th></th>\n",
              "      <th></th>\n",
              "      <th></th>\n",
              "      <th></th>\n",
              "      <th></th>\n",
              "      <th></th>\n",
              "      <th></th>\n",
              "      <th></th>\n",
              "      <th></th>\n",
              "      <th></th>\n",
              "      <th></th>\n",
              "      <th></th>\n",
              "      <th></th>\n",
              "      <th></th>\n",
              "      <th></th>\n",
              "      <th></th>\n",
              "      <th></th>\n",
              "      <th></th>\n",
              "      <th></th>\n",
              "      <th></th>\n",
              "      <th></th>\n",
              "      <th></th>\n",
              "      <th></th>\n",
              "      <th></th>\n",
              "      <th></th>\n",
              "      <th></th>\n",
              "    </tr>\n",
              "  </thead>\n",
              "  <tbody>\n",
              "    <tr>\n",
              "      <th>0700026657</th>\n",
              "      <td>1.000000</td>\n",
              "      <td>0.003873</td>\n",
              "      <td>0.004003</td>\n",
              "      <td>0.012212</td>\n",
              "      <td>0.0</td>\n",
              "      <td>0.022866</td>\n",
              "      <td>0.033497</td>\n",
              "      <td>0.001524</td>\n",
              "      <td>0.009081</td>\n",
              "      <td>0.011354</td>\n",
              "      <td>0.011768</td>\n",
              "      <td>0.002842</td>\n",
              "      <td>0.027521</td>\n",
              "      <td>0.008307</td>\n",
              "      <td>0.001162</td>\n",
              "      <td>0.005826</td>\n",
              "      <td>0.006697</td>\n",
              "      <td>0.018209</td>\n",
              "      <td>0.006502</td>\n",
              "      <td>0.001589</td>\n",
              "      <td>0.005756</td>\n",
              "      <td>0.000579</td>\n",
              "      <td>0.012661</td>\n",
              "      <td>0.019270</td>\n",
              "      <td>0.026016</td>\n",
              "      <td>0.0</td>\n",
              "      <td>0.0</td>\n",
              "      <td>0.021119</td>\n",
              "      <td>0.0</td>\n",
              "      <td>0.010346</td>\n",
              "      <td>0.0</td>\n",
              "      <td>0.023158</td>\n",
              "      <td>0.0</td>\n",
              "      <td>0.0</td>\n",
              "      <td>0.012777</td>\n",
              "      <td>0.019470</td>\n",
              "      <td>0.014130</td>\n",
              "      <td>0.036380</td>\n",
              "      <td>0.011723</td>\n",
              "      <td>0.016873</td>\n",
              "      <td>...</td>\n",
              "      <td>0.005378</td>\n",
              "      <td>0.021400</td>\n",
              "      <td>0.000707</td>\n",
              "      <td>0.005015</td>\n",
              "      <td>0.001074</td>\n",
              "      <td>0.007968</td>\n",
              "      <td>0.001677</td>\n",
              "      <td>0.0</td>\n",
              "      <td>0.007828</td>\n",
              "      <td>0.027002</td>\n",
              "      <td>0.007300</td>\n",
              "      <td>0.003805</td>\n",
              "      <td>0.026403</td>\n",
              "      <td>0.007179</td>\n",
              "      <td>0.007659</td>\n",
              "      <td>0.001197</td>\n",
              "      <td>0.005120</td>\n",
              "      <td>0.005222</td>\n",
              "      <td>0.000312</td>\n",
              "      <td>0.005182</td>\n",
              "      <td>0.002126</td>\n",
              "      <td>0.003440</td>\n",
              "      <td>0.001101</td>\n",
              "      <td>0.006944</td>\n",
              "      <td>0.001151</td>\n",
              "      <td>0.000522</td>\n",
              "      <td>0.004378</td>\n",
              "      <td>0.0</td>\n",
              "      <td>0.0</td>\n",
              "      <td>0.0</td>\n",
              "      <td>0.006086</td>\n",
              "      <td>0.012254</td>\n",
              "      <td>0.010862</td>\n",
              "      <td>0.009135</td>\n",
              "      <td>0.0</td>\n",
              "      <td>0.001225</td>\n",
              "      <td>0.005145</td>\n",
              "      <td>0.0</td>\n",
              "      <td>0.002558</td>\n",
              "      <td>0.012545</td>\n",
              "    </tr>\n",
              "    <tr>\n",
              "      <th>B00000JMWB</th>\n",
              "      <td>0.003873</td>\n",
              "      <td>1.000000</td>\n",
              "      <td>0.002150</td>\n",
              "      <td>0.020433</td>\n",
              "      <td>0.0</td>\n",
              "      <td>0.006734</td>\n",
              "      <td>0.004491</td>\n",
              "      <td>0.008507</td>\n",
              "      <td>0.008335</td>\n",
              "      <td>0.004220</td>\n",
              "      <td>0.006461</td>\n",
              "      <td>0.004559</td>\n",
              "      <td>0.004737</td>\n",
              "      <td>0.010804</td>\n",
              "      <td>0.012928</td>\n",
              "      <td>0.011822</td>\n",
              "      <td>0.002790</td>\n",
              "      <td>0.009315</td>\n",
              "      <td>0.006115</td>\n",
              "      <td>0.004647</td>\n",
              "      <td>0.006780</td>\n",
              "      <td>0.020158</td>\n",
              "      <td>0.008371</td>\n",
              "      <td>0.014078</td>\n",
              "      <td>0.003071</td>\n",
              "      <td>0.0</td>\n",
              "      <td>0.0</td>\n",
              "      <td>0.009595</td>\n",
              "      <td>0.0</td>\n",
              "      <td>0.006894</td>\n",
              "      <td>0.0</td>\n",
              "      <td>0.001649</td>\n",
              "      <td>0.0</td>\n",
              "      <td>0.0</td>\n",
              "      <td>0.001917</td>\n",
              "      <td>0.003845</td>\n",
              "      <td>0.001866</td>\n",
              "      <td>0.007772</td>\n",
              "      <td>0.002090</td>\n",
              "      <td>0.004893</td>\n",
              "      <td>...</td>\n",
              "      <td>0.003745</td>\n",
              "      <td>0.001596</td>\n",
              "      <td>0.003945</td>\n",
              "      <td>0.007370</td>\n",
              "      <td>0.022420</td>\n",
              "      <td>0.005366</td>\n",
              "      <td>0.005857</td>\n",
              "      <td>0.0</td>\n",
              "      <td>0.001923</td>\n",
              "      <td>0.004264</td>\n",
              "      <td>0.022109</td>\n",
              "      <td>0.016239</td>\n",
              "      <td>0.002806</td>\n",
              "      <td>0.018742</td>\n",
              "      <td>0.006982</td>\n",
              "      <td>0.013322</td>\n",
              "      <td>0.001392</td>\n",
              "      <td>0.002774</td>\n",
              "      <td>0.001583</td>\n",
              "      <td>0.006956</td>\n",
              "      <td>0.007426</td>\n",
              "      <td>0.003162</td>\n",
              "      <td>0.018356</td>\n",
              "      <td>0.006330</td>\n",
              "      <td>0.006428</td>\n",
              "      <td>0.002914</td>\n",
              "      <td>0.001019</td>\n",
              "      <td>0.0</td>\n",
              "      <td>0.0</td>\n",
              "      <td>0.0</td>\n",
              "      <td>0.006131</td>\n",
              "      <td>0.008073</td>\n",
              "      <td>0.002216</td>\n",
              "      <td>0.002000</td>\n",
              "      <td>0.0</td>\n",
              "      <td>0.020239</td>\n",
              "      <td>0.004764</td>\n",
              "      <td>0.0</td>\n",
              "      <td>0.005123</td>\n",
              "      <td>0.006608</td>\n",
              "    </tr>\n",
              "    <tr>\n",
              "      <th>B0000ALFCI</th>\n",
              "      <td>0.004003</td>\n",
              "      <td>0.002150</td>\n",
              "      <td>1.000000</td>\n",
              "      <td>0.011213</td>\n",
              "      <td>0.0</td>\n",
              "      <td>0.004630</td>\n",
              "      <td>0.010592</td>\n",
              "      <td>0.001015</td>\n",
              "      <td>0.013293</td>\n",
              "      <td>0.000448</td>\n",
              "      <td>0.011759</td>\n",
              "      <td>0.028062</td>\n",
              "      <td>0.008020</td>\n",
              "      <td>0.007895</td>\n",
              "      <td>0.044551</td>\n",
              "      <td>0.044633</td>\n",
              "      <td>0.007182</td>\n",
              "      <td>0.006477</td>\n",
              "      <td>0.007209</td>\n",
              "      <td>0.006025</td>\n",
              "      <td>0.013584</td>\n",
              "      <td>0.001073</td>\n",
              "      <td>0.007363</td>\n",
              "      <td>0.007771</td>\n",
              "      <td>0.002173</td>\n",
              "      <td>0.0</td>\n",
              "      <td>0.0</td>\n",
              "      <td>0.003799</td>\n",
              "      <td>0.0</td>\n",
              "      <td>0.002730</td>\n",
              "      <td>0.0</td>\n",
              "      <td>0.001205</td>\n",
              "      <td>0.0</td>\n",
              "      <td>0.0</td>\n",
              "      <td>0.008584</td>\n",
              "      <td>0.004097</td>\n",
              "      <td>0.000739</td>\n",
              "      <td>0.004378</td>\n",
              "      <td>0.000827</td>\n",
              "      <td>0.006217</td>\n",
              "      <td>...</td>\n",
              "      <td>0.007610</td>\n",
              "      <td>0.009250</td>\n",
              "      <td>0.001309</td>\n",
              "      <td>0.017970</td>\n",
              "      <td>0.000716</td>\n",
              "      <td>0.005198</td>\n",
              "      <td>0.028474</td>\n",
              "      <td>0.0</td>\n",
              "      <td>0.017748</td>\n",
              "      <td>0.016179</td>\n",
              "      <td>0.014755</td>\n",
              "      <td>0.009593</td>\n",
              "      <td>0.019216</td>\n",
              "      <td>0.001122</td>\n",
              "      <td>0.001297</td>\n",
              "      <td>0.000797</td>\n",
              "      <td>0.012940</td>\n",
              "      <td>0.005202</td>\n",
              "      <td>0.003623</td>\n",
              "      <td>0.001874</td>\n",
              "      <td>0.015000</td>\n",
              "      <td>0.005445</td>\n",
              "      <td>0.000733</td>\n",
              "      <td>0.001176</td>\n",
              "      <td>0.002133</td>\n",
              "      <td>0.000967</td>\n",
              "      <td>0.009765</td>\n",
              "      <td>0.0</td>\n",
              "      <td>0.0</td>\n",
              "      <td>0.0</td>\n",
              "      <td>0.012660</td>\n",
              "      <td>0.002517</td>\n",
              "      <td>0.000977</td>\n",
              "      <td>0.007521</td>\n",
              "      <td>0.0</td>\n",
              "      <td>0.015041</td>\n",
              "      <td>0.012749</td>\n",
              "      <td>0.0</td>\n",
              "      <td>0.006507</td>\n",
              "      <td>0.002193</td>\n",
              "    </tr>\n",
              "    <tr>\n",
              "      <th>B0009VXBAQ</th>\n",
              "      <td>0.012212</td>\n",
              "      <td>0.020433</td>\n",
              "      <td>0.011213</td>\n",
              "      <td>1.000000</td>\n",
              "      <td>0.0</td>\n",
              "      <td>0.075469</td>\n",
              "      <td>0.002817</td>\n",
              "      <td>0.143210</td>\n",
              "      <td>0.016227</td>\n",
              "      <td>0.011634</td>\n",
              "      <td>0.026891</td>\n",
              "      <td>0.012569</td>\n",
              "      <td>0.005178</td>\n",
              "      <td>0.007262</td>\n",
              "      <td>0.066695</td>\n",
              "      <td>0.157858</td>\n",
              "      <td>0.006225</td>\n",
              "      <td>0.005247</td>\n",
              "      <td>0.006101</td>\n",
              "      <td>0.003123</td>\n",
              "      <td>0.010375</td>\n",
              "      <td>0.012903</td>\n",
              "      <td>0.005036</td>\n",
              "      <td>0.006561</td>\n",
              "      <td>0.004158</td>\n",
              "      <td>0.0</td>\n",
              "      <td>0.0</td>\n",
              "      <td>0.005140</td>\n",
              "      <td>0.0</td>\n",
              "      <td>0.001115</td>\n",
              "      <td>0.0</td>\n",
              "      <td>0.002951</td>\n",
              "      <td>0.0</td>\n",
              "      <td>0.0</td>\n",
              "      <td>0.000310</td>\n",
              "      <td>0.019227</td>\n",
              "      <td>0.001480</td>\n",
              "      <td>0.008629</td>\n",
              "      <td>0.001657</td>\n",
              "      <td>0.000791</td>\n",
              "      <td>...</td>\n",
              "      <td>0.007186</td>\n",
              "      <td>0.002920</td>\n",
              "      <td>0.000718</td>\n",
              "      <td>0.019412</td>\n",
              "      <td>0.008705</td>\n",
              "      <td>0.005275</td>\n",
              "      <td>0.009221</td>\n",
              "      <td>0.0</td>\n",
              "      <td>0.013976</td>\n",
              "      <td>0.013108</td>\n",
              "      <td>0.018048</td>\n",
              "      <td>0.017647</td>\n",
              "      <td>0.012684</td>\n",
              "      <td>0.001710</td>\n",
              "      <td>0.001978</td>\n",
              "      <td>0.001216</td>\n",
              "      <td>0.012793</td>\n",
              "      <td>0.007468</td>\n",
              "      <td>0.004739</td>\n",
              "      <td>0.001012</td>\n",
              "      <td>0.019721</td>\n",
              "      <td>0.011905</td>\n",
              "      <td>0.029954</td>\n",
              "      <td>0.001793</td>\n",
              "      <td>0.001169</td>\n",
              "      <td>0.015200</td>\n",
              "      <td>0.005759</td>\n",
              "      <td>0.0</td>\n",
              "      <td>0.0</td>\n",
              "      <td>0.0</td>\n",
              "      <td>0.004121</td>\n",
              "      <td>0.008381</td>\n",
              "      <td>0.001490</td>\n",
              "      <td>0.004882</td>\n",
              "      <td>0.0</td>\n",
              "      <td>0.033531</td>\n",
              "      <td>0.006756</td>\n",
              "      <td>0.0</td>\n",
              "      <td>0.003303</td>\n",
              "      <td>0.001202</td>\n",
              "    </tr>\n",
              "    <tr>\n",
              "      <th>B000B8J7K0</th>\n",
              "      <td>0.000000</td>\n",
              "      <td>0.000000</td>\n",
              "      <td>0.000000</td>\n",
              "      <td>0.000000</td>\n",
              "      <td>0.0</td>\n",
              "      <td>0.000000</td>\n",
              "      <td>0.000000</td>\n",
              "      <td>0.000000</td>\n",
              "      <td>0.000000</td>\n",
              "      <td>0.000000</td>\n",
              "      <td>0.000000</td>\n",
              "      <td>0.000000</td>\n",
              "      <td>0.000000</td>\n",
              "      <td>0.000000</td>\n",
              "      <td>0.000000</td>\n",
              "      <td>0.000000</td>\n",
              "      <td>0.000000</td>\n",
              "      <td>0.000000</td>\n",
              "      <td>0.000000</td>\n",
              "      <td>0.000000</td>\n",
              "      <td>0.000000</td>\n",
              "      <td>0.000000</td>\n",
              "      <td>0.000000</td>\n",
              "      <td>0.000000</td>\n",
              "      <td>0.000000</td>\n",
              "      <td>0.0</td>\n",
              "      <td>0.0</td>\n",
              "      <td>0.000000</td>\n",
              "      <td>0.0</td>\n",
              "      <td>0.000000</td>\n",
              "      <td>0.0</td>\n",
              "      <td>0.000000</td>\n",
              "      <td>0.0</td>\n",
              "      <td>0.0</td>\n",
              "      <td>0.000000</td>\n",
              "      <td>0.000000</td>\n",
              "      <td>0.000000</td>\n",
              "      <td>0.000000</td>\n",
              "      <td>0.000000</td>\n",
              "      <td>0.000000</td>\n",
              "      <td>...</td>\n",
              "      <td>0.000000</td>\n",
              "      <td>0.000000</td>\n",
              "      <td>0.000000</td>\n",
              "      <td>0.000000</td>\n",
              "      <td>0.000000</td>\n",
              "      <td>0.000000</td>\n",
              "      <td>0.000000</td>\n",
              "      <td>0.0</td>\n",
              "      <td>0.000000</td>\n",
              "      <td>0.000000</td>\n",
              "      <td>0.000000</td>\n",
              "      <td>0.000000</td>\n",
              "      <td>0.000000</td>\n",
              "      <td>0.000000</td>\n",
              "      <td>0.000000</td>\n",
              "      <td>0.000000</td>\n",
              "      <td>0.000000</td>\n",
              "      <td>0.000000</td>\n",
              "      <td>0.000000</td>\n",
              "      <td>0.000000</td>\n",
              "      <td>0.000000</td>\n",
              "      <td>0.000000</td>\n",
              "      <td>0.000000</td>\n",
              "      <td>0.000000</td>\n",
              "      <td>0.000000</td>\n",
              "      <td>0.000000</td>\n",
              "      <td>0.000000</td>\n",
              "      <td>0.0</td>\n",
              "      <td>0.0</td>\n",
              "      <td>0.0</td>\n",
              "      <td>0.000000</td>\n",
              "      <td>0.000000</td>\n",
              "      <td>0.000000</td>\n",
              "      <td>0.000000</td>\n",
              "      <td>0.0</td>\n",
              "      <td>0.000000</td>\n",
              "      <td>0.000000</td>\n",
              "      <td>0.0</td>\n",
              "      <td>0.000000</td>\n",
              "      <td>0.000000</td>\n",
              "    </tr>\n",
              "  </tbody>\n",
              "</table>\n",
              "<p>5 rows × 17341 columns</p>\n",
              "</div>"
            ],
            "text/plain": [
              "asin_x      0700026657  B00000JMWB  ...  B00MEXP33U  B016K3SI0O\n",
              "asin_x                              ...                        \n",
              "0700026657    1.000000    0.003873  ...    0.002558    0.012545\n",
              "B00000JMWB    0.003873    1.000000  ...    0.005123    0.006608\n",
              "B0000ALFCI    0.004003    0.002150  ...    0.006507    0.002193\n",
              "B0009VXBAQ    0.012212    0.020433  ...    0.003303    0.001202\n",
              "B000B8J7K0    0.000000    0.000000  ...    0.000000    0.000000\n",
              "\n",
              "[5 rows x 17341 columns]"
            ]
          },
          "metadata": {
            "tags": []
          },
          "execution_count": 53
        }
      ]
    },
    {
      "cell_type": "code",
      "metadata": {
        "id": "2vKvnsZmXj3F",
        "colab_type": "code",
        "colab": {}
      },
      "source": [
        "from google.colab import drive\n",
        "drive.mount('/content/drive')"
      ],
      "execution_count": null,
      "outputs": []
    },
    {
      "cell_type": "code",
      "metadata": {
        "id": "WTH_ieQWYCdi",
        "colab_type": "code",
        "colab": {}
      },
      "source": [
        "df.to_csv('Similarity_Matrix_for_Diversity.csv')\n",
        "!cp Similarity_Matrix_for_Diversity.csv \"drive/My Drive/Data (1)\""
      ],
      "execution_count": null,
      "outputs": []
    },
    {
      "cell_type": "code",
      "metadata": {
        "id": "UJc22nkChDVG",
        "colab_type": "code",
        "colab": {}
      },
      "source": [
        "def get_rec(prd, df):\n",
        "  id = indices.loc[prd]\n",
        "  sim_scores = list(enumerate(cosine_sim[id]))\n",
        "  sim_scores = sorted(sim_scores, key=lambda x: x[1], reverse=True)\n",
        "  sim_scores = sim_scores[1:11]\n",
        "  prd_ids = [i[0] for i in sim_scores]\n",
        "  rec = [df.asin_x.loc[i] for i in prd_ids]\n",
        "  rec= sorted(rec, key = lambda x :asin_to_avgscore[x], reverse = True)\n",
        "  return rec"
      ],
      "execution_count": null,
      "outputs": []
    },
    {
      "cell_type": "code",
      "metadata": {
        "id": "rxoXKf3d1TGv",
        "colab_type": "code",
        "colab": {}
      },
      "source": [
        "import random"
      ],
      "execution_count": null,
      "outputs": []
    },
    {
      "cell_type": "code",
      "metadata": {
        "id": "BpQoYTIGnrSK",
        "colab_type": "code",
        "colab": {}
      },
      "source": [
        "def get_combined_rec(prds):\n",
        "  freq ={}\n",
        "  freq2={}\n",
        "  for item in prds:\n",
        "    for i in item:\n",
        "      freq[i]= prds.count(i)\n",
        "  #randomly arranging the array\n",
        "  keys = list(freq.keys())\n",
        "  random.shuffle(keys)\n",
        "  for key in keys:\n",
        "    freq2[key]= freq[key]\n",
        "  freq_final = sorted(freq2, key = lambda x: freq2[x], reverse = True)\n",
        "  return list(freq_final[:20])"
      ],
      "execution_count": null,
      "outputs": []
    },
    {
      "cell_type": "code",
      "metadata": {
        "id": "yB6irIfHzifs",
        "colab_type": "code",
        "colab": {}
      },
      "source": [
        "from tqdm import tqdm\n"
      ],
      "execution_count": null,
      "outputs": []
    },
    {
      "cell_type": "code",
      "metadata": {
        "id": "PcWMZ9AQOhf9",
        "colab_type": "code",
        "colab": {
          "base_uri": "https://localhost:8080/",
          "height": 34
        },
        "outputId": "3b8a8c24-8459-4778-d17f-1d063ffc16e9"
      },
      "source": [
        "'A14XH33SGMTA7R' in user_list.keys()"
      ],
      "execution_count": null,
      "outputs": [
        {
          "output_type": "execute_result",
          "data": {
            "text/plain": [
              "True"
            ]
          },
          "metadata": {
            "tags": []
          },
          "execution_count": 61
        }
      ]
    },
    {
      "cell_type": "code",
      "metadata": {
        "id": "ZgMhbPvnOxyf",
        "colab_type": "code",
        "colab": {
          "base_uri": "https://localhost:8080/",
          "height": 54
        },
        "outputId": "f99f5b1c-c89d-4c23-87ab-0f0654146e7b"
      },
      "source": [
        "  user= 'A14XH33SGMTA7R'\n",
        "  rec_list_per_prd=[]\n",
        "  i=random.choice(user_list[user])\n",
        "  user_list[user].remove(i)\n",
        "  for prd in user_list[user][0:]:\n",
        "    rec_list_per_prd.append(get_rec(prd,df6))\n",
        "  user_list[user].append(i)\n",
        "  recommendations= get_combined_rec(rec_list_per_prd)\n",
        "\n",
        "  print(recommendations)\n"
      ],
      "execution_count": null,
      "outputs": [
        {
          "output_type": "stream",
          "text": [
            "['B00005LZNI', 'B000W5R8QW', 'B017GY070A', 'B000P5BSUQ', 'B00004SQPD', 'B00B9I9WHY', 'B00551941A', 'B00N23Z8Q8', 'B00002SVBV', 'B00BI9MDSO', 'B001L1RZ32', 'B00I902D7Q', 'B00H2008JO', 'B00690LYJ6', 'B00BI9MDMU', 'B009DZTXR4', 'B0019R3O7E', 'B00004TN9O', 'B001U81442', 'B00002ST2M']\n"
          ],
          "name": "stdout"
        }
      ]
    },
    {
      "cell_type": "code",
      "metadata": {
        "id": "qajrR3gBPaxq",
        "colab_type": "code",
        "colab": {
          "base_uri": "https://localhost:8080/",
          "height": 187
        },
        "outputId": "dfbfc008-0e29-48c4-fab4-900c3841e554"
      },
      "source": [
        "asin_to_title = dict(zip(df6.asin_x, df6.title))\n",
        "\n",
        "for asin in recommendations[:10]:\n",
        "  print(asin_to_title.get(asin))\n"
      ],
      "execution_count": null,
      "outputs": [
        {
          "output_type": "stream",
          "text": [
            "Klonoa 2: Lunatea's Veil\n",
            "PlayStation 2 SingStar Bundle - Ceramic White\n",
            "Samurai Warriors 4 Empires - PlayStation 4\n",
            "Age Of Mythology:  Titans - PC\n",
            "PlayStation 2 Console (Slim Line Version 1)\n",
            "Skylanders Giants GAME ONLY for the PS3\n",
            "Playstation 2 Console Slim - Ceramic White\n",
            "Saints Row IV: Re-Elected + Gat out of Hell\n",
            "Civilization II: Multiplayer (Gold Edition)\n",
            "AmazonBasics Heavy-Duty Vault Case for PlayStation Vita and Vita Slim (Officially Licensed by Sony)\n"
          ],
          "name": "stdout"
        }
      ]
    },
    {
      "cell_type": "code",
      "metadata": {
        "id": "1QvUKr-QSAAx",
        "colab_type": "code",
        "colab": {}
      },
      "source": [
        "#print(user_list[1])"
      ],
      "execution_count": null,
      "outputs": []
    },
    {
      "cell_type": "code",
      "metadata": {
        "id": "KGy8EEEehDXk",
        "colab_type": "code",
        "colab": {
          "base_uri": "https://localhost:8080/",
          "height": 85
        },
        "outputId": "ba8c5015-94d6-4333-8bac-fa70f6a0a033"
      },
      "source": [
        "hit_rate = 0\n",
        "arhr=0\n",
        "c=0\n",
        "for user in tqdm(user_list.keys()):\n",
        "\n",
        "  if c>1000:\n",
        "    break\n",
        "\n",
        "  rec_list_per_prd=[]\n",
        "  i=random.choice(user_list[user])\n",
        "  user_list[user].remove(i)\n",
        "  for prd in user_list[user][0:]:\n",
        "    rec_list_per_prd.append(get_rec(prd,df6))\n",
        "  user_list[user].append(i)\n",
        "  recommendations= get_combined_rec(rec_list_per_prd)\n",
        "  c+=1\n",
        "  for r,rec in enumerate(recommendations):\n",
        "    if i == rec:\n",
        "      hit_rate=hit_rate+1\n",
        "      arhr=arhr+1/(r+1)\n",
        "hit_rate=hit_rate/(c)*100\n",
        "arhr=arhr/(c)*100\n",
        "print('Hit Rate:')\n",
        "print(hit_rate)\n",
        "print('Average Reciprocal Hit Rate:')\n",
        "print(arhr)"
      ],
      "execution_count": null,
      "outputs": [
        {
          "output_type": "stream",
          "text": [
            "  2%|▏         | 1000/55179 [03:34<3:33:40,  4.23it/s]"
          ],
          "name": "stderr"
        },
        {
          "output_type": "stream",
          "text": [
            "Hit Rate:\n",
            "1.6983016983016983\n",
            "Average Reciprocal Hit Rate:\n",
            "0.3198132846116442\n"
          ],
          "name": "stdout"
        }
      ]
    },
    {
      "cell_type": "code",
      "metadata": {
        "id": "Q-em4cWuWIfg",
        "colab_type": "code",
        "colab": {}
      },
      "source": [
        "sim_df=df"
      ],
      "execution_count": null,
      "outputs": []
    },
    {
      "cell_type": "code",
      "metadata": {
        "id": "PPwEVG5nSAw3",
        "colab_type": "code",
        "colab": {}
      },
      "source": [
        "from itertools import combinations \n",
        "\n",
        "def Diversity(simsMatrix):\n",
        "  print(\"Diversity: 1-S, where S is the average similarity score between every possible pair of recommendations\")\n",
        "  print(\"           for a given user. Higher means more diverse.\")\n",
        "\n",
        "  n=0\n",
        "  total=0\n",
        "  missed=0\n",
        "  i=0\n",
        "  for u in user_list.keys():\n",
        "\n",
        "    if i>1000:  # to set a barrier for number of users\n",
        "      break\n",
        "    #the next 5 lines are to just generate the top n recommendations\n",
        "    rec_list_per_prd=[]\n",
        "    for prd in user_list[user][0:]:\n",
        "      rec_list_per_prd.append(get_rec(prd,df6))\n",
        "    \n",
        "    recommendations= get_combined_rec(rec_list_per_prd)\n",
        "\n",
        "\n",
        "    \n",
        "\n",
        "    i+=1\n",
        "\n",
        "\n",
        "\n",
        "\n",
        "    \n",
        "    pairs = combinations(recommendations,2)\n",
        "    for pair in pairs:\n",
        "\n",
        "      item1= pair[0]\n",
        "      item2= pair[1]\n",
        "\n",
        "      if (item1 and item2 in sim_df.columns):\n",
        "\n",
        "        similarity= simsMatrix.at[item1, item2]\n",
        "        total+=similarity\n",
        "        n+=1\n",
        "      else:\n",
        "        missed+=1\n",
        "\n",
        "\n",
        "  \n",
        "  S= total/n\n",
        "  print('Total missed :')\n",
        "  print(missed)\n",
        "\n",
        "  return (1-S)\n"
      ],
      "execution_count": null,
      "outputs": []
    },
    {
      "cell_type": "code",
      "metadata": {
        "id": "OqX_1VraS1aC",
        "colab_type": "code",
        "colab": {
          "base_uri": "https://localhost:8080/",
          "height": 136
        },
        "outputId": "6e3d4fef-ce13-4d8e-ee49-81d4a89a460a"
      },
      "source": [
        "%%time\n",
        "print(Diversity(sim_df))"
      ],
      "execution_count": null,
      "outputs": [
        {
          "output_type": "stream",
          "text": [
            "Diversity: 1-S, where S is the average similarity score between every possible pair of recommendations\n",
            "           for a given user. Higher means more diverse.\n",
            "Total missed :\n",
            "0\n",
            "0.835929352331588\n",
            "CPU times: user 2min 8s, sys: 21.5 ms, total: 2min 8s\n",
            "Wall time: 2min 9s\n"
          ],
          "name": "stdout"
        }
      ]
    },
    {
      "cell_type": "code",
      "metadata": {
        "id": "o1U52YMD8opS",
        "colab_type": "code",
        "colab": {}
      },
      "source": [
        "Rankings=pd.read_csv('/content/drive/My Drive/Data (1)/Popularity_Rankings_for_Diversity.csv')"
      ],
      "execution_count": null,
      "outputs": []
    },
    {
      "cell_type": "code",
      "metadata": {
        "id": "xv01Ut7S8pCx",
        "colab_type": "code",
        "colab": {}
      },
      "source": [
        "def Novelty(Rankings,user_list):\n",
        "\n",
        "  print(\"Novelty:   Average popularity rank of recommended items. Higher means more novel.\")\n",
        "\n",
        "  i=0\n",
        "  n=0\n",
        "  total=0\n",
        "  for u in user_list.keys():\n",
        "\n",
        "    if i>1000:  # to set a barrier for number of users\n",
        "      break\n",
        "    #the next 5 lines are to just generate the top n recommendations\n",
        "    rec_list_per_prd=[]\n",
        "    for prd in user_list[user][0:]:\n",
        "      rec_list_per_prd.append(get_rec(prd,df6))\n",
        "    \n",
        "    recommendations= get_combined_rec(rec_list_per_prd)\n",
        "\n",
        "    i+=1\n",
        "    \n",
        "    for item in recommendations:\n",
        "      rank=Rankings.loc[Rankings['asin']==item,'Rank']\n",
        "      total+=rank.iloc[0]\n",
        "      n+=1\n",
        "  #Note: The highest rank of an item is 332 becaue items with equal no. of total ratings have similar ranks \n",
        "  return (total/n)\n"
      ],
      "execution_count": null,
      "outputs": []
    },
    {
      "cell_type": "code",
      "metadata": {
        "id": "AZbn1HCq8pRK",
        "colab_type": "code",
        "colab": {
          "base_uri": "https://localhost:8080/",
          "height": 85
        },
        "outputId": "40a892e7-a1ac-4bdf-8478-6c9392439f54"
      },
      "source": [
        "%%time\n",
        "print(Novelty(Rankings,user_list))"
      ],
      "execution_count": null,
      "outputs": [
        {
          "output_type": "stream",
          "text": [
            "Novelty:   Average popularity rank of recommended items. Higher means more novel.\n",
            "317.8213286713287\n",
            "CPU times: user 2min 37s, sys: 39.5 ms, total: 2min 37s\n",
            "Wall time: 2min 37s\n"
          ],
          "name": "stdout"
        }
      ]
    },
    {
      "cell_type": "code",
      "metadata": {
        "id": "TGDZm8rGBOUw",
        "colab_type": "code",
        "colab": {}
      },
      "source": [
        ""
      ],
      "execution_count": null,
      "outputs": []
    },
    {
      "cell_type": "code",
      "metadata": {
        "id": "m7EvWso8BOM7",
        "colab_type": "code",
        "colab": {}
      },
      "source": [
        ""
      ],
      "execution_count": null,
      "outputs": []
    },
    {
      "cell_type": "code",
      "metadata": {
        "id": "u-UAUAKIBOHA",
        "colab_type": "code",
        "colab": {}
      },
      "source": [
        ""
      ],
      "execution_count": null,
      "outputs": []
    },
    {
      "cell_type": "code",
      "metadata": {
        "id": "VZy9mqRJBOEq",
        "colab_type": "code",
        "colab": {}
      },
      "source": [
        ""
      ],
      "execution_count": null,
      "outputs": []
    }
  ]
}