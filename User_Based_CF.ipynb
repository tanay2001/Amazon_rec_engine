{
  "nbformat": 4,
  "nbformat_minor": 0,
  "metadata": {
    "colab": {
      "name": "User_Based_CF_All_Metrics.ipynb",
      "provenance": [],
      "collapsed_sections": []
    },
    "kernelspec": {
      "display_name": "Python 3",
      "language": "python",
      "name": "python3"
    },
    "language_info": {
      "codemirror_mode": {
        "name": "ipython",
        "version": 3
      },
      "file_extension": ".py",
      "mimetype": "text/x-python",
      "name": "python",
      "nbconvert_exporter": "python",
      "pygments_lexer": "ipython3",
      "version": "3.7.6"
    },
    "widgets": {
      "application/vnd.jupyter.widget-state+json": {
        "3d7cb853d77e4dcaa0d71fa43f602df9": {
          "model_module": "@jupyter-widgets/controls",
          "model_name": "HBoxModel",
          "state": {
            "_view_name": "HBoxView",
            "_dom_classes": [],
            "_model_name": "HBoxModel",
            "_view_module": "@jupyter-widgets/controls",
            "_model_module_version": "1.5.0",
            "_view_count": null,
            "_view_module_version": "1.5.0",
            "box_style": "",
            "layout": "IPY_MODEL_283c7020358e44cc9bd182459eb11cb5",
            "_model_module": "@jupyter-widgets/controls",
            "children": [
              "IPY_MODEL_88e05e28f98e4a89b5abb8ee872e4567",
              "IPY_MODEL_011bf01cad9a41669322aab0b076b85d"
            ]
          }
        },
        "283c7020358e44cc9bd182459eb11cb5": {
          "model_module": "@jupyter-widgets/base",
          "model_name": "LayoutModel",
          "state": {
            "_view_name": "LayoutView",
            "grid_template_rows": null,
            "right": null,
            "justify_content": null,
            "_view_module": "@jupyter-widgets/base",
            "overflow": null,
            "_model_module_version": "1.2.0",
            "_view_count": null,
            "flex_flow": null,
            "width": null,
            "min_width": null,
            "border": null,
            "align_items": null,
            "bottom": null,
            "_model_module": "@jupyter-widgets/base",
            "top": null,
            "grid_column": null,
            "overflow_y": null,
            "overflow_x": null,
            "grid_auto_flow": null,
            "grid_area": null,
            "grid_template_columns": null,
            "flex": null,
            "_model_name": "LayoutModel",
            "justify_items": null,
            "grid_row": null,
            "max_height": null,
            "align_content": null,
            "visibility": null,
            "align_self": null,
            "height": null,
            "min_height": null,
            "padding": null,
            "grid_auto_rows": null,
            "grid_gap": null,
            "max_width": null,
            "order": null,
            "_view_module_version": "1.2.0",
            "grid_template_areas": null,
            "object_position": null,
            "object_fit": null,
            "grid_auto_columns": null,
            "margin": null,
            "display": null,
            "left": null
          }
        },
        "88e05e28f98e4a89b5abb8ee872e4567": {
          "model_module": "@jupyter-widgets/controls",
          "model_name": "FloatProgressModel",
          "state": {
            "_view_name": "ProgressView",
            "style": "IPY_MODEL_29a705f282b84857adca73a492e285db",
            "_dom_classes": [],
            "description": "100%",
            "_model_name": "FloatProgressModel",
            "bar_style": "success",
            "max": 1000,
            "_view_module": "@jupyter-widgets/controls",
            "_model_module_version": "1.5.0",
            "value": 1000,
            "_view_count": null,
            "_view_module_version": "1.5.0",
            "orientation": "horizontal",
            "min": 0,
            "description_tooltip": null,
            "_model_module": "@jupyter-widgets/controls",
            "layout": "IPY_MODEL_52d438e092fb45388b1c7443407e689c"
          }
        },
        "011bf01cad9a41669322aab0b076b85d": {
          "model_module": "@jupyter-widgets/controls",
          "model_name": "HTMLModel",
          "state": {
            "_view_name": "HTMLView",
            "style": "IPY_MODEL_f62a3aa9e5ab4e9bbdf0c8d768bbd38b",
            "_dom_classes": [],
            "description": "",
            "_model_name": "HTMLModel",
            "placeholder": "​",
            "_view_module": "@jupyter-widgets/controls",
            "_model_module_version": "1.5.0",
            "value": " 1000/1000 [01:53&lt;00:00,  8.81it/s]",
            "_view_count": null,
            "_view_module_version": "1.5.0",
            "description_tooltip": null,
            "_model_module": "@jupyter-widgets/controls",
            "layout": "IPY_MODEL_89fd79a055fb46bca9c368dbf6769123"
          }
        },
        "29a705f282b84857adca73a492e285db": {
          "model_module": "@jupyter-widgets/controls",
          "model_name": "ProgressStyleModel",
          "state": {
            "_view_name": "StyleView",
            "_model_name": "ProgressStyleModel",
            "description_width": "initial",
            "_view_module": "@jupyter-widgets/base",
            "_model_module_version": "1.5.0",
            "_view_count": null,
            "_view_module_version": "1.2.0",
            "bar_color": null,
            "_model_module": "@jupyter-widgets/controls"
          }
        },
        "52d438e092fb45388b1c7443407e689c": {
          "model_module": "@jupyter-widgets/base",
          "model_name": "LayoutModel",
          "state": {
            "_view_name": "LayoutView",
            "grid_template_rows": null,
            "right": null,
            "justify_content": null,
            "_view_module": "@jupyter-widgets/base",
            "overflow": null,
            "_model_module_version": "1.2.0",
            "_view_count": null,
            "flex_flow": null,
            "width": null,
            "min_width": null,
            "border": null,
            "align_items": null,
            "bottom": null,
            "_model_module": "@jupyter-widgets/base",
            "top": null,
            "grid_column": null,
            "overflow_y": null,
            "overflow_x": null,
            "grid_auto_flow": null,
            "grid_area": null,
            "grid_template_columns": null,
            "flex": null,
            "_model_name": "LayoutModel",
            "justify_items": null,
            "grid_row": null,
            "max_height": null,
            "align_content": null,
            "visibility": null,
            "align_self": null,
            "height": null,
            "min_height": null,
            "padding": null,
            "grid_auto_rows": null,
            "grid_gap": null,
            "max_width": null,
            "order": null,
            "_view_module_version": "1.2.0",
            "grid_template_areas": null,
            "object_position": null,
            "object_fit": null,
            "grid_auto_columns": null,
            "margin": null,
            "display": null,
            "left": null
          }
        },
        "f62a3aa9e5ab4e9bbdf0c8d768bbd38b": {
          "model_module": "@jupyter-widgets/controls",
          "model_name": "DescriptionStyleModel",
          "state": {
            "_view_name": "StyleView",
            "_model_name": "DescriptionStyleModel",
            "description_width": "",
            "_view_module": "@jupyter-widgets/base",
            "_model_module_version": "1.5.0",
            "_view_count": null,
            "_view_module_version": "1.2.0",
            "_model_module": "@jupyter-widgets/controls"
          }
        },
        "89fd79a055fb46bca9c368dbf6769123": {
          "model_module": "@jupyter-widgets/base",
          "model_name": "LayoutModel",
          "state": {
            "_view_name": "LayoutView",
            "grid_template_rows": null,
            "right": null,
            "justify_content": null,
            "_view_module": "@jupyter-widgets/base",
            "overflow": null,
            "_model_module_version": "1.2.0",
            "_view_count": null,
            "flex_flow": null,
            "width": null,
            "min_width": null,
            "border": null,
            "align_items": null,
            "bottom": null,
            "_model_module": "@jupyter-widgets/base",
            "top": null,
            "grid_column": null,
            "overflow_y": null,
            "overflow_x": null,
            "grid_auto_flow": null,
            "grid_area": null,
            "grid_template_columns": null,
            "flex": null,
            "_model_name": "LayoutModel",
            "justify_items": null,
            "grid_row": null,
            "max_height": null,
            "align_content": null,
            "visibility": null,
            "align_self": null,
            "height": null,
            "min_height": null,
            "padding": null,
            "grid_auto_rows": null,
            "grid_gap": null,
            "max_width": null,
            "order": null,
            "_view_module_version": "1.2.0",
            "grid_template_areas": null,
            "object_position": null,
            "object_fit": null,
            "grid_auto_columns": null,
            "margin": null,
            "display": null,
            "left": null
          }
        },
        "3712791f4d094e6fba1598c987aa49dd": {
          "model_module": "@jupyter-widgets/controls",
          "model_name": "HBoxModel",
          "state": {
            "_view_name": "HBoxView",
            "_dom_classes": [],
            "_model_name": "HBoxModel",
            "_view_module": "@jupyter-widgets/controls",
            "_model_module_version": "1.5.0",
            "_view_count": null,
            "_view_module_version": "1.5.0",
            "box_style": "",
            "layout": "IPY_MODEL_870b41544dae475da62946a0573f30b7",
            "_model_module": "@jupyter-widgets/controls",
            "children": [
              "IPY_MODEL_c97b9b16bcd44768bff2c5535c6b5656",
              "IPY_MODEL_99611b566ee146d58a22c8b02dc27715"
            ]
          }
        },
        "870b41544dae475da62946a0573f30b7": {
          "model_module": "@jupyter-widgets/base",
          "model_name": "LayoutModel",
          "state": {
            "_view_name": "LayoutView",
            "grid_template_rows": null,
            "right": null,
            "justify_content": null,
            "_view_module": "@jupyter-widgets/base",
            "overflow": null,
            "_model_module_version": "1.2.0",
            "_view_count": null,
            "flex_flow": null,
            "width": null,
            "min_width": null,
            "border": null,
            "align_items": null,
            "bottom": null,
            "_model_module": "@jupyter-widgets/base",
            "top": null,
            "grid_column": null,
            "overflow_y": null,
            "overflow_x": null,
            "grid_auto_flow": null,
            "grid_area": null,
            "grid_template_columns": null,
            "flex": null,
            "_model_name": "LayoutModel",
            "justify_items": null,
            "grid_row": null,
            "max_height": null,
            "align_content": null,
            "visibility": null,
            "align_self": null,
            "height": null,
            "min_height": null,
            "padding": null,
            "grid_auto_rows": null,
            "grid_gap": null,
            "max_width": null,
            "order": null,
            "_view_module_version": "1.2.0",
            "grid_template_areas": null,
            "object_position": null,
            "object_fit": null,
            "grid_auto_columns": null,
            "margin": null,
            "display": null,
            "left": null
          }
        },
        "c97b9b16bcd44768bff2c5535c6b5656": {
          "model_module": "@jupyter-widgets/controls",
          "model_name": "FloatProgressModel",
          "state": {
            "_view_name": "ProgressView",
            "style": "IPY_MODEL_5380e306f445489181bc63aea95143dd",
            "_dom_classes": [],
            "description": "100%",
            "_model_name": "FloatProgressModel",
            "bar_style": "success",
            "max": 1000,
            "_view_module": "@jupyter-widgets/controls",
            "_model_module_version": "1.5.0",
            "value": 1000,
            "_view_count": null,
            "_view_module_version": "1.5.0",
            "orientation": "horizontal",
            "min": 0,
            "description_tooltip": null,
            "_model_module": "@jupyter-widgets/controls",
            "layout": "IPY_MODEL_8449bc8be5e14b2299d5536e9ca94f0f"
          }
        },
        "99611b566ee146d58a22c8b02dc27715": {
          "model_module": "@jupyter-widgets/controls",
          "model_name": "HTMLModel",
          "state": {
            "_view_name": "HTMLView",
            "style": "IPY_MODEL_d45154b9b6bd48b08f21f34d02026620",
            "_dom_classes": [],
            "description": "",
            "_model_name": "HTMLModel",
            "placeholder": "​",
            "_view_module": "@jupyter-widgets/controls",
            "_model_module_version": "1.5.0",
            "value": " 1000/1000 [08:31&lt;00:00,  1.96it/s]",
            "_view_count": null,
            "_view_module_version": "1.5.0",
            "description_tooltip": null,
            "_model_module": "@jupyter-widgets/controls",
            "layout": "IPY_MODEL_733aad91c155418abaa0ef2e3df8f780"
          }
        },
        "5380e306f445489181bc63aea95143dd": {
          "model_module": "@jupyter-widgets/controls",
          "model_name": "ProgressStyleModel",
          "state": {
            "_view_name": "StyleView",
            "_model_name": "ProgressStyleModel",
            "description_width": "initial",
            "_view_module": "@jupyter-widgets/base",
            "_model_module_version": "1.5.0",
            "_view_count": null,
            "_view_module_version": "1.2.0",
            "bar_color": null,
            "_model_module": "@jupyter-widgets/controls"
          }
        },
        "8449bc8be5e14b2299d5536e9ca94f0f": {
          "model_module": "@jupyter-widgets/base",
          "model_name": "LayoutModel",
          "state": {
            "_view_name": "LayoutView",
            "grid_template_rows": null,
            "right": null,
            "justify_content": null,
            "_view_module": "@jupyter-widgets/base",
            "overflow": null,
            "_model_module_version": "1.2.0",
            "_view_count": null,
            "flex_flow": null,
            "width": null,
            "min_width": null,
            "border": null,
            "align_items": null,
            "bottom": null,
            "_model_module": "@jupyter-widgets/base",
            "top": null,
            "grid_column": null,
            "overflow_y": null,
            "overflow_x": null,
            "grid_auto_flow": null,
            "grid_area": null,
            "grid_template_columns": null,
            "flex": null,
            "_model_name": "LayoutModel",
            "justify_items": null,
            "grid_row": null,
            "max_height": null,
            "align_content": null,
            "visibility": null,
            "align_self": null,
            "height": null,
            "min_height": null,
            "padding": null,
            "grid_auto_rows": null,
            "grid_gap": null,
            "max_width": null,
            "order": null,
            "_view_module_version": "1.2.0",
            "grid_template_areas": null,
            "object_position": null,
            "object_fit": null,
            "grid_auto_columns": null,
            "margin": null,
            "display": null,
            "left": null
          }
        },
        "d45154b9b6bd48b08f21f34d02026620": {
          "model_module": "@jupyter-widgets/controls",
          "model_name": "DescriptionStyleModel",
          "state": {
            "_view_name": "StyleView",
            "_model_name": "DescriptionStyleModel",
            "description_width": "",
            "_view_module": "@jupyter-widgets/base",
            "_model_module_version": "1.5.0",
            "_view_count": null,
            "_view_module_version": "1.2.0",
            "_model_module": "@jupyter-widgets/controls"
          }
        },
        "733aad91c155418abaa0ef2e3df8f780": {
          "model_module": "@jupyter-widgets/base",
          "model_name": "LayoutModel",
          "state": {
            "_view_name": "LayoutView",
            "grid_template_rows": null,
            "right": null,
            "justify_content": null,
            "_view_module": "@jupyter-widgets/base",
            "overflow": null,
            "_model_module_version": "1.2.0",
            "_view_count": null,
            "flex_flow": null,
            "width": null,
            "min_width": null,
            "border": null,
            "align_items": null,
            "bottom": null,
            "_model_module": "@jupyter-widgets/base",
            "top": null,
            "grid_column": null,
            "overflow_y": null,
            "overflow_x": null,
            "grid_auto_flow": null,
            "grid_area": null,
            "grid_template_columns": null,
            "flex": null,
            "_model_name": "LayoutModel",
            "justify_items": null,
            "grid_row": null,
            "max_height": null,
            "align_content": null,
            "visibility": null,
            "align_self": null,
            "height": null,
            "min_height": null,
            "padding": null,
            "grid_auto_rows": null,
            "grid_gap": null,
            "max_width": null,
            "order": null,
            "_view_module_version": "1.2.0",
            "grid_template_areas": null,
            "object_position": null,
            "object_fit": null,
            "grid_auto_columns": null,
            "margin": null,
            "display": null,
            "left": null
          }
        },
        "397a2fdde385405eaf9d7bc4346fc4d2": {
          "model_module": "@jupyter-widgets/controls",
          "model_name": "HBoxModel",
          "state": {
            "_view_name": "HBoxView",
            "_dom_classes": [],
            "_model_name": "HBoxModel",
            "_view_module": "@jupyter-widgets/controls",
            "_model_module_version": "1.5.0",
            "_view_count": null,
            "_view_module_version": "1.5.0",
            "box_style": "",
            "layout": "IPY_MODEL_36712a6598c4490d8393d25a2b66feaf",
            "_model_module": "@jupyter-widgets/controls",
            "children": [
              "IPY_MODEL_a806e02db11342a8bb032f7efb90bbf2",
              "IPY_MODEL_4bfd54ba94f245f281f9b1e655e18051"
            ]
          }
        },
        "36712a6598c4490d8393d25a2b66feaf": {
          "model_module": "@jupyter-widgets/base",
          "model_name": "LayoutModel",
          "state": {
            "_view_name": "LayoutView",
            "grid_template_rows": null,
            "right": null,
            "justify_content": null,
            "_view_module": "@jupyter-widgets/base",
            "overflow": null,
            "_model_module_version": "1.2.0",
            "_view_count": null,
            "flex_flow": null,
            "width": null,
            "min_width": null,
            "border": null,
            "align_items": null,
            "bottom": null,
            "_model_module": "@jupyter-widgets/base",
            "top": null,
            "grid_column": null,
            "overflow_y": null,
            "overflow_x": null,
            "grid_auto_flow": null,
            "grid_area": null,
            "grid_template_columns": null,
            "flex": null,
            "_model_name": "LayoutModel",
            "justify_items": null,
            "grid_row": null,
            "max_height": null,
            "align_content": null,
            "visibility": null,
            "align_self": null,
            "height": null,
            "min_height": null,
            "padding": null,
            "grid_auto_rows": null,
            "grid_gap": null,
            "max_width": null,
            "order": null,
            "_view_module_version": "1.2.0",
            "grid_template_areas": null,
            "object_position": null,
            "object_fit": null,
            "grid_auto_columns": null,
            "margin": null,
            "display": null,
            "left": null
          }
        },
        "a806e02db11342a8bb032f7efb90bbf2": {
          "model_module": "@jupyter-widgets/controls",
          "model_name": "FloatProgressModel",
          "state": {
            "_view_name": "ProgressView",
            "style": "IPY_MODEL_90f4ec7bf212491889d96ea13b5cd356",
            "_dom_classes": [],
            "description": "100%",
            "_model_name": "FloatProgressModel",
            "bar_style": "success",
            "max": 1000,
            "_view_module": "@jupyter-widgets/controls",
            "_model_module_version": "1.5.0",
            "value": 1000,
            "_view_count": null,
            "_view_module_version": "1.5.0",
            "orientation": "horizontal",
            "min": 0,
            "description_tooltip": null,
            "_model_module": "@jupyter-widgets/controls",
            "layout": "IPY_MODEL_8dfde7f2f046426887e2787ebba97409"
          }
        },
        "4bfd54ba94f245f281f9b1e655e18051": {
          "model_module": "@jupyter-widgets/controls",
          "model_name": "HTMLModel",
          "state": {
            "_view_name": "HTMLView",
            "style": "IPY_MODEL_11e84c7e0df2484dbba9a2080bc9400c",
            "_dom_classes": [],
            "description": "",
            "_model_name": "HTMLModel",
            "placeholder": "​",
            "_view_module": "@jupyter-widgets/controls",
            "_model_module_version": "1.5.0",
            "value": " 1000/1000 [02:36&lt;00:00,  6.38it/s]",
            "_view_count": null,
            "_view_module_version": "1.5.0",
            "description_tooltip": null,
            "_model_module": "@jupyter-widgets/controls",
            "layout": "IPY_MODEL_f42a96f182ea4c43b2fddda2931a02ee"
          }
        },
        "90f4ec7bf212491889d96ea13b5cd356": {
          "model_module": "@jupyter-widgets/controls",
          "model_name": "ProgressStyleModel",
          "state": {
            "_view_name": "StyleView",
            "_model_name": "ProgressStyleModel",
            "description_width": "initial",
            "_view_module": "@jupyter-widgets/base",
            "_model_module_version": "1.5.0",
            "_view_count": null,
            "_view_module_version": "1.2.0",
            "bar_color": null,
            "_model_module": "@jupyter-widgets/controls"
          }
        },
        "8dfde7f2f046426887e2787ebba97409": {
          "model_module": "@jupyter-widgets/base",
          "model_name": "LayoutModel",
          "state": {
            "_view_name": "LayoutView",
            "grid_template_rows": null,
            "right": null,
            "justify_content": null,
            "_view_module": "@jupyter-widgets/base",
            "overflow": null,
            "_model_module_version": "1.2.0",
            "_view_count": null,
            "flex_flow": null,
            "width": null,
            "min_width": null,
            "border": null,
            "align_items": null,
            "bottom": null,
            "_model_module": "@jupyter-widgets/base",
            "top": null,
            "grid_column": null,
            "overflow_y": null,
            "overflow_x": null,
            "grid_auto_flow": null,
            "grid_area": null,
            "grid_template_columns": null,
            "flex": null,
            "_model_name": "LayoutModel",
            "justify_items": null,
            "grid_row": null,
            "max_height": null,
            "align_content": null,
            "visibility": null,
            "align_self": null,
            "height": null,
            "min_height": null,
            "padding": null,
            "grid_auto_rows": null,
            "grid_gap": null,
            "max_width": null,
            "order": null,
            "_view_module_version": "1.2.0",
            "grid_template_areas": null,
            "object_position": null,
            "object_fit": null,
            "grid_auto_columns": null,
            "margin": null,
            "display": null,
            "left": null
          }
        },
        "11e84c7e0df2484dbba9a2080bc9400c": {
          "model_module": "@jupyter-widgets/controls",
          "model_name": "DescriptionStyleModel",
          "state": {
            "_view_name": "StyleView",
            "_model_name": "DescriptionStyleModel",
            "description_width": "",
            "_view_module": "@jupyter-widgets/base",
            "_model_module_version": "1.5.0",
            "_view_count": null,
            "_view_module_version": "1.2.0",
            "_model_module": "@jupyter-widgets/controls"
          }
        },
        "f42a96f182ea4c43b2fddda2931a02ee": {
          "model_module": "@jupyter-widgets/base",
          "model_name": "LayoutModel",
          "state": {
            "_view_name": "LayoutView",
            "grid_template_rows": null,
            "right": null,
            "justify_content": null,
            "_view_module": "@jupyter-widgets/base",
            "overflow": null,
            "_model_module_version": "1.2.0",
            "_view_count": null,
            "flex_flow": null,
            "width": null,
            "min_width": null,
            "border": null,
            "align_items": null,
            "bottom": null,
            "_model_module": "@jupyter-widgets/base",
            "top": null,
            "grid_column": null,
            "overflow_y": null,
            "overflow_x": null,
            "grid_auto_flow": null,
            "grid_area": null,
            "grid_template_columns": null,
            "flex": null,
            "_model_name": "LayoutModel",
            "justify_items": null,
            "grid_row": null,
            "max_height": null,
            "align_content": null,
            "visibility": null,
            "align_self": null,
            "height": null,
            "min_height": null,
            "padding": null,
            "grid_auto_rows": null,
            "grid_gap": null,
            "max_width": null,
            "order": null,
            "_view_module_version": "1.2.0",
            "grid_template_areas": null,
            "object_position": null,
            "object_fit": null,
            "grid_auto_columns": null,
            "margin": null,
            "display": null,
            "left": null
          }
        }
      }
    },
    "accelerator": "GPU"
  },
  "cells": [
    {
      "cell_type": "code",
      "metadata": {
        "id": "qNwvxQZSoKSr",
        "colab_type": "code",
        "colab": {
          "base_uri": "https://localhost:8080/",
          "height": 122
        },
        "outputId": "58687aa9-f60c-4294-e844-a3670d53a354"
      },
      "source": [
        "from google.colab import drive\n",
        "drive.mount('/content/drive')"
      ],
      "execution_count": null,
      "outputs": [
        {
          "output_type": "stream",
          "text": [
            "Go to this URL in a browser: https://accounts.google.com/o/oauth2/auth?client_id=947318989803-6bn6qk8qdgf4n4g3pfee6491hc0brc4i.apps.googleusercontent.com&redirect_uri=urn%3aietf%3awg%3aoauth%3a2.0%3aoob&response_type=code&scope=email%20https%3a%2f%2fwww.googleapis.com%2fauth%2fdocs.test%20https%3a%2f%2fwww.googleapis.com%2fauth%2fdrive%20https%3a%2f%2fwww.googleapis.com%2fauth%2fdrive.photos.readonly%20https%3a%2f%2fwww.googleapis.com%2fauth%2fpeopleapi.readonly\n",
            "\n",
            "Enter your authorization code:\n",
            "··········\n",
            "Mounted at /content/drive\n"
          ],
          "name": "stdout"
        }
      ]
    },
    {
      "cell_type": "code",
      "metadata": {
        "colab_type": "code",
        "id": "rPPWTuKwoWcw",
        "colab": {}
      },
      "source": [
        "import re\n",
        "import string\n",
        "import nltk\n",
        "import pandas as pd\n",
        "import json\n",
        "import gzip\n",
        "import numpy as np\n",
        "from tqdm.notebook import tqdm\n",
        "from scipy.sparse import csr_matrix\n",
        "from sklearn.neighbors import NearestNeighbors\n",
        "from collections import defaultdict\n",
        "import random\n",
        "random.seed(10)"
      ],
      "execution_count": null,
      "outputs": []
    },
    {
      "cell_type": "code",
      "metadata": {
        "id": "H3ZqW6TynfNH",
        "colab_type": "code",
        "colab": {
          "base_uri": "https://localhost:8080/",
          "height": 204
        },
        "outputId": "6262e6b0-e4b5-4062-ee96-2047e6dfd606"
      },
      "source": [
        "!wget http://deepyeti.ucsd.edu/jianmo/amazon/categoryFilesSmall/Video_Games_5.json.gz"
      ],
      "execution_count": null,
      "outputs": [
        {
          "output_type": "stream",
          "text": [
            "--2020-06-21 09:27:30--  http://deepyeti.ucsd.edu/jianmo/amazon/categoryFilesSmall/Video_Games_5.json.gz\n",
            "Resolving deepyeti.ucsd.edu (deepyeti.ucsd.edu)... 169.228.63.50\n",
            "Connecting to deepyeti.ucsd.edu (deepyeti.ucsd.edu)|169.228.63.50|:80... connected.\n",
            "HTTP request sent, awaiting response... 200 OK\n",
            "Length: 154050105 (147M) [application/octet-stream]\n",
            "Saving to: ‘Video_Games_5.json.gz’\n",
            "\n",
            "Video_Games_5.json. 100%[===================>] 146.91M  20.5MB/s    in 8.1s    \n",
            "\n",
            "2020-06-21 09:27:39 (18.2 MB/s) - ‘Video_Games_5.json.gz’ saved [154050105/154050105]\n",
            "\n"
          ],
          "name": "stdout"
        }
      ]
    },
    {
      "cell_type": "code",
      "metadata": {
        "id": "bi0_NBQinszO",
        "colab_type": "code",
        "colab": {
          "base_uri": "https://localhost:8080/",
          "height": 204
        },
        "outputId": "e7f99d76-7334-4ded-c79d-894c45ebbeb4"
      },
      "source": [
        "!wget http://deepyeti.ucsd.edu/jianmo/amazon/metaFiles/meta_Video_Games.json.gz"
      ],
      "execution_count": null,
      "outputs": [
        {
          "output_type": "stream",
          "text": [
            "--2020-06-21 09:27:43--  http://deepyeti.ucsd.edu/jianmo/amazon/metaFiles/meta_Video_Games.json.gz\n",
            "Resolving deepyeti.ucsd.edu (deepyeti.ucsd.edu)... 169.228.63.50\n",
            "Connecting to deepyeti.ucsd.edu (deepyeti.ucsd.edu)|169.228.63.50|:80... connected.\n",
            "HTTP request sent, awaiting response... 200 OK\n",
            "Length: 80222877 (77M) [application/octet-stream]\n",
            "Saving to: ‘meta_Video_Games.json.gz’\n",
            "\n",
            "meta_Video_Games.js 100%[===================>]  76.51M  21.7MB/s    in 4.4s    \n",
            "\n",
            "2020-06-21 09:27:48 (17.5 MB/s) - ‘meta_Video_Games.json.gz’ saved [80222877/80222877]\n",
            "\n"
          ],
          "name": "stdout"
        }
      ]
    },
    {
      "cell_type": "code",
      "metadata": {
        "colab_type": "code",
        "id": "jbx7ggR2pBq8",
        "colab": {}
      },
      "source": [
        "data = []\n",
        "with gzip.open('meta_Video_Games.json.gz') as f:\n",
        "    for l in f:\n",
        "        data.append(json.loads(l.strip()))"
      ],
      "execution_count": null,
      "outputs": []
    },
    {
      "cell_type": "code",
      "metadata": {
        "colab_type": "code",
        "id": "obKhmo-ep3UR",
        "colab": {}
      },
      "source": [
        "data2 = []\n",
        "with gzip.open('Video_Games_5.json.gz') as f:\n",
        "    for l in f:\n",
        "        data2.append(json.loads(l.strip()))"
      ],
      "execution_count": null,
      "outputs": []
    },
    {
      "cell_type": "markdown",
      "metadata": {
        "id": "iLyZPN2tTP2Z",
        "colab_type": "text"
      },
      "source": [
        "# **Data Preprocessing**"
      ]
    },
    {
      "cell_type": "code",
      "metadata": {
        "colab_type": "code",
        "id": "HYGiynl1p56h",
        "colab": {}
      },
      "source": [
        "df_og=pd.DataFrame.from_dict(data2)"
      ],
      "execution_count": null,
      "outputs": []
    },
    {
      "cell_type": "code",
      "metadata": {
        "colab_type": "code",
        "id": "fpTdSyjyAHhf",
        "colab": {}
      },
      "source": [
        "df_meta=pd.DataFrame.from_dict(data)"
      ],
      "execution_count": null,
      "outputs": []
    },
    {
      "cell_type": "code",
      "metadata": {
        "id": "SH6s8qvDnbV0",
        "colab_type": "code",
        "colab": {}
      },
      "source": [
        "asin_to_name= dict(zip(df_meta.asin, df_meta.title))\n",
        "def asin_to_title(asin_list):\n",
        "  title_list=[asin_to_name[x] for x in asin_list]\n",
        "  return title_list"
      ],
      "execution_count": null,
      "outputs": []
    },
    {
      "cell_type": "code",
      "metadata": {
        "colab_type": "code",
        "id": "uERgq5MhKnKm",
        "colab": {}
      },
      "source": [
        "#df_meta[\"title\"]=df_meta[\"title\"].astype(str)\n",
        "#df_meta['lentitle']=df_meta[\"title\"].apply(lambda x: len(x))"
      ],
      "execution_count": null,
      "outputs": []
    },
    {
      "cell_type": "code",
      "metadata": {
        "colab_type": "code",
        "id": "F4YfijPAsUW_",
        "scrolled": true,
        "colab": {}
      },
      "source": [
        "df_og=df_og[[\"overall\",\"reviewerID\",\"asin\"]]"
      ],
      "execution_count": null,
      "outputs": []
    },
    {
      "cell_type": "code",
      "metadata": {
        "colab_type": "code",
        "id": "W5XySIGFp-3v",
        "colab": {}
      },
      "source": [
        "df_og.drop_duplicates([\"reviewerID\",\"asin\"],keep=False,inplace=True)"
      ],
      "execution_count": null,
      "outputs": []
    },
    {
      "cell_type": "code",
      "metadata": {
        "colab_type": "code",
        "id": "pRx_JuluFY48",
        "colab": {}
      },
      "source": [
        "df=df_og.groupby(\"asin\").nunique()"
      ],
      "execution_count": null,
      "outputs": []
    },
    {
      "cell_type": "code",
      "metadata": {
        "colab_type": "code",
        "id": "FrWVX0MpuHDy",
        "colab": {}
      },
      "source": [
        "df_og.set_index(df_og[\"asin\"],drop=False,inplace=True)"
      ],
      "execution_count": null,
      "outputs": []
    },
    {
      "cell_type": "code",
      "metadata": {
        "colab_type": "code",
        "id": "Wxiv7m_5tmwx",
        "colab": {}
      },
      "source": [
        "#drop_asin=df.loc[df[\"reviewerID\"]<15].index\n",
        "#df_og.drop(drop_asin,inplace=True,errors=\"ignore\")\n",
        "df_og.reset_index(drop=True,inplace=True)"
      ],
      "execution_count": null,
      "outputs": []
    },
    {
      "cell_type": "code",
      "metadata": {
        "colab_type": "code",
        "id": "eur-DtFTzdgL",
        "colab": {}
      },
      "source": [
        "del(data,df,data2)"
      ],
      "execution_count": null,
      "outputs": []
    },
    {
      "cell_type": "code",
      "metadata": {
        "colab_type": "code",
        "id": "PPzYBzWc0hIs",
        "colab": {}
      },
      "source": [
        "#del(drop_asin)"
      ],
      "execution_count": null,
      "outputs": []
    },
    {
      "cell_type": "code",
      "metadata": {
        "id": "tZ_7QsX8oGJM",
        "colab_type": "code",
        "colab": {
          "base_uri": "https://localhost:8080/",
          "height": 51
        },
        "outputId": "890c9a35-a25d-4b69-9b3f-844a0a219e1d"
      },
      "source": [
        "%%time\n",
        "df_review= pd.read_pickle('/content/drive/My Drive/df_pivot.pkl')\n"
      ],
      "execution_count": null,
      "outputs": [
        {
          "output_type": "stream",
          "text": [
            "CPU times: user 284 ms, sys: 1.29 s, total: 1.58 s\n",
            "Wall time: 7.57 s\n"
          ],
          "name": "stdout"
        }
      ]
    },
    {
      "cell_type": "code",
      "metadata": {
        "id": "8hlhPVdrpQKC",
        "colab_type": "code",
        "colab": {
          "base_uri": "https://localhost:8080/",
          "height": 34
        },
        "outputId": "ad6e78ac-9d76-4e6c-9a5b-5585c2eac596"
      },
      "source": [
        "df_review.shape"
      ],
      "execution_count": null,
      "outputs": [
        {
          "output_type": "execute_result",
          "data": {
            "text/plain": [
              "(17340, 55172)"
            ]
          },
          "metadata": {
            "tags": []
          },
          "execution_count": 19
        }
      ]
    },
    {
      "cell_type": "code",
      "metadata": {
        "id": "xQfIHO-vva6s",
        "colab_type": "code",
        "colab": {}
      },
      "source": [
        "df_review=df_review.T"
      ],
      "execution_count": null,
      "outputs": []
    },
    {
      "cell_type": "code",
      "metadata": {
        "id": "3T7pg8N7pShK",
        "colab_type": "code",
        "colab": {
          "base_uri": "https://localhost:8080/",
          "height": 191
        },
        "outputId": "befef3e0-0239-475c-dcec-d07c5d5fa2a5"
      },
      "source": [
        "df_review.head(2)"
      ],
      "execution_count": null,
      "outputs": [
        {
          "output_type": "execute_result",
          "data": {
            "text/html": [
              "<div>\n",
              "<style scoped>\n",
              "    .dataframe tbody tr th:only-of-type {\n",
              "        vertical-align: middle;\n",
              "    }\n",
              "\n",
              "    .dataframe tbody tr th {\n",
              "        vertical-align: top;\n",
              "    }\n",
              "\n",
              "    .dataframe thead th {\n",
              "        text-align: right;\n",
              "    }\n",
              "</style>\n",
              "<table border=\"1\" class=\"dataframe\">\n",
              "  <thead>\n",
              "    <tr style=\"text-align: right;\">\n",
              "      <th>asin</th>\n",
              "      <th>0700026398</th>\n",
              "      <th>0700026657</th>\n",
              "      <th>0700099867</th>\n",
              "      <th>0804161380</th>\n",
              "      <th>3828770193</th>\n",
              "      <th>6050036071</th>\n",
              "      <th>7293000936</th>\n",
              "      <th>7544256944</th>\n",
              "      <th>8176503290</th>\n",
              "      <th>8565000168</th>\n",
              "      <th>907843905X</th>\n",
              "      <th>9625990674</th>\n",
              "      <th>9629971372</th>\n",
              "      <th>9867299434</th>\n",
              "      <th>9882100848</th>\n",
              "      <th>9882106463</th>\n",
              "      <th>9882155456</th>\n",
              "      <th>B000003SQQ</th>\n",
              "      <th>B000006OVE</th>\n",
              "      <th>B000006OVF</th>\n",
              "      <th>B000006OVG</th>\n",
              "      <th>B000006OVI</th>\n",
              "      <th>B000006OVJ</th>\n",
              "      <th>B000006OVK</th>\n",
              "      <th>B000006OVL</th>\n",
              "      <th>B000006OWR</th>\n",
              "      <th>B000006OWS</th>\n",
              "      <th>B000006OWT</th>\n",
              "      <th>B000006P0J</th>\n",
              "      <th>B000006P0K</th>\n",
              "      <th>B000006P0M</th>\n",
              "      <th>B000006P0P</th>\n",
              "      <th>B000006RGO</th>\n",
              "      <th>B000006RGP</th>\n",
              "      <th>B000006RGQ</th>\n",
              "      <th>B000006RGR</th>\n",
              "      <th>B000006RGS</th>\n",
              "      <th>B000007NJC</th>\n",
              "      <th>B000009QCX</th>\n",
              "      <th>B000009QD1</th>\n",
              "      <th>...</th>\n",
              "      <th>B01H0TGLBU</th>\n",
              "      <th>B01H1GJ7IQ</th>\n",
              "      <th>B01H1QQW20</th>\n",
              "      <th>B01H1QQWDO</th>\n",
              "      <th>B01H1QQWFM</th>\n",
              "      <th>B01H1WR47G</th>\n",
              "      <th>B01H2DKGZQ</th>\n",
              "      <th>B01H2DKHCS</th>\n",
              "      <th>B01H2DKHPA</th>\n",
              "      <th>B01H2DKHSM</th>\n",
              "      <th>B01H2DKHZ0</th>\n",
              "      <th>B01H2DKI3G</th>\n",
              "      <th>B01H2DKIDG</th>\n",
              "      <th>B01H2F5R6C</th>\n",
              "      <th>B01H3NU4OS</th>\n",
              "      <th>B01H3Z4MYE</th>\n",
              "      <th>B01H440QZI</th>\n",
              "      <th>B01H482N6E</th>\n",
              "      <th>B01H4RS5AI</th>\n",
              "      <th>B01H5BJNXG</th>\n",
              "      <th>B01H5XD36C</th>\n",
              "      <th>B01H6DHITE</th>\n",
              "      <th>B01H6GUCCQ</th>\n",
              "      <th>B01H6SM5CY</th>\n",
              "      <th>B01H74VPX2</th>\n",
              "      <th>B01H7VI5TC</th>\n",
              "      <th>B01H867JUM</th>\n",
              "      <th>B01H9CCDYW</th>\n",
              "      <th>B01HC8QZG0</th>\n",
              "      <th>B01HD1B64C</th>\n",
              "      <th>B01HD1B76O</th>\n",
              "      <th>B01HD2TECW</th>\n",
              "      <th>B01HDJFJKG</th>\n",
              "      <th>B01HDJFJLK</th>\n",
              "      <th>B01HDJFJOM</th>\n",
              "      <th>B01HFRICLE</th>\n",
              "      <th>B01HGPUTCA</th>\n",
              "      <th>B01HH6JEOC</th>\n",
              "      <th>B01HIZF7XE</th>\n",
              "      <th>B01HIZGKOE</th>\n",
              "    </tr>\n",
              "    <tr>\n",
              "      <th>reviewerID</th>\n",
              "      <th></th>\n",
              "      <th></th>\n",
              "      <th></th>\n",
              "      <th></th>\n",
              "      <th></th>\n",
              "      <th></th>\n",
              "      <th></th>\n",
              "      <th></th>\n",
              "      <th></th>\n",
              "      <th></th>\n",
              "      <th></th>\n",
              "      <th></th>\n",
              "      <th></th>\n",
              "      <th></th>\n",
              "      <th></th>\n",
              "      <th></th>\n",
              "      <th></th>\n",
              "      <th></th>\n",
              "      <th></th>\n",
              "      <th></th>\n",
              "      <th></th>\n",
              "      <th></th>\n",
              "      <th></th>\n",
              "      <th></th>\n",
              "      <th></th>\n",
              "      <th></th>\n",
              "      <th></th>\n",
              "      <th></th>\n",
              "      <th></th>\n",
              "      <th></th>\n",
              "      <th></th>\n",
              "      <th></th>\n",
              "      <th></th>\n",
              "      <th></th>\n",
              "      <th></th>\n",
              "      <th></th>\n",
              "      <th></th>\n",
              "      <th></th>\n",
              "      <th></th>\n",
              "      <th></th>\n",
              "      <th></th>\n",
              "      <th></th>\n",
              "      <th></th>\n",
              "      <th></th>\n",
              "      <th></th>\n",
              "      <th></th>\n",
              "      <th></th>\n",
              "      <th></th>\n",
              "      <th></th>\n",
              "      <th></th>\n",
              "      <th></th>\n",
              "      <th></th>\n",
              "      <th></th>\n",
              "      <th></th>\n",
              "      <th></th>\n",
              "      <th></th>\n",
              "      <th></th>\n",
              "      <th></th>\n",
              "      <th></th>\n",
              "      <th></th>\n",
              "      <th></th>\n",
              "      <th></th>\n",
              "      <th></th>\n",
              "      <th></th>\n",
              "      <th></th>\n",
              "      <th></th>\n",
              "      <th></th>\n",
              "      <th></th>\n",
              "      <th></th>\n",
              "      <th></th>\n",
              "      <th></th>\n",
              "      <th></th>\n",
              "      <th></th>\n",
              "      <th></th>\n",
              "      <th></th>\n",
              "      <th></th>\n",
              "      <th></th>\n",
              "      <th></th>\n",
              "      <th></th>\n",
              "      <th></th>\n",
              "      <th></th>\n",
              "    </tr>\n",
              "  </thead>\n",
              "  <tbody>\n",
              "    <tr>\n",
              "      <th>A0059486XI1Z0P98KP35</th>\n",
              "      <td>0</td>\n",
              "      <td>0</td>\n",
              "      <td>0</td>\n",
              "      <td>0</td>\n",
              "      <td>0</td>\n",
              "      <td>0</td>\n",
              "      <td>0</td>\n",
              "      <td>0</td>\n",
              "      <td>0</td>\n",
              "      <td>0</td>\n",
              "      <td>0</td>\n",
              "      <td>0</td>\n",
              "      <td>0</td>\n",
              "      <td>0</td>\n",
              "      <td>0</td>\n",
              "      <td>0</td>\n",
              "      <td>0</td>\n",
              "      <td>0</td>\n",
              "      <td>0</td>\n",
              "      <td>0</td>\n",
              "      <td>0</td>\n",
              "      <td>0</td>\n",
              "      <td>0</td>\n",
              "      <td>0</td>\n",
              "      <td>0</td>\n",
              "      <td>0</td>\n",
              "      <td>0</td>\n",
              "      <td>0</td>\n",
              "      <td>0</td>\n",
              "      <td>0</td>\n",
              "      <td>0</td>\n",
              "      <td>0</td>\n",
              "      <td>0</td>\n",
              "      <td>0</td>\n",
              "      <td>0</td>\n",
              "      <td>0</td>\n",
              "      <td>0</td>\n",
              "      <td>0</td>\n",
              "      <td>0</td>\n",
              "      <td>0</td>\n",
              "      <td>...</td>\n",
              "      <td>0</td>\n",
              "      <td>0</td>\n",
              "      <td>0</td>\n",
              "      <td>0</td>\n",
              "      <td>0</td>\n",
              "      <td>0</td>\n",
              "      <td>0</td>\n",
              "      <td>0</td>\n",
              "      <td>0</td>\n",
              "      <td>0</td>\n",
              "      <td>0</td>\n",
              "      <td>0</td>\n",
              "      <td>0</td>\n",
              "      <td>0</td>\n",
              "      <td>0</td>\n",
              "      <td>0</td>\n",
              "      <td>0</td>\n",
              "      <td>0</td>\n",
              "      <td>0</td>\n",
              "      <td>0</td>\n",
              "      <td>0</td>\n",
              "      <td>0</td>\n",
              "      <td>0</td>\n",
              "      <td>0</td>\n",
              "      <td>0</td>\n",
              "      <td>0</td>\n",
              "      <td>0</td>\n",
              "      <td>0</td>\n",
              "      <td>0</td>\n",
              "      <td>0</td>\n",
              "      <td>0</td>\n",
              "      <td>0</td>\n",
              "      <td>0</td>\n",
              "      <td>0</td>\n",
              "      <td>0</td>\n",
              "      <td>0</td>\n",
              "      <td>0</td>\n",
              "      <td>0</td>\n",
              "      <td>0</td>\n",
              "      <td>0</td>\n",
              "    </tr>\n",
              "    <tr>\n",
              "      <th>A0220159ZRNBTRKLG08H</th>\n",
              "      <td>0</td>\n",
              "      <td>0</td>\n",
              "      <td>0</td>\n",
              "      <td>0</td>\n",
              "      <td>0</td>\n",
              "      <td>0</td>\n",
              "      <td>0</td>\n",
              "      <td>0</td>\n",
              "      <td>0</td>\n",
              "      <td>0</td>\n",
              "      <td>0</td>\n",
              "      <td>0</td>\n",
              "      <td>0</td>\n",
              "      <td>0</td>\n",
              "      <td>0</td>\n",
              "      <td>0</td>\n",
              "      <td>0</td>\n",
              "      <td>0</td>\n",
              "      <td>0</td>\n",
              "      <td>0</td>\n",
              "      <td>0</td>\n",
              "      <td>0</td>\n",
              "      <td>0</td>\n",
              "      <td>0</td>\n",
              "      <td>0</td>\n",
              "      <td>0</td>\n",
              "      <td>0</td>\n",
              "      <td>0</td>\n",
              "      <td>0</td>\n",
              "      <td>0</td>\n",
              "      <td>0</td>\n",
              "      <td>0</td>\n",
              "      <td>0</td>\n",
              "      <td>0</td>\n",
              "      <td>0</td>\n",
              "      <td>0</td>\n",
              "      <td>0</td>\n",
              "      <td>0</td>\n",
              "      <td>0</td>\n",
              "      <td>0</td>\n",
              "      <td>...</td>\n",
              "      <td>0</td>\n",
              "      <td>0</td>\n",
              "      <td>0</td>\n",
              "      <td>0</td>\n",
              "      <td>0</td>\n",
              "      <td>0</td>\n",
              "      <td>0</td>\n",
              "      <td>0</td>\n",
              "      <td>0</td>\n",
              "      <td>0</td>\n",
              "      <td>0</td>\n",
              "      <td>0</td>\n",
              "      <td>0</td>\n",
              "      <td>0</td>\n",
              "      <td>0</td>\n",
              "      <td>0</td>\n",
              "      <td>0</td>\n",
              "      <td>0</td>\n",
              "      <td>0</td>\n",
              "      <td>0</td>\n",
              "      <td>0</td>\n",
              "      <td>0</td>\n",
              "      <td>0</td>\n",
              "      <td>0</td>\n",
              "      <td>0</td>\n",
              "      <td>0</td>\n",
              "      <td>0</td>\n",
              "      <td>0</td>\n",
              "      <td>0</td>\n",
              "      <td>0</td>\n",
              "      <td>0</td>\n",
              "      <td>0</td>\n",
              "      <td>0</td>\n",
              "      <td>0</td>\n",
              "      <td>0</td>\n",
              "      <td>0</td>\n",
              "      <td>0</td>\n",
              "      <td>0</td>\n",
              "      <td>0</td>\n",
              "      <td>0</td>\n",
              "    </tr>\n",
              "  </tbody>\n",
              "</table>\n",
              "<p>2 rows × 17340 columns</p>\n",
              "</div>"
            ],
            "text/plain": [
              "asin                  0700026398  0700026657  ...  B01HIZF7XE  B01HIZGKOE\n",
              "reviewerID                                    ...                        \n",
              "A0059486XI1Z0P98KP35           0           0  ...           0           0\n",
              "A0220159ZRNBTRKLG08H           0           0  ...           0           0\n",
              "\n",
              "[2 rows x 17340 columns]"
            ]
          },
          "metadata": {
            "tags": []
          },
          "execution_count": 21
        }
      ]
    },
    {
      "cell_type": "markdown",
      "metadata": {
        "id": "bQJt_SxBUL3n",
        "colab_type": "text"
      },
      "source": [
        "# **Plots**"
      ]
    },
    {
      "cell_type": "code",
      "metadata": {
        "id": "inJMYYDMPY2b",
        "colab_type": "code",
        "colab": {}
      },
      "source": [
        "import networkx as nx\n",
        "from networkx.algorithms import community\n",
        "import matplotlib.pyplot as plt\n"
      ],
      "execution_count": null,
      "outputs": []
    },
    {
      "cell_type": "code",
      "metadata": {
        "id": "iWhLSCj0acEA",
        "colab_type": "code",
        "colab": {
          "base_uri": "https://localhost:8080/",
          "height": 54
        },
        "outputId": "cd0ec159-ff42-4608-d6db-a91d6af74927"
      },
      "source": [
        "u='A14XH33SGMTA7R'\n",
        "df=group_user.get_group(u)\n",
        "flag=0\n",
        "df=df.loc[df[\"overall\"]>2]\n",
        "asin1=[i for i in df[\"asin\"]]\n",
        "recs=get_recommendations(u,20,sparse,asin1)\n",
        "d =['A13FA19J89IZO0', 'A1B2SVLM76Z26', 'A1TGOLREJYZFMD', 'A11HOXL92DUW7T', 'A1HG69ME8C6U3Q'] \n",
        "d.append(u)"
      ],
      "execution_count": null,
      "outputs": [
        {
          "output_type": "stream",
          "text": [
            "['A13FA19J89IZO0', 'A1B2SVLM76Z26', 'A1TGOLREJYZFMD', 'A11HOXL92DUW7T', 'A1HG69ME8C6U3Q', 'A3PQGXCIKH2PZK', 'A247F4H1BEMVHH', 'AF5O71MTL3UUM', 'A2RPG0G1UGUFKL', 'A2W9LNYTFUCDK5', 'A34SGXL3BK2AAQ', 'A199FKAKFDSY3J', 'A2KGTIG05HRSAV', 'ABO6TG6Y8L091', 'A31US0T606JYFY', 'A19W9BXE8K17EC', 'A2YNFIJA674AKN', 'A194GR8CAMVSYD', 'A1T6KX072SZ62B', 'A8BGLZG78TKEM', 'AHZ22NT0TF9KD', 'AXZO1G3Y0UUW5', 'A110NSF22U73QI', 'A3LG1RX5PBWKRD', 'A2UFI2HQ8LP6ZP', 'A94RFHUXK9893', 'A1RI2PR9Q9EMK7', 'A16Z2OECAUX8Z4', 'A170THNVP0MS2G', 'A1EFCP0UV4TTIY']\n"
          ],
          "name": "stdout"
        }
      ]
    },
    {
      "cell_type": "code",
      "metadata": {
        "id": "4ABX9mguNv_p",
        "colab_type": "code",
        "colab": {}
      },
      "source": [
        "dit=[]\n",
        "for i in d:\n",
        "   for j in df_og[df_og.reviewerID ==i].asin.values:\n",
        "     dit.append((i,asin_to_name[j]))"
      ],
      "execution_count": null,
      "outputs": []
    },
    {
      "cell_type": "code",
      "metadata": {
        "id": "SQPEzld6OuHe",
        "colab_type": "code",
        "colab": {
          "base_uri": "https://localhost:8080/",
          "height": 459
        },
        "outputId": "93c91169-5726-42fb-9aa9-8908424859fa"
      },
      "source": [
        "dit"
      ],
      "execution_count": null,
      "outputs": [
        {
          "output_type": "execute_result",
          "data": {
            "text/plain": [
              "[('A13FA19J89IZO0', 'PlayStation 2 Console Slim PS2'),\n",
              " ('A1B2SVLM76Z26', 'PlayStation 2 Console Slim PS2'),\n",
              " ('A1TGOLREJYZFMD',\n",
              "  'Warcraft 2 Battle Chest: Tides of Darkness / Beyond the Dark Portal'),\n",
              " ('A1TGOLREJYZFMD', \"Age Of Empires Collector's Edition (Limited Edition)\"),\n",
              " ('A1TGOLREJYZFMD', 'PlayStation 2 Console Slim PS2'),\n",
              " ('A1TGOLREJYZFMD', 'Age of Wonders - PC'),\n",
              " ('A11HOXL92DUW7T', \"Age Of Empires Collector's Edition (Limited Edition)\"),\n",
              " ('A11HOXL92DUW7T', 'Rome: Total War Gold Edition - PC'),\n",
              " ('A11HOXL92DUW7T',\n",
              "  'Rise of Nations + Rise of Nations: Thrones & Patriots - PC'),\n",
              " ('A11HOXL92DUW7T', 'Empire: Total War - PC'),\n",
              " ('A11HOXL92DUW7T', 'Age of Empires III Complete Collection [Download]'),\n",
              " ('A3PQGXCIKH2PZK', 'Grand Theft Auto III'),\n",
              " ('A3PQGXCIKH2PZK', 'Jak 3 - PlayStation 2'),\n",
              " ('A3PQGXCIKH2PZK', 'PlayStation 2 Console Slim PS2'),\n",
              " ('A14XH33SGMTA7R', 'Mega Man X Collection - PlayStation 2'),\n",
              " ('A14XH33SGMTA7R', \"Age Of Empires Collector's Edition (Limited Edition)\"),\n",
              " ('A14XH33SGMTA7R', 'PlayStation 2 Console Slim PS2'),\n",
              " ('A14XH33SGMTA7R',\n",
              "  'AmazonBasics Carrying Case for Nintendo - New 3DS XL, 3DS XL - Red (Officially Licensed by Nintendo)'),\n",
              " ('A14XH33SGMTA7R', 'Saint Seiya Sanctuary Battle (Playstation 3)'),\n",
              " ('A14XH33SGMTA7R', 'Age of Empires III Complete Collection [Download]'),\n",
              " ('A14XH33SGMTA7R', 'X-Men vs. Street Fighter'),\n",
              " ('A14XH33SGMTA7R', 'Marvel Super Heroes Vs. Street Fighter'),\n",
              " ('A14XH33SGMTA7R', 'Marvel Vs. Capcom: Clash of Super Heroes')]"
            ]
          },
          "metadata": {
            "tags": []
          },
          "execution_count": 61
        }
      ]
    },
    {
      "cell_type": "code",
      "metadata": {
        "id": "Vyb8vd3mTrAH",
        "colab_type": "code",
        "colab": {}
      },
      "source": [
        "color_dict ={\n",
        "    'A13FA19J89IZO0':'#f18d00',\n",
        "    'A1B2SVLM76Z26':'#f18d00',\n",
        "    'A1TGOLREJYZFMD':'#f18d00',\n",
        "    'A11HOXL92DUW7T':'#f18d00',\n",
        "    'A1HG69ME8C6U3Q':'#f18d00',\n",
        "'A14XH33SGMTA7R':'#bbdaa4'\n",
        "\n",
        "\n",
        "}\n",
        "for i,j in dit:\n",
        "  color_dict[j] ='#9bbff4' "
      ],
      "execution_count": null,
      "outputs": []
    },
    {
      "cell_type": "code",
      "metadata": {
        "id": "a2Oz8SuyV3Xf",
        "colab_type": "code",
        "colab": {}
      },
      "source": [
        "w={}\n",
        "for i, j in dit:\n",
        "  if j in w:\n",
        "    w[j]+=1\n",
        "  else:\n",
        "    w[j]=1"
      ],
      "execution_count": null,
      "outputs": []
    },
    {
      "cell_type": "code",
      "metadata": {
        "id": "nRbNNJ-VPd8K",
        "colab_type": "code",
        "colab": {
          "base_uri": "https://localhost:8080/",
          "height": 826
        },
        "outputId": "569e9c1b-32cd-4c55-dad7-4f4c71144e45"
      },
      "source": [
        "G = nx.Graph()\n",
        "# iterate over very every item in the dictionary of interactions\n",
        "for k ,v in dit:\n",
        "    G.add_edge(k, v ,weight =w[v])\n",
        "max_edge = max(w.values()) \n",
        "edges = G.edges()\n",
        "\n",
        "weights = [G[u][v]['weight']/(max_edge/2) for u,v in edges]\n",
        "\n",
        "\n",
        "top = nx.bipartite.sets(G)[0]\n",
        "pos = nx.bipartite_layout(G, top)\n",
        "colors = [color_dict[node] for node in G.nodes()]\n",
        "plt.figure(figsize=(20, 14))\n",
        "nx.draw_networkx(G,pos, node_size = 1000 , node_color = colors,width = weights , font_size =8, font_weight ='heavy')\n",
        "ax = plt.gca()\n",
        "from matplotlib.lines import Line2D\n",
        "ax.set_title(\"Bipartite graph of users and products\", fontsize = 14)\n",
        "custom_lines = [Line2D([0], [0], marker = 'o', markerfacecolor = \"#9bbff4\", markersize = 10, color = 'w'),\n",
        "                Line2D([0], [0], marker = 'o', markerfacecolor = \"#bbdaa4\", markersize = 10, color = 'w'),\n",
        "                Line2D([0], [0], marker = 'o', markerfacecolor = \"#f18d00\", markersize = 10, color = 'w')]\n",
        "ax.legend(custom_lines, ['products', 'test_user', \"other users\"], loc = \"upper center\", fontsize = 12)\n"
      ],
      "execution_count": null,
      "outputs": [
        {
          "output_type": "execute_result",
          "data": {
            "text/plain": [
              "<matplotlib.legend.Legend at 0x7f4dfb663940>"
            ]
          },
          "metadata": {
            "tags": []
          },
          "execution_count": 92
        },
        {
          "output_type": "display_data",
          "data": {
            "image/png": "[encoded data removed]",
            "text/plain": [
              "<Figure size 1440x1008 with 1 Axes>"
            ]
          },
          "metadata": {
            "tags": []
          }
        }
      ]
    },
    {
      "cell_type": "markdown",
      "metadata": {
        "id": "BnxGE6ccTW81",
        "colab_type": "text"
      },
      "source": [
        "# **Modelling**"
      ]
    },
    {
      "cell_type": "code",
      "metadata": {
        "colab_type": "code",
        "id": "p992PcHdCFTn",
        "colab": {}
      },
      "source": [
        "asin_to_int=dict({i:count for count,i in enumerate(df_review.columns)})\n",
        "int_to_asin=dict({i:count for i,count in enumerate(df_review.columns)})\n",
        "userid_to_int=dict({i:count for count,i in enumerate(df_review.index)})\n",
        "int_to_userid=dict({i:count for i,count in enumerate(df_review.index)})\n",
        "asin_score=dict({i:0 for i in df_review.columns})"
      ],
      "execution_count": null,
      "outputs": []
    },
    {
      "cell_type": "code",
      "metadata": {
        "colab_type": "code",
        "id": "DxehiYW7q_v3",
        "colab": {}
      },
      "source": [
        "sparse=csr_matrix(df_review.values)"
      ],
      "execution_count": null,
      "outputs": []
    },
    {
      "cell_type": "code",
      "metadata": {
        "id": "Xv59zVuBnbWc",
        "colab_type": "code",
        "colab": {
          "base_uri": "https://localhost:8080/",
          "height": 34
        },
        "outputId": "7eb11a57-5139-433b-efd4-93ad0bf0e3c4"
      },
      "source": [
        "sparse.shape"
      ],
      "execution_count": null,
      "outputs": [
        {
          "output_type": "execute_result",
          "data": {
            "text/plain": [
              "(55172, 17340)"
            ]
          },
          "metadata": {
            "tags": []
          },
          "execution_count": 26
        }
      ]
    },
    {
      "cell_type": "code",
      "metadata": {
        "colab_type": "code",
        "id": "WI-sqs65q_v9",
        "colab": {}
      },
      "source": [
        "# Import linear_kernel\n",
        "from sklearn.metrics.pairwise import cosine_similarity,linear_kernel\n",
        "# Compute the cosine similarity matrix"
      ],
      "execution_count": null,
      "outputs": []
    },
    {
      "cell_type": "code",
      "metadata": {
        "colab_type": "code",
        "id": "8jRtswNIHMld",
        "colab": {}
      },
      "source": [
        "def similarity(userid_int,sparse1):\n",
        "  temp=cosine_similarity(sparse1[userid_int].reshape(1,-1),sparse1)\n",
        "  cosine_sim=temp[0]\n",
        "  cosine_sim[userid_int]=0\n",
        "  return cosine_sim"
      ],
      "execution_count": null,
      "outputs": []
    },
    {
      "cell_type": "code",
      "metadata": {
        "colab_type": "code",
        "id": "0s-O3e_RCusk",
        "colab": {}
      },
      "source": [
        "def get_top_n(asin_score,u,num_of_recs,asin1):\n",
        "  sorted_recs={k: v for k, v in sorted(asin_score.items(), key=lambda item: item[1],reverse=True)}\n",
        "  top_n_recs=[]\n",
        "  count=0\n",
        "  for i in sorted_recs.keys():\n",
        "    if i not in asin1:\n",
        "      top_n_recs.append(i)\n",
        "      count+=1\n",
        "    if count==num_of_recs:\n",
        "      break\n",
        "  return top_n_recs      "
      ],
      "execution_count": null,
      "outputs": []
    },
    {
      "cell_type": "code",
      "metadata": {
        "colab_type": "code",
        "id": "2FWMvrP6ns5q",
        "colab": {}
      },
      "source": [
        "group_user=df_og.groupby(\"reviewerID\")\n",
        "df=group_user.nunique()\n",
        "# df=df.loc[df[\"asin\"]>6]\n",
        "user_list=df.index"
      ],
      "execution_count": null,
      "outputs": []
    },
    {
      "cell_type": "code",
      "metadata": {
        "colab_type": "code",
        "id": "IA2WD-jOq_wB",
        "colab": {}
      },
      "source": [
        "def get_recommendations(u,num_of_recs,sparse1,asin1):\n",
        "  sim_users=similar_users(u,sparse1)\n",
        "  sims=[0]\n",
        "  asin_score_loc=asin_score\n",
        "  for i,sim_score in sim_users.items():\n",
        "    df=group_user.get_group(int_to_userid[i])\n",
        "    for count,j in enumerate(df[\"asin\"].values):\n",
        "        asin_score_loc[j]= asin_score_loc[j]+(df[\"overall\"].iloc[count]*sim_score)\n",
        "  temp=get_top_n(asin_score,u,num_of_recs,asin1)\n",
        "  return temp"
      ],
      "execution_count": null,
      "outputs": []
    },
    {
      "cell_type": "code",
      "metadata": {
        "id": "cIkj2w6LnbWs",
        "colab_type": "code",
        "colab": {}
      },
      "source": [
        "def similar_users(u,sparse1):\n",
        "  num_of_users=30\n",
        "  userid_int=userid_to_int[u]\n",
        "  sims=similarity(userid_int,sparse1)\n",
        "  recs=dict({count:i for count,i in enumerate(sims)})\n",
        "  sorted_recs={k: v for k, v in sorted(recs.items(), key=lambda item: item[1],reverse=True)}\n",
        "  top_n_users = dict(list(sorted_recs.items())[0: num_of_users])\n",
        "  print([int_to_userid[i] for i in top_n_users.keys()])\n",
        "  return top_n_users"
      ],
      "execution_count": null,
      "outputs": []
    },
    {
      "cell_type": "code",
      "metadata": {
        "id": "ODTrb_sja-EX",
        "colab_type": "code",
        "colab": {}
      },
      "source": [
        "rec1=[]\n",
        "for i in recs:\n",
        "  rec1.append(asin_to_name[i])"
      ],
      "execution_count": null,
      "outputs": []
    },
    {
      "cell_type": "code",
      "metadata": {
        "id": "d3W_5NBMbckZ",
        "colab_type": "code",
        "colab": {
          "base_uri": "https://localhost:8080/",
          "height": 377
        },
        "outputId": "8e3878c0-65ae-4274-ecb8-93308e92ba9d"
      },
      "source": [
        "rec1"
      ],
      "execution_count": null,
      "outputs": [
        {
          "output_type": "execute_result",
          "data": {
            "text/plain": [
              "['Age Of Mythology:  Titans - PC',\n",
              " 'Age of Wonders - PC',\n",
              " 'Warcraft 2 Battle Chest: Tides of Darkness / Beyond the Dark Portal',\n",
              " 'Kingdom Hearts',\n",
              " 'Rome: Total War Gold Edition - PC',\n",
              " 'Rise of Nations + Rise of Nations: Thrones & Patriots - PC',\n",
              " 'Empire: Total War - PC',\n",
              " \"Age of Conan: Hyborian Adventures Collector's Edition - PC\",\n",
              " 'Age of Conan: Rise of the Godslayer - PC',\n",
              " \"God of War: Ascension Collector's Edition - Playstation 3\",\n",
              " 'Legend of Zelda Box Set Prima Official Game Guide',\n",
              " 'Mega Man Zero Collection - Nintendo DS',\n",
              " \"Green Yarn Yoshi amiibo - Japan Import (Yoshi's Woolly World Series)\",\n",
              " 'Zacro PS4 Vertical Stand Cooling Fan Dual Charging Station for Playstation 4 Dual Shock 4 Controllers, with Dual USB HUB Charger Ports -Dual Use with Cooling and Charging System(Not for PS4 Slim/Pro)',\n",
              " 'Playstation 2 Dual shock controller Black',\n",
              " 'Kingdom Hearts II - PlayStation 2',\n",
              " 'Halo 2 - PC',\n",
              " 'Dotop Sony Playstation 2 PS2 64MB Memory Card',\n",
              " 'Street Fighter Anniversary Collection',\n",
              " 'var aPageStart = (new Date()).getTime();\\nvar ue_t0=ue_t0||+new Date();\\n\\nwindow.ue_ihb = (window.ue_ihb || window.ueinit || 0) + 1;\\nif (window.ue_ihb === 1) {\\n\\nvar ue_csm = window,\\n    ue_hob = +new Date();\\n(function(d){var e=d.ue=d.ue||{},f=Date.now||function(){return+new Date};e.d=function(b){return f()-(b?0:d.ue_t0)};e.stub=function(b,a){if(!b[a]){var c=[];b[a]=function(){c.push([c.slice.call(arguments),e.d(),d.ue_id])};b[a].replay=function(b){for(var a;a=c.shift();)b(a[0],a[1],a[2])};b[a].isStub=1}};e.exec=function(b,a){return function(){if(1==window.ueinit)try{return b.apply(this,arguments)}catch(c){ueLogError(c,{attribution:a||\"undefined\",logLevel:\"WARN\"})}}}})(ue_csm);\\n\\n\\n    var ue_err_chan = \\'jserr-rw\\';\\n(function(d,e){function h(f,b){if(!(a.ec>a.mxe)&&f){a.ter.push(f);b=b||{};var c=f.logLevel||b.logLevel;c&&c!==k&&c!==m&&c!==n&&c!==p||a.ec++;c&&c!=k||a.ecf++;b.pageURL=\"\"+(e.location?e.location.href:\"\");b.logLevel=c;b.attribution=f.attribution||b.attribution;a.erl.push({ex:f,info:b})}}function l(a,b,c,e,g){d.ueLogError({m:a,f:b,l:c,c:\"\"+e,err:g,fromOnError:1,args:arguments},g?{attribution:g.attribution,logLevel:g.logLevel}:void 0);return!1}var k=\"FATAL\",m=\"ERROR\",n=\"WARN\",p=\"DOWNGRADED\",a={ec:0,ecf:0,\\npec:0,ts:0,erl:[],ter:[],mxe:50,startTimer:function(){a.ts++;setInterval(function(){d.ue&&a.pec<a.ec&&d.uex(\"at\");a.pec=a.ec},1E4)}};l.skipTrace=1;h.skipTrace=1;h.isStub=1;d.ueLogError=h;d.ue_err=a;e.onerror=l})(ue_csm,window);\\n\\n\\nvar ue_id = \\'G9TXMD5VVHH28KX6FQ3T\\',\\n    ue_url = \\'/gp/uedata\\',\\n    ue_navtiming = 1,\\n    ue_mid = \\'ATVPDKIKX0DER\\',\\n    ue_sid = \\'144-4105573-0721856\\',\\n    ue_sn = \\'www.amazon.com\\',\\n    ue_furl = \\'fls-na.amazon.com\\',\\n    ue_surl = \\'https://unagi-na.amazon.com/1/events/com.amazon.csm.nexusclient.prod\\',\\n    ue_int = 0,\\n    ue_fcsn = 1,\\n    ue_urt = 3,\\n    ue_rpl_ns = \\'cel-rpl\\',\\n    ue_ddq = 1,\\n    ue_fpf = \\'//fls-na.amazon.com/1/batch/1/OP/ATVPDKIKX0DER:144-4105573-0721856:G9TXMD5VVHH28KX6FQ3T$uedata=s:\\',\\n    ue_rsc = 0,\\n    ue_mcimp = 3,\\n    ue_sbuimp = 1,\\n\\n    ue_swi = 1;\\nfunction ue_viz(){(function(c,e,a){function k(b){if(c.ue.viz.length<p&&!l){var a=b.type;b=b.originalEvent;/^focus./.test(a)&&b&&(b.toElement||b.fromElement||b.relatedTarget)||(a=e[m]||(\"blur\"==a||\"focusout\"==a?\"hidden\":\"visible\"),c.ue.viz.push(a+\":\"+(+new Date-c.ue.t0)),\"visible\"==a&&(ue.isl&&uex(\"at\"),l=1))}}for(var l=0,f,g,m,n=[\"\",\"webkit\",\"o\",\"ms\",\"moz\"],d=0,p=20,h=0;h<n.length&&!d;h++)if(a=n[h],f=(a?a+\"H\":\"h\")+\"idden\",d=\"boolean\"==typeof e[f])g=a+\"visibilitychange\",m=(a?a+\"V\":\"v\")+\"isibilityState\";\\nk({});d&&e.addEventListener(g,k,0);c.ue&&d&&(c.ue.pageViz={event:g,propHid:f})})(ue_csm,document,window)};\\n\\n(function(a,g,u){function x(a){return a&&a.replace&&a.replace(/^\\\\s+|\\\\s+$/g,\"\")}function q(a){return\"undefined\"===typeof a}function y(a){try{var b=u.cookie.match(RegExp(\"(^| )\"+a+\"=([^;]+)\"));if(b)return b[2].trim()}catch(c){}}function A(d,b){d&&(a.ue_id=h.id=h.rid=d,a.ue_fpf=a.ue_fpf.replace(/((.*?:){2})(\\\\w+)/,function(a,b){return b+d}));b&&(a.ue_fpf=a.ue_fpf.replace(/(.*?:)(\\\\w|-)+/,function(a,d){return d+b}),a.ue_sid=b);a.ue.tag(\"accelerated-experience\")}function t(d,b,c,k){var g=k||+new Date,n;\\na.ueam&&a.ueam(b,d,k);if(b||q(c)){if(d)for(n in k=b?f(\"t\",b)||f(\"t\",b,{}):a.ue.t,k[d]=g,c)c.hasOwnProperty(n)&&f(n,b,c[n]);return g}}function f(d,b,c){var f=a.ue,g=b&&b!=f.id?f.sc[b]:f;g||(g=f.sc[b]={});\"id\"==d&&c&&(f.cfa2=1);return g[d]=c||g[d]}function C(d,b,c,f,g){c=\"on\"+c;var n=b[c];\"function\"===typeof n?d&&(a.ue.h[d]=n):n=function(){};b[c]=g?function(a){f(a);n(a)}:function(a){n(a);f(a)};b[c]&&(b[c].isUeh=1)}function D(d,b,c){function k(b,c){var e=[b],J=0,g={},n,k;c?(e.push(\"m=1\"),g[c]=1):g=a.ue.sc;\\nfor(k in g)if(g.hasOwnProperty(k)){var l=f(\"wb\",k),h=f(\"t\",k)||{},p=f(\"t0\",k)||a.ue.t0,m;if(c||2==l){l=l?J++:\"\";e.push(\"sc\"+l+\"=\"+k);for(m in h)3>=m.length&&!q(h[m])&&null!==h[m]&&e.push(m+l+\"=\"+(h[m]-p));e.push(\"t\"+l+\"=\"+h[d]);if(f(\"ctb\",k)||f(\"wb\",k))n=1}}!z&&n&&e.push(\"ctb=1\");return e.join(\"&\")}function B(b,c,d,e){if(b){var f=a.ue_err,k;a.ue_url&&(!e||!a.ue.log)&&b&&0<b.length&&(k=new Image,a.ue.iel.push(k),k.src=b);K?a.ue_fpf&&g.encodeURIComponent&&b&&(e=new Image,b=\"\"+a.ue_fpf+g.encodeURIComponent(b)+\\n\":\"+(+new Date-a.ue_t0),a.ue.iel.push(e),e.src=b):a.ue.log&&(k=g.chrome&&\"ul\"==c,a.ue.log(b,\"uedata\",a.ue_svi?{n:1,img:!e&&k?1:0}:{n:1}),a.ue.ielf.push(b));f&&!f.ts&&f.startTimer();a.ue.b&&(f=a.ue.b,a.ue.b=\"\",B(f,c,d,1))}}function n(b){if(!ue.collected){var c=b.timing,e=b.navigation,d=ue.t;c&&(d.na_=c.navigationStart,d.ul_=c.unloadEventStart,d._ul=c.unloadEventEnd,d.rd_=c.redirectStart,d._rd=c.redirectEnd,d.fe_=c.fetchStart,d.lk_=c.domainLookupStart,d._lk=c.domainLookupEnd,d.co_=c.connectStart,d._co=\\nc.connectEnd,d.sc_=c.secureConnectionStart,d.rq_=c.requestStart,d.rs_=c.responseStart,d._rs=c.responseEnd,d.dl_=c.domLoading,d.di_=c.domInteractive,d.de_=c.domContentLoadedEventStart,d._de=c.domContentLoadedEventEnd,d._dc=c.domComplete,d.ld_=c.loadEventStart,d._ld=c.loadEventEnd,c=d.na_,b=\"function\"!==typeof b.now||q(c)?0:new Date(c+b.now())-new Date,d.ntd=b+a.ue.t0);e&&(d.ty=e.type+a.ue.t0,d.rc=e.redirectCount+a.ue.t0);ue.collected=1}}function s(b){var c=r&&r.navigation?r.navigation.type:w,d=c&&\\n2!=c,e=a.ue.bfini;a.ue.cfa2||(e&&1<e&&(b+=\"&bfform=1\",d||(a.ue.isBFT=e-1)),2==c&&(b+=\"&bfnt=1\",a.ue.isBFT=a.ue.isBFT||1),a.ue.ssw&&a.ue.isBFT&&(q(a.ue.isNRBF)&&(c=a.ue.ssw(a.ue.oid),c.e||q(c.val)||(a.ue.isNRBF=1<c.val?0:1)),q(a.ue.isNRBF)||(b+=\"&nrbf=\"+a.ue.isNRBF)),a.ue.isBFT&&!a.ue.isNRBF&&(b+=\"&bft=\"+a.ue.isBFT));return b}if(!h.paused&&(b||q(c))){for(var p in c)c.hasOwnProperty(p)&&f(p,b,c[p]);t(\"pc\",b,c);p=f(\"id\",b)||a.ue.id;var e=a.ue.url+\"?\"+d+\"&v=\"+a.ue.v+\"&id=\"+p,z=f(\"ctb\",b)||f(\"wb\",b),r=\\ng.performance||g.webkitPerformance,l,m;z&&(e+=\"&ctb=\"+z);1<a.ueinit&&(e+=\"&ic=\"+a.ueinit);!a.ue._fi||\"at\"!=d||b&&b!=p||(e+=a.ue._fi());if(!(\"ld\"!=d&&\"ul\"!=d||b&&b!=p)){if(\"ld\"==d){try{g.onbeforeunload&&g.onbeforeunload.isUeh&&(g.onbeforeunload=null)}catch(y){}if(g.chrome)for(m=0;m<ue.ulh.length;m++)E(\"beforeunload\",ue.ulh[m]);(m=u.ue_backdetect)&&m.ue_back&&m.ue_back.value++;a._uess&&(l=a._uess());a.ue.isl=1}ue._bf&&(e+=\"&bf=\"+ue._bf());a.ue_navtiming&&r&&r.timing&&(f(\"ctb\",p,\"1\"),1==a.ue_navtiming&&\\nt(\"tc\",w,w,r.timing.navigationStart));r&&n(r);a.ue.t.hob=a.ue_hob;a.ue.t.hoe=a.ue_hoe;a.ue.ifr&&(e+=\"&ifr=1\")}t(d,b,c);c=\"ld\"==d&&b&&f(\"wb\",b);var v;c||b&&b!==p||L(b);c||p==a.ue.oid||M((f(\"t\",b)||{}).tc||+f(\"t0\",b),+f(\"t0\",b));a.ue_mbl&&a.ue_mbl.cnt&&!c&&(e+=a.ue_mbl.cnt());c?f(\"wb\",b,2):\"ld\"==d&&(h.lid=x(p));for(v in a.ue.sc)if(1==f(\"wb\",v))break;if(c){if(a.ue.s)return;e=k(e,null)}else m=k(e,null),m!=e&&(m=s(m),a.ue.b=m),l&&(e+=l),e=k(e,b||a.ue.id);e=s(e);if(a.ue.b||c)for(v in a.ue.sc)2==f(\"wb\",\\nv)&&delete a.ue.sc[v];l=0;ue._rt&&(e+=\"&rt=\"+ue._rt());c||(a.ue.s=0,(l=a.ue_err)&&0<l.ec&&l.pec<l.ec&&(l.pec=l.ec,e+=\"&ec=\"+l.ec+\"&ecf=\"+l.ecf),l=f(\"ctb\",b),f(\"t\",b,{}));e&&a.ue.tag&&0<a.ue.tag().length&&(e+=\"&csmtags=\"+a.ue.tag().join(\"|\"),a.ue.tag=a.ue.tagC());e&&a.ue.viz&&0<a.ue.viz.length&&(e+=\"&viz=\"+a.ue.viz.join(\"|\"),a.ue.viz=[]);e&&!q(a.ue_pty)&&(e+=\"&pty=\"+a.ue_pty+\"&spty=\"+a.ue_spty+\"&pti=\"+a.ue_pti);e&&a.ue.tabid&&(e+=\"&tid=\"+a.ue.tabid);e&&a.ue.aftb&&(e+=\"&aftb=1\");e&&a.ue.sbf&&(e+=\"&sbf=1\");\\n!a.ue._ui||b&&b!=p||(e+=a.ue._ui());a.ue.a=e;B(e,d,l,c)}}function L(a){var b=g.ue_csm_markers||{},c;for(c in b)b.hasOwnProperty(c)&&t(c,a,w,b[c])}function s(d,b,c){c=c||g;a.ue_pel&&window.EventTarget&&window.EventTarget.prototype&&window.EventTarget.prototype.addEventListener?window.EventTarget.prototype.addEventListener.call(c,d,b,!!window.ue_clf):c.addEventListener?c.addEventListener(d,b,!!window.ue_clf):c.attachEvent&&c.attachEvent(\"on\"+d,b)}function E(d,b,c){c=c||g;a.ue_pel&&window.EventTarget&&\\nwindow.EventTarget.prototype&&window.EventTarget.prototype.removeEventListener?window.EventTarget.prototype.removeEventListener.call(c,d,b,!!window.ue_clf):c.removeEventListener?c.removeEventListener(d,b,!!window.ue_clf):c.detachEvent&&c.detachEvent(\"on\"+d,b)}function F(){function d(){a.onUl()}function b(a){return function(){c[a]||(c[a]=1,D(a))}}var c=a.ue.r,f,h;a.onLd=b(\"ld\");a.onLdEnd=b(\"ld\");a.onUl=b(\"ul\");f={stop:b(\"os\")};g.chrome?(s(\"beforeunload\",d),ue.ulh.push(d)):f[N]=a.onUl;for(h in f)f.hasOwnProperty(h)&&\\nC(0,g,h,f[h]);a.ue_viz&&ue_viz();O&&s(\"readystatechange\",P,u);s(\"load\",a.onLd);t(\"ue\")}function P(){\"complete\"===u.readyState&&(Q?setTimeout(G,0):G())}function G(){var d;if(!(d=ue.isl)&&(d=R))a:{d=u.images||[];for(var b=0;b<d.length;b++)if(!1===d[b].complete){d=!1;break a}d=!0}if(!d)a.onUl()}function M(d,b){a.ue_mbl&&a.ue_mbl.ajax&&a.ue_mbl.ajax(d,b);a.ue.tag(\"ajax-transition\")}a.ueinit=(a.ueinit||0)+1;var h={t0:g.aPageStart||a.ue_t0,id:a.ue_id,url:a.ue_url,rid:a.ue_id,a:\"\",b:\"\",h:{},r:{ld:0,oe:0,\\nul:0},s:1,t:{},sc:{},iel:[],ielf:[],fc_idx:{},viz:[],v:\"0.202589.0\",d:a.ue&&a.ue.d,log:a.ue&&a.ue.log,clog:a.ue&&a.ue.clog,onflush:a.ue&&a.ue.onflush,onunload:a.ue&&a.ue.onunload,stub:a.ue&&a.ue.stub,lr:a.ue&&a.ue.lr,exec:a.ue&&a.ue.exec,event:a.ue&&a.ue.event,onSushiUnload:a.ue&&a.ue.onSushiUnload,onSushiFlush:a.ue&&a.ue.onSushiFlush,ulh:[],cfa2:0,paused:!1},K=a.ue_fpf?1:0,O=1===a.ue_rsc||3===a.ue_rsc,Q=3===a.ue_rsc,R=1===a.ue_rsc,N=\"beforeunload\",w;h.oid=x(h.id);h.lid=x(h.id);a.ue=h;a.ue._t0=a.ue.t0;\\na.ue.tagC=function(){var a={};return function(b){b&&(a[b]=1);b=[];for(var c in a)a.hasOwnProperty(c)&&b.push(c);return b}};a.ue.tag=a.ue.tagC();a.ue.ifr=g.top!==g.self||g.frameElement?1:0;ue.attach=s;ue.detach=E;if(\"000-0000000-8675309\"===a.ue_sid){var H=y(\"cdn-rid\"),I=y(\"session-id\");H&&I&&A(H,I)}a.uei=F;a.ueh=C;a.ues=f;a.uet=t;a.uex=D;h.reset=A;h.pause=function(a){h.paused=a};F()})(ue_csm,window,ue_csm.document);\\n\\n\\nue.stub(ue,\"event\");ue.stub(ue,\"onSushiUnload\");ue.stub(ue,\"onSushiFlush\");\\n\\nue.stub(ue,\"log\");ue.stub(ue,\"onunload\");ue.stub(ue,\"onflush\");\\n(function(c){var a=c.ue;a.cv={};a.cv.scopes={};a.count=function(d,c,b){var e={},f=a.cv,g=b&&0===b.c;e.counter=d;e.value=c;e.t=a.d();b&&b.scope&&(f=a.cv.scopes[b.scope]=a.cv.scopes[b.scope]||{},e.scope=b.scope);if(void 0===c)return f[d];f[d]=c;d=0;b&&b.bf&&(d=1);ue_csm.ue_sclog||!a.clog||0!==d||g?a.log&&a.log(e,\"csmcount\",{c:1,bf:d}):a.clog(e,\"csmcount\",{bf:d})};a.count(\"baselineCounter2\",1);a&&a.event&&(a.event({requestId:c.ue_id||\"rid\",server:c.ue_sn||\"sn\",obfuscatedMarketplaceId:c.ue_mid||\"mid\"},\\n\"csm\",\"csm.CSMBaselineEvent.4\"),a.count(\"nexusBaselineCounter\",1,{bf:1}))})(ue_csm);\\n\\n\\n(function(g,h,m){if(\"function\"===typeof h.addEventListener&&\"function\"===typeof m.querySelectorAll){var l,n,u,p,f,v,q,r,w,x=[\"mouseenter\",\"mouseleave\"],y=\"click dblclick mousedown mouseover mouseout touchstart keydown keypress MSPointerDown pointerdown\".split(\" \").concat(x),s=!1,t=[];p=function(a){for(var c=[];a;)c.push(a),a=a.parentNode;return c};n=function(a,c){var b=-1,d;for(d=0;d<c.length;d++)if(c[d]===a){b=d;break}return b};r=function(a,c){var b=n(a,c);0<=b&&c.splice(b,1)};u=function(a){var c;\\na=p(a);for(var b,d,e=0;e<a.length;e++)if(d=a[e],(b=d.nodeName)&&b!==m.nodeName){b=b.toLowerCase();if(d.id)return b+\"#\"+d.id+(c?\">\"+c:\"\");(d=d.getAttribute(\"class\"))&&(b=b+\".\"+d.split(\" \").join(\".\"));c=b+(c?\">\"+c:\"\")}return c};w=function(a){return a.replace(/[^\\\\w.:\\\\-]/g,function(a){return\"#\"===a?\"::\":\">\"===a?\":-\":\"_\"})};q=function(a,c){var b,d,e;if(g.ue&&g.ue.count&&g.ueLogError)for(b=u(a),e=w(b),d=\"degraded\"===c?\"A UX degrading element has entered the viewport: \"+b:\"A \"+c+\" was not handled on element: \"+\\nb,g.ueLogError({m:d,fromOnError:1},{logLevel:\"ERROR\",attribution:b,message:d}),b=[\"TNR\",\"TNR:\"+c,\"TNR:\"+e,\"TNR:\"+c+\":\"+e],f=0;f<b.length;f++)g.ue.count(b[f],(g.ue.count(b[f])||0)+1)};v=function(a){a=a.getBoundingClientRect();return a.top<a.bottom&&a.left<a.right&&0<=a.bottom&&a.top<=h.innerHeight&&0<=a.right&&a.left<=h.innerWidth};l=function(){s||(s=!0,setTimeout(function(){[].forEach.call(m.querySelectorAll(\"[data-ux-degraded]\"),function(a){v(a)?0>n(a,t)&&(t.push(a),q(a,\"degraded\")):r(a,t)});s=!1},\\n250))};h.addEventListener(\"scroll\",l);h.addEventListener(\"resize\",l);l=function(a){var c=!1,b=0>n(a,x);m.addEventListener(a,function(d){if(!c){c=!0;var e=[],f=b?p(d.target):[d.target],k,g,h;for(g=0;g<f.length;g++)k=f[g],k.getAttribute&&(\"mouseover\"===a&&k===d.target&&((h=k.getAttribute(\"data-ux-jq-mouseenter\"))||\"\"===h)&&e.push(k),((h=k.getAttribute(\"data-ux-\"+a))||\"\"===h)&&e.push(k));e.length?(d.ack=d.acknowledge=function(a){a=a||d.currentTarget;r(a,e)},setTimeout(function(){var b;for(b=0;b<e.length;b++)q(e[b],\\na);c=!1},250)):c=!1}},!0)};for(f=0;f<y.length;f++)l(y[f])}})(ue_csm,window,document);\\n\\n\\nvar ue_hoe = +new Date();\\n}\\nwindow.ueinit = window.ue_ihb;\\n\\n\\n\\n\\n(function(g,h,O,pa){function k(a){w&&w.tag&&w.tag(q(\":\",\"aui\",a))}function v(a,b){w&&w.count&&w.count(\"aui:\"+a,0===b?0:b||(w.count(\"aui:\"+a)||0)+1)}function l(a){try{return a.test(navigator.userAgent)}catch(b){return!1}}function x(a,b,c){a.addEventListener?a.addEventListener(b,c,!1):a.attachEvent&&a.attachEvent(\"on\"+b,c)}function q(a,b,c,d){b=b&&c?b+a+c:b||c;return d?q(a,b,d):b}function F(a,b,c){try{Object.defineProperty(a,b,{value:c,writable:!1})}catch(d){a[b]=c}return c}function P(){return setTimeout(Y,\\n0)}function qa(a,b){var c=a.length,d=c,f=function(){d--||(Q.push(b),R||(P(),R=!0))};for(f();c--;)Z[a[c]]?f():(z[a[c]]=z[a[c]]||[]).push(f)}function ra(a,b,c,d,f){var e=h.createElement(a?\"script\":\"link\");x(e,\"error\",d);f&&x(e,\"load\",f);if(a){e.type=\"text/javascript\";e.async=!0;if(a=c)a=-1!==b.indexOf(\"images/I\")||/AUIClients/.test(b);a&&e.setAttribute(\"crossorigin\",\"anonymous\");e.src=b}else e.rel=\"stylesheet\",e.href=b;h.getElementsByTagName(\"head\")[0].appendChild(e)}function aa(a,b){function c(c,d){function f(){ra(b,\\nc,h,function(b){!G&&h?(h=!1,v(\"resource_retry\"),f()):(v(\"resource_error\"),a.log(\"Asset failed to load: \"+c,G?\"WARN\":void 0));b&&b.stopPropagation?b.stopPropagation():g.event&&(g.event.cancelBubble=!0)},d)}if(ba[c])return!1;ba[c]=!0;v(\"resource_count\");var h=!0;return!f()}if(b){var d=0,f=0;c.andConfirm=function(a,b){return c(a,function(){d++;b&&b.apply(this,arguments)})};c.confirm=function(){f++};c.getCsriCounters=function(){return{reqs:d,full:f}}}return c}function sa(a,b,c){for(var d={name:a,guard:function(c){return b.guardFatal(a,\\nc)},logError:function(c,d,f){b.logError(c,d,f,a)}},f=[],e=0;e<c.length;e++)H.hasOwnProperty(c[e])&&(f[e]=S.hasOwnProperty(c[e])?S[c[e]](H[c[e]],d):H[c[e]]);return f}function A(a,b,c,d,f){return function(e,h){function n(){var a=null;d?a=h:\"function\"===typeof h&&(p.start=B(),a=h.apply(g,sa(e,k,l)),p.end=B());if(b){H[e]=a;a=e;for(Z[a]=!0;(z[a]||[]).length;)z[a].shift()();delete z[a]}p.done=!0}var k=f||this;\"function\"===typeof e&&(h=e,e=void 0);b&&(e=e?e.replace(ca,\"\"):\"__NONAME__\",T.hasOwnProperty(e)&&\\nk.error(q(\", reregistered by \",q(\" by \",e+\" already registered\",T[e]),k.attribution),e),T[e]=k.attribution);for(var l=[],m=0;m<a.length;m++)l[m]=a[m].replace(ca,\"\");var p=da[e||\"anon\"+ ++ta]={depend:l,registered:B(),namespace:k.namespace};c?n():qa(l,k.guardFatal(e,n));return{decorate:function(a){S[e]=k.guardFatal(e,a)}}}}function ea(a){return function(){var b=Array.prototype.slice.call(arguments);return{execute:A(b,!1,a,!1,this),register:A(b,!0,a,!1,this)}}}function U(a,b){return function(c,d){d||\\n(d=c,c=void 0);var f=this.attribution;return function(){y.push(b||{attribution:f,name:c,logLevel:a});var e=d.apply(this,arguments);y.pop();return e}}}function I(a,b){this.load={js:aa(this,!0),css:aa(this)};F(this,\"namespace\",b);F(this,\"attribution\",a)}function fa(){h.body?r.trigger(\"a-bodyBegin\"):setTimeout(fa,20)}function C(a,b){if(b){for(var c=a.className.split(\" \"),d=c.length;d--;)if(c[d]===b)return;a.className+=\" \"+b}}function ga(a,b){for(var c=a.className.split(\" \"),d=[],f;void 0!==(f=c.pop());)f&&\\nf!==b&&d.push(f);a.className=d.join(\" \")}function ha(a){try{return a()}catch(b){return!1}}function J(){if(K){var a=g.innerWidth?{w:g.innerWidth,h:g.innerHeight}:{w:m.clientWidth,h:m.clientHeight};5<Math.abs(a.w-V.w)||50<a.h-V.h?(V=a,L=4,(a=n.mobile||n.tablet?450<a.w&&a.w>a.h:1250<=a.w)?C(m,\"a-ws\"):ga(m,\"a-ws\")):0<L&&(L--,ia=setTimeout(J,16))}}function ua(a){(K=void 0===a?!K:!!a)&&J()}function va(){return K}function t(a,b){return\"sw:\"+(b||\"\")+\":\"+a+\":\"}function ja(a,b,c,d){if(c){b=l(/Chrome/i)&&!l(/Edge/i)&&\\n!l(/OPR/i)&&!a.capabilities.isAmazonApp;var f=t(d,\"browser\"),e=t(d,\"prod_mshop\"),g=t(d,\"beta_mshop\");!a.capabilities.isAmazonApp&&c.browser&&b&&(k(f+\"supported\"),c.browser.action(f,d));!b&&c.browser&&k(f+\"unsupported\");c.prodMshop&&k(e+\"unsupported\");c.betaMshop&&k(g+\"unsupported\")}}\"use strict\";var M=O.now=O.now||function(){return+new O},B=function(a){return a&&a.now?a.now.bind(a):M}(g.performance);pa=B();var u=g.AmazonUIPageJS||g.P;if(u&&u.when&&u.register)throw Error(\"A copy of P has already been loaded on this page.\");\\nvar w=g.ue;k();k(\"aui_build_date:3.18.16-2018-12-25\");var Q=[],R=!1,Y;Y=function(){for(var a=P(),b=M();Q.length;)if(Q.shift()(),50<M()-b)return;clearTimeout(a);R=!1};l(/OS 6_[0-9]+ like Mac OS X/i)&&x(g,\"scroll\",P);var Z={},z={},ba={},G=!1;x(g,\"beforeunload\",function(){G=!0;setTimeout(function(){G=!1},1E4)});var ca=/^prv:/,T={},H={},S={},da={},ta=0,D,y=[],ka=g.onerror;g.onerror=function(a,b,c,d,f){f&&\"object\"===typeof f||(f=Error(a,b,c),f.columnNumber=d,f.stack=b||c||d?q(String.fromCharCode(92),f.message,\\n\"at \"+q(\":\",b,c,d)):void 0);var e=y.pop()||{};f.attribution=q(\":\",f.attribution||e.attribution,e.name);f.logLevel=e.logLevel;f.attribution&&console&&console.log&&console.log([f.logLevel||\"ERROR\",a,\"thrown by\",f.attribution].join(\" \"));y=[];ka&&(e=[].slice.call(arguments),e[4]=f,ka.apply(g,e))};I.prototype={logError:function(a,b,c,d){b={message:b,logLevel:c||\"ERROR\",attribution:q(\":\",this.attribution,d)};if(g.ueLogError)return g.ueLogError(a||b,a?b:null),!0;console&&console.error&&(console.log(b),\\nconsole.error(a));return!1},error:function(a,b,c,d){a=Error(q(\":\",d,a,c));a.attribution=q(\":\",this.attribution,b);throw a;},guardError:U(),guardFatal:U(\"FATAL\"),guardCurrent:function(a){var b=y[y.length-1];return b?U(b.logLevel,b).call(this,a):a},log:function(a,b,c){return this.logError(null,a,b,c)},declare:A([],!0,!0,!0),register:A([],!0),execute:A([]),AUI_BUILD_DATE:\"3.18.16-2018-12-25\",when:ea(),now:ea(!0),trigger:function(a,b,c){var d=M();this.declare(a,{data:b,pageElapsedTime:d-(g.aPageStart||\\nNaN),triggerTime:d});c&&c.instrument&&D.when(\"prv:a-logTrigger\").execute(function(b){b(a)})},handleTriggers:function(){this.log(\"handleTriggers deprecated\")},attributeErrors:function(a){return new I(a)},_namespace:function(a,b){return new I(a,b)}};var r=F(g,\"AmazonUIPageJS\",new I);D=r._namespace(\"PageJS\",\"AmazonUI\");D.declare(\"prv:p-debug\",da);r.declare(\"p-recorder-events\",[]);r.declare(\"p-recorder-stop\",function(){});F(g,\"P\",r);fa();if(h.addEventListener){var la;h.addEventListener(\"DOMContentLoaded\",\\nla=function(){r.trigger(\"a-domready\");h.removeEventListener(\"DOMContentLoaded\",la,!1)},!1)}var m=h.documentElement,W=function(){var a=[\"O\",\"ms\",\"Moz\",\"Webkit\"],b=h.createElement(\"div\");return{testGradients:function(){b.style.cssText=\"background-image:-webkit-gradient(linear,left top,right bottom,from(#9f9),to(white));background-image:-webkit-linear-gradient(left top,#9f9,white);background-image:linear-gradient(left top,#9f9,white);\";return-1<b.style.backgroundImage.indexOf(\"gradient\")},test:function(c){var d=\\nc.charAt(0).toUpperCase()+c.substr(1);c=(a.join(d+\" \")+d+\" \"+c).split(\" \");for(d=c.length;d--;)if(\"\"===b.style[c[d]])return!0;return!1},testTransform3d:function(){var a=!1;g.matchMedia&&(a=g.matchMedia(\"(-webkit-transform-3d)\").matches);return a}}}(),u=m.className,ma=/(^| )a-mobile( |$)/.test(u),na=/(^| )a-tablet( |$)/.test(u),n={audio:function(){return!!h.createElement(\"audio\").canPlayType},video:function(){return!!h.createElement(\"video\").canPlayType},canvas:function(){return!!h.createElement(\"canvas\").getContext},\\nsvg:function(){return!!h.createElementNS&&!!h.createElementNS(\"http://www.w3.org/2000/svg\",\"svg\").createSVGRect},offline:function(){return navigator.hasOwnProperty&&navigator.hasOwnProperty(\"onLine\")&&navigator.onLine},dragDrop:function(){return\"draggable\"in h.createElement(\"span\")},geolocation:function(){return!!navigator.geolocation},history:function(){return!(!g.history||!g.history.pushState)},webworker:function(){return!!g.Worker},autofocus:function(){return\"autofocus\"in h.createElement(\"input\")},\\ninputPlaceholder:function(){return\"placeholder\"in h.createElement(\"input\")},textareaPlaceholder:function(){return\"placeholder\"in h.createElement(\"textarea\")},localStorage:function(){return\"localStorage\"in g&&null!==g.localStorage},orientation:function(){return\"orientation\"in g},touch:function(){return\"ontouchend\"in h},gradients:function(){return W.testGradients()},hires:function(){var a=g.devicePixelRatio&&1.5<=g.devicePixelRatio||g.matchMedia&&g.matchMedia(\"(min-resolution:144dpi)\").matches;v(\"hiRes\"+\\n(ma?\"Mobile\":na?\"Tablet\":\"Desktop\"),a?1:0);return a},transform3d:function(){return W.testTransform3d()},touchScrolling:function(){return l(/Windowshop|android.([3-9]|[L-Z])|OS ([5-9]|[1-9][0-9]+)(_[0-9]{1,2})+ like Mac OS X|Chrome|Silk|Firefox|Trident.+?; Touch/i)},ios:function(){return l(/OS [1-9][0-9]*(_[0-9]*)+ like Mac OS X/i)&&!l(/trident|Edge/i)},android:function(){return l(/android.([1-9]|[L-Z])/i)&&!l(/trident|Edge/i)},mobile:function(){return ma},tablet:function(){return na}},p;for(p in n)n.hasOwnProperty(p)&&\\n(n[p]=ha(n[p]));for(var X=\"textShadow textStroke boxShadow borderRadius borderImage opacity transform transition\".split(\" \"),N=0;N<X.length;N++)n[X[N]]=ha(function(){return W.test(X[N])});var K=!0,ia=0,V={w:0,h:0},L=4;J();x(g,\"resize\",function(){clearTimeout(ia);L=4;J()});var oa={getItem:function(a){try{return g.localStorage.getItem(a)}catch(b){}},setItem:function(a,b){try{return g.localStorage.setItem(a,b)}catch(c){}}};ga(m,\"a-no-js\");C(m,\"a-js\");!l(/OS [1-8](_[0-9]*)+ like Mac OS X/i)||g.navigator.standalone||\\nl(/safari/i)||C(m,\"a-ember\");u=[];for(p in n)n.hasOwnProperty(p)&&n[p]&&u.push(\"a-\"+p.replace(/([A-Z])/g,function(a){return\"-\"+a.toLowerCase()}));C(m,u.join(\" \"));m.setAttribute(\"data-aui-build-date\",\"3.18.16-2018-12-25\");r.register(\"p-detect\",function(){return{capabilities:n,localStorage:n.localStorage&&oa,toggleResponsiveGrid:ua,responsiveGridEnabled:va}});l(/UCBrowser/i)||n.localStorage&&C(m,oa.getItem(\"a-font-class\"));r.declare(\"a-event-revised-handling\",!1);var E=navigator.serviceWorker;E&&x(E,\\n\"message\",function(a){a&&a.data&&v(a.data.k,a.data.v)});p={reg:{},unreg:{}};p.unreg.browser={action:function(a,b){var c=E.getRegistrations();c&&c.then(function(c){c.forEach(function(c){c.unregister().then(function(){v(a+\"success\")}).catch(function(c){r.logError(c,\"[AUI SW] Failed to \"+b+\" service worker: \");v(a+\"failure\")})})})}};(function(a){var b=a.reg,c=a.unreg;E&&E.getRegistrations?(D.when(\"A\",\"a-util\").execute(function(a,b){ja(a,b,c,\"unregister\")}),x(g,\"load\",function(){D.when(\"A\",\"a-util\").execute(function(a,\\nc){ja(a,c,b,\"register\")})})):(b&&(b.browser&&k(t(\"register\",\"browser\")+\"unsupported\"),b.prodMshop&&k(t(\"register\",\"prod_mshop\")+\"unsupported\"),b.betaMshop&&k(t(\"register\",\"beta_mshop\")+\"unsupported\")),c&&(c.browser&&k(t(\"unregister\",\"browser\")+\"unsupported\"),c.prodMshop&&k(t(\"unregister\",\"prod_mshop\")+\"unsupported\"),c.betaMshop&&k(t(\"unregister\",\"beta_mshop\")+\"unsupported\")))})(p);r.declare(\"a-fix-event-off\",!1);v(\"pagejs:pkgExecTime\",B()-NaN)})(window,document,Date);\\n(window.AmazonUIPageJS ? AmazonUIPageJS : P).when(\\'sp.load.js\\').execute(function() {\\n  (window.AmazonUIPageJS ? AmazonUIPageJS : P).load.js(\\'https://images-na.ssl-images-amazon.com/images/I/61o5HuBKUHL._RC|11IYhapguOL.js,61VQRvc280L.js,21iSNz47xoL.js,012FVc3131L.js,119KAWlHU6L.js,01JTmZVCmIL.js,01ynJvifvjL.js,51WivJzk7vL.js,11AHlQhPRjL.js,01NATrwbNUL.js,11aNYFFS5hL.js,116tgw9TSaL.js,21auxuI+dRL.js,01PoLXBDXWL.js,61GDyZ5kYqL.js,01mi-J86cyL.js,11BOgvnnntL.js,31SG6rlHlbL.js,01rpauTep4L.js,01iyxuSGj4L.js,01XI-Ief5sL.js_.js?AUIClients/AmazonUI#170461-T1.168183-T1.177619-T1.144375-T1\\');\\n});\\n\\n\\n.nav-sprite-v1 .nav-sprite, .nav-sprite-v1 .nav-icon {\\n  background-image: url(https://images-na.ssl-images-amazon.com/images/G/01/gno/sprites/nav-sprite-global_bluebeacon-V3-1x_optimized._CB483188077_.png);\\n  background-position: 0 1000px;\\n  background-repeat: repeat-x;\\n}\\n.nav-spinner {\\n  background-image: url(https://images-na.ssl-images-amazon.com/images/G/01/javascripts/lib/popover/images/snake._CB192571611_.gif);\\n  background-position: center center;\\n  background-repeat: no-repeat;\\n}\\n.nav-timeline-icon, .nav-access-image, .nav-timeline-prime-icon {\\n  background-image: url(https://images-na.ssl-images-amazon.com/images/G/01/gno/sprites/timeline_sprite_1x._CB276239408_.png);\\n  background-repeat: no-repeat;\\n}\\n\\n\\n\\n\\n\\n.ap_popover_unsprited .ap_body .ap_left{background-image:url(https://images-na.ssl-images-amazon.com/images/G/01/javascripts/lib/popover/images/po_left_17._V1_.png)}.ap_popover_unsprited .ap_body .ap_right{background-image:url(https://images-na.ssl-images-amazon.com/images/G/01/javascripts/lib/popover/images/po_right_17._V1_.png)}.ap_popover_unsprited .ap_header .ap_left{background-image:url(https://images-na.ssl-images-amazon.com/images/G/01/javascripts/lib/popover/images/po_top_left._V1_.png)}.ap_popover_unsprited .ap_header .ap_right{background-image:url(https://images-na.ssl-images-amazon.com/images/G/01/javascripts/lib/popover/images/po_top_right._V1_.png)}.ap_popover_unsprited .ap_header .ap_middle{background-image:url(https://images-na.ssl-images-amazon.com/images/G/01/javascripts/lib/popover/images/po_top._V1_.png)}.ap_popover_unsprited .ap_footer .ap_left{background-image:url(https://images-na.ssl-images-amazon.com/images/G/01/javascripts/lib/popover/images/po_bottom_left._V1_.png)}.ap_popover_unsprited .ap_footer .ap_right{background-image:url(https://images-na.ssl-images-amazon.com/images/G/01/javascripts/lib/popover/images/po_bottom_right._V1_.png)}.ap_popover_unsprited .ap_footer .ap_middle{background-image:url(https://images-na.ssl-images-amazon.com/images/G/01/javascripts/lib/popover/images/po_bottom._V1_.png)}.ap_popover_sprited .ap_body .ap_left,.ap_popover_sprited .ap_body .ap_right{background-image:url(https://images-na.ssl-images-amazon.com/images/G/01/javascripts/lib/popover/images/light/sprite-v._V1_.png)}.ap_popover_sprited .ap_closebutton,.ap_popover_sprited .ap_footer .ap_left,.ap_popover_sprited .ap_footer .ap_middle,.ap_popover_sprited .ap_footer .ap_right,.ap_popover_sprited .ap_header .ap_left,.ap_popover_sprited .ap_header .ap_middle,.ap_popover_sprited .ap_header .ap_right{background-image:url(https://images-na.ssl-images-amazon.com/images/G/01/javascripts/lib/popover/images/light/sprite-h._V1_.png)}.ap_popover_sprited .ap_body .ap_left-arrow,.ap_popover_sprited .ap_body .ap_right-arrow{background-image:url(https://images-na.ssl-images-amazon.com/images/G/01/javascripts/lib/popover/images/light/sprite-arrow-v._V1_.png)}.ap_popover{position:absolute;outline:0}.ap_body{height:100%;min-height:36px;position:relative;background-color:#fff;margin:0 17px}.ap_body .ap_left,.ap_popover_sprited .ap_body .ap_left-arrow{width:17px;height:100%;position:absolute;top:0;left:-17px;background-attachment:scroll;background-repeat:repeat-y}.ap_popover_sprited .ap_body .ap_left{background-position:0 top}.ap_body .ap_right,.ap_popover_sprited .ap_body .ap_right-arrow{width:17px;height:100%;position:absolute;top:0;right:-17px;background-attachment:scroll;background-repeat:repeat-y}.ap_popover_sprited .ap_body .ap_right{background-position:-51px top}.ap_footer,.ap_header{position:relative;width:100%}.ap_footer *,.ap_header *{height:26px}.ap_header .ap_left{position:absolute;top:0;left:0;width:34px;background-attachment:scroll;background-repeat:no-repeat}.ap_popover_sprited .ap_header .ap_left{background-position:left -2px}.ap_header .ap_right{width:34px;position:absolute;top:0;right:0;background-attachment:scroll;background-repeat:no-repeat}.ap_popover_sprited .ap_header .ap_right{background-position:right -2px}.ap_header .ap_middle{margin:0 34px;background-attachment:scroll;background-repeat:repeat-x}.ap_popover_sprited .ap_header .ap_middle{background-position:0 -70px}.ap_footer .ap_left{position:absolute;top:0;left:0;width:34px;background-attachment:scroll;background-repeat:no-repeat}.ap_popover_sprited .ap_footer .ap_left{background-position:left -40px}.ap_footer .ap_right{width:34px;position:absolute;top:0;right:0;background-attachment:scroll;background-repeat:no-repeat}.ap_popover_sprited .ap_footer .ap_right{background-position:right -40px}.ap_footer .ap_middle{margin:0 34px;background-attachment:scroll;background-repeat:repeat-x}.ap_popover_sprited .ap_footer .ap_middle{background-position:0 -108px}.ap_popover .ap_titlebar{display:none;position:absolute;left:0;top:0;background-color:#EAF3FE;border-bottom:1px solid #C2DDF2;font-size:14px;font-weight:700;margin:8px 18px;white-space:nowrap;overflow:hidden}.ap_popover .ap_titlebar.multiline{white-space:normal;overflow:visible}.ap_popover .ap_titlebar .ap_title{padding:4px 0;margin-left:10px;overflow:hidden}#ap_overlay,#ap_overlay div{background-color:#3F4C58;width:100%;position:absolute;top:0;left:0;z-index:99}.ap_popover .ap_close{position:absolute;right:18px;top:13px}.ap_popover .ap_close a{padding:5px;text-decoration:none;outline:0}.ap_popover .ap_close .ap_closetext{display:none;margin-right:5px;line-height:1em}.ap_popover .ap_closebutton{display:-moz-inline-box;display:inline-block;width:15px;height:15px;background-repeat:no-repeat;background-position:0 -136px;position:relative;overflow:hidden;vertical-align:top}.ap_popover .ap_closebutton span{position:absolute;top:-9999px}.ap_popover .ap_close img{vertical-align:top}.ap_classic{border-top:1px solid #ccc;border-left:1px solid #ccc;border-bottom:1px solid #2F2F1D;border-right:1px solid #2F2F1D;background-color:#EFEDD4;padding:3px}.ap_classic .ap_titlebar{color:#86875D;font-size:12px;padding:0 0 3px 0;line-height:1em}.ap_classic .ap_close{float:right}.ap_classic .ap_content{clear:both;background-color:#fff;border:1px solid #ACA976;padding:8px;font-size:11px}\\n\\n\\n\\n(function(d,b,m){function c(a){return\"--private-amznjqshim-\"+a}function e(a,l){var b=c(l);d.now(b).execute(c(a+\"-\"+b)+\"-\"+f++,function(a){void 0===a&&d.declare(b,!0)})}function h(a){e(\"markRequested\",\"functionality-requested:\"+a)}function g(a){e(\"completedStage\",\"stage-\"+a)}b.goN2Debug||(b.goN2Debug={info:function(){}});\"use strict\";var f=0,k=b.amznJQ=new function(){this.addLogical=this.addStyle=this.addStyles=this.PLNow=this.windowOnLoad=function(){};this.declareAvailable=function(a){e(\"declaring\",\\na)};this.available=function(a,b){a=c(a);h(a);d.when(a,c(\"jQuery\")).execute(c(\"available-\"+a)+\"-\"+f++,b)};this.onReady=function(a,b){a=c(a);h(a);d.when(a,\"a-domready\",c(\"jQuery\")).execute(c(\"onReady-\"+a)+\"-\"+f++,b)};this.onCompletion=function(a,b){var e=c(\"stage-\"+a);d.when(e,c(\"jQuery\")).execute(b)};this.completedStage=function(a){g(a)};this.addPL=function(a){d.when(\"a-preload\").execute(c(\"Preloader\")+\"-\"+f++,function(b){b.preload(a)})};this.strings={};this.chars={}};d.when(\"load\").execute(c(\"fail-safe-stages\"),\\nfunction(){g(\"amznJQ.theFold\");g(\"amznJQ.criticalFeature\")});d.when(\"jQuery\").execute(\"define amznJQ jQuery\",function(a){b.jQuery||(b.jQuery=a);k.jQuery||(k.jQuery=a);e(\"declaring\",\"jQuery\")})})(window.P||window.AmazonUIPageJS,window,document);\\n(window.AmazonUIPageJS ? AmazonUIPageJS : P).when(\\'atf\\').execute(function(){\\n  (window.AmazonUIPageJS ? AmazonUIPageJS : P).load.js(\\'https://images-na.ssl-images-amazon.com/images/I/417QjYmMtBL.js?AUIClients/AmazonPopoversAUIShim#us\\');\\n  (window.AmazonUIPageJS ? AmazonUIPageJS : P).load.js(\\'https://images-na.ssl-images-amazon.com/images/I/31gnJjWvxPL._RC|11div+n5b+L.js,21lOtnkorWL.js,51CysS8km3L.js,31g6QUCju5L.js,21+4XneTXRL.js,318rs4piGPL.js,01jEqq6I0UL.js,0185ITV0M6L.js,41+MVzL0WbL.js,217XOv1WjVL.js,01Gx8DhrplL.js,011qZnP-NfL.js,11H+quk5jAL.js,21FBJlPfM6L.js,11ZdiaYG8gL.js,81Mo7y0dCeL.js,6179IBZcR+L.js,31UjTApGOPL.js,01LHJt5PiyL.js,11B9yJN+bnL.js,31Ac-cQ+ZWL.js,01fEkjo0KKL.js,0193uyIciNL.js,41D4kRuiy9L.js,31ad06VRAqL.js,11e9-8uUHQL.js,01s9HEfbt3L.js,11iHZuQapKL.js,61iXRFOTloL.js,11WBo+4152L.js,11MQqFPEK+L.js,41EDKFa-8YL.js,11G4c43OZvL.js,21Ug6yrFIdL.js,3133OUNaHqL.js,11jf5oS-4FL.js,01X2zigX4kL.js,210mdW2-ZEL.js,21mymEONFtL.js,61+TkNaM7yL.js,515EXqsrGfL.js,21OJDARBhQL.js,41s+OBPxTPL.js,01IWUb29Q4L.js,01JzE3-DfLL.js,21e71NrLt3L.js,11Ze1YhMgJL.js,21Wa0ZZVAmL.js,31qpl48GBDL.js,41UXUgXh7tL.js,31bQ6uPDcgL.js,312xLUEw6sL.js,51EkUAdxEhL.js,21NDIsf0a1L.js,015TRQC5i+L.js,61e7xszHEhL.js,01lcH4zcTaL.js,01OtvpwikQL.js,51TAluzWqWL.js,01qwoVEkKlL.js,21mR+GlPoIL.js,01qXU4-2A0L.js,11wTwl+500L.js,517jAXjzzNL.js,01qPwv8D5hL.js,01YivelYW5L.js,016QFWAAdML.js,41dzl0sSZuL.js,11Gx+6S5O-L.js,21IZ0MO8WtL.js,41FZjmiJywL.js,017s5z---TL.js,31ZS5TQVWDL.js,51p2fLVTtlL.js,412daF3ApLL.js,51oADhMpPoL.js_.js?AUIClients/USSuperleafDetailPageMetaAsset#desktop.us.164772-T1.141052-T1.171964-T1.137613-T1.159929-T1.146207-T1.167162-T1.172469-T1.155915-T1.111960-T1.146883-T1.151985-T1.136850-T1.153662-T1.103061-T1.123392-T1.153197-T1.114779-T1.120067-T1.150150-T1.131900-T1.184660-C.162909-C.152622-T1.108310-T1.127433-T1.126331-T1.156391-T1.80562-T1.107686-T1.172346-T1.159402-T1.108343-T1.109378-T1.143147-T1.147957-T1.154031-T1.171818-T1.169593-T1.133003-T1\\');\\n});\\n\\n{\"deviceType\":\"web\"}\\n{\"widgetSchema\":\"dp:widget:\",\"dimensionSchema\":\"dp:dims:\"}\\n\\n\\n  #cm_cr_dpwidget .a-size-micro {\\n    font-size: 9px;\\n  } \\n\\n  #cm_cr_dpwidget .c7yTopDownDashedStrike {\\n    border-top: 1px dashed #A9A9A9;\\n    border-bottom: 1px dashed #A9A9A9;\\n  }\\n\\n  #cm_cr_dpwidget .c7yBadgeAUI {\\n    text-transform: uppercase;\\n    letter-spacing: 0.5px;\\n    padding: 2px;\\n    white-space: nowrap;\\n  }\\n\\n\\n.nav-sprite-v1 .nav-sprite, .nav-sprite-v1 .nav-icon {\\n  background-image: url(https://images-na.ssl-images-amazon.com/images/G/01/gno/sprites/nav-sprite-global_bluebeacon-V3-1x_optimized._CB483188077_.png);\\n  background-position: 0 1000px;\\n  background-repeat: repeat-x;\\n}\\n.nav-spinner {\\n  background-image: url(https://images-na.ssl-images-amazon.com/images/G/01/javascripts/lib/popover/images/snake._CB192571611_.gif);\\n  background-position: center center;\\n  background-repeat: no-repeat;\\n}\\n.nav-timeline-icon, .nav-access-image, .nav-timeline-prime-icon {\\n  background-image: url(https://images-na.ssl-images-amazon.com/images/G/01/gno/sprites/timeline_sprite_1x._CB276239408_.png);\\n  background-repeat: no-repeat;\\n}\\n\\n\\n  \\n    .tagEdit {\\n      padding-bottom:4px;\\n      padding-top:4px;\\n    }\\n\\n    .edit-tag {\\n      width: 155px;\\n      margin-left: 10px;\\n    }\\n\\n    .list-tags {\\n      white-space: nowrap;\\n      padding: 1px 0px 0px 0px;\\n    }\\n\\n   #suggest-table {\\n      display: none;\\n      position: absolute;\\n      z-index: 2;\\n      background-color: #fff;\\n      border: 1px solid #9ac;\\n    }\\n\\n    #suggest-table tr td{\\n      color: #333;\\n      font: 11px Verdana, sans-serif;\\n      padding: 2px;\\n    }\\n\\n    #suggest-table tr.hovered {\\n      color: #efedd4;\\n      background-color: #9ac;\\n    }\\n\\n  \\n  .see-popular {\\n    padding: 1.3em 0 0 0;\\n  }\\n\\n  .tag-cols {\\n    border-collapse: collapse;\\n  }\\n\\n  .tag-cols td {\\n    vertical-align: top;\\n    width: 250px;\\n    padding-right: 30px;\\n  }\\n\\n  .tag-cols .tag-row {\\n    padding: 0 0 7px 0px;\\n  }\\n\\n  .tag-cols .see-all {\\n    white-space: nowrap;\\n    padding-top: 5px;\\n  }\\n\\n  .tags-piles-feedback {\\n    display: none;\\n    color: #000;\\n    font-size: 0.9em;\\n    font-weight: bold;\\n    margin: 0px 0 0 0;\\n   }\\n\\n  .tag-cols i {\\n    display: none;\\n    cursor: pointer;\\n    cursor: hand;\\n    float: left;\\n    font-style: normal;\\n    font-size: 0px;\\n    vertical-align: bottom;\\n    width: 16px;\\n    height: 16px;\\n    margin-top: 1px;\\n    margin-right: 3px;\\n  }\\n\\n  .tag-cols .snake {\\n    display: block;\\n    background: url(\\'https://images-na.ssl-images-amazon.com/images/G/01/x-locale/communities/tags/graysnake._CB192250049_.gif\\');\\n  }\\n\\n  #tagContentHolder .tip {\\n    display: none;\\n    color: #999;\\n    font-size: 10px;\\n    padding-top: 0.25em;\\n  }\\n\\n  #tagContentHolder .tip a {\\n    color: #999 !important;\\n    text-decoration: none !important;\\n    border-bottom: solid 1px #CCC;\\n  }\\n\\n  .nowrap {\\n    white-space: nowrap;\\n  }\\n\\n  #tgEnableVoting {\\n    display: none;\\n  }\\n\\n  #tagContentHolder .count {\\n    color: #666;\\n    font-size: 10px;\\n    margin-left: 3px;\\n    white-space: nowrap;\\n  }\\n\\n  .count.tgVoting {\\n    cursor: pointer;\\n  }\\n\\n  .tgVoting .tgCounter {\\n    margin-right: 3px;\\n    border-bottom: 1px dashed #003399;\\n    color: #003399;\\n  }\\n\\n\\n.c2c-inline-sprite {\\n    display: -moz-inline-box;\\n    display: inline-block;\\n    margin: 0;padding: 0; \\n    position: relative;\\n    overflow: hidden;\\n    vertical-align: middle;\\n    background-image: url(https://images-na.ssl-images-amazon.com/images/G/01/electronics/click2call/click2call-sprite._CB156431432_.png);\\n    background-repeat: no-repeat;\\n}\\n.c2c-inline-sprite span {\\n    position:absolute;\\n    top:-9999px;\\n}\\n\\n.dp-call-me-button {\\n    width:52px;\\n    height:22px;\\n    background-position:0px -57px; \\n}\\n\\n#dp-c2c-phone-icon {\\n  background-image:url(https://images-na.ssl-images-amazon.com/images/G/01/electronics/click2call/sprite-click2call._CB134653340_.png);\\n  background-repeat:no-repeat;\\n  background-position: 0px 0px;\\n  width:36px;\\n  height:35px;\\n  float:left;\\n  margin-right:0.5em;\\n}   \\n#detailpage-click2call-table {\\n  padding: 5px 0;\\n}   \\n\\n/* Different sprites/images used CSS Start */\\n.swSprite {background-image: url(https://images-na.ssl-images-amazon.com/images/G/01/common/sprites/sprite-site-wide-3._CB375430972_.png); }\\n.dpSprite {background-image: url(https://images-na.ssl-images-amazon.com/images/G/01/common/sprites/sprite-dp-2._CB384267953_.png); }\\n.wl-button-sprite {background-image: url(https://images-na.ssl-images-amazon.com/images/G/01/x-locale/communities/wishlist/add-to-wl-button-sprite._CB192250042_.gif); }\\n.cBoxTL, .cBoxTR, .cBoxBL, .cBoxBR { background-image:url(https://images-na.ssl-images-amazon.com/images/G/01/common/sprites/sprite-site-wide-2._CB146303866_.png); }\\n.auiTestSprite { background: url(https://images-na.ssl-images-amazon.com/images/G/01/nav2/images/sprite-carousel-btns-stars2._CB376388587_.png) no-repeat scroll 0 0 transparent; }\\nspan.amtchelp { background: url(https://images-na.ssl-images-amazon.com/images/G/01/SellerForums/amz/images/help-16x16._CB137691369_.gif) no-repeat scroll right bottom transparent; }\\n.shuttleGradient { background: url(https://images-na.ssl-images-amazon.com/images/G/01/x-locale/communities/customerimage/shuttle-gradient._CB192250138_.gif); }\\n.twisterPopoverArrow { background: url(https://images-na.ssl-images-amazon.com/images/G/01/gateway/csw/tri-down._CB155542082_.png); }\\n#finderUpdateButton img, #finderShowMoreDevicesLink, #finderHideMoreDevicesLink {background-image: url(https://images-na.ssl-images-amazon.com/images/G/01/nav2/finders/finder-fits-sprites._CB192545788_.gif);}\\n.cmtySprite { background-image: url(https://images-na.ssl-images-amazon.com/images/G/01/common/sprites/sprite-communities._CB320811603_.png); background-repeat: no-repeat; }\\n\\n/* Different sprites/images used CSS End */\\n\\n\\n\\n/* Best Seller Badging */\\n.simsWrapper .shoveler ul { height: 220px;}\\n\\n\\n  .medSprite { background-image: url(\\'https://images-na.ssl-images-amazon.com/images/G/01/common/sprites/sprite-media-platform._CB247725847_.png\\'); background-repeat: no-repeat; }\\n\\n\\n\\n<!--\\nfunction amz_js_PopWin(url,name,options){\\n  var ContextWindow = window.open(url,name,options);\\n  ContextWindow.focus();\\n  return false;\\n}\\n//-->\\n\\n\\n\\n\\n\\n\\nAmazon.com: Hell\\'s Kitchen - PC: Video Games\\n\\n\\n\\n// =============================================================================\\n// Function Class: Show/Hide product promotions & special offers link\\n// =============================================================================\\n\\nfunction showElement(id) {\\n  var elm = document.getElementById(id);\\n  if (elm) {\\n    elm.style.visibility = \\'visible\\';\\n    if (elm.getAttribute(\\'name\\') == \\'heroQuickPromoDiv\\') {\\n      elm.style.display = \\'block\\';\\n    }\\n  }\\n}\\nfunction hideElement(id) {\\n  var elm = document.getElementById(id);\\n  if (elm) {\\n    elm.style.visibility = \\'hidden\\';\\n    if (elm.getAttribute(\\'name\\') == \\'heroQuickPromoDiv\\') {\\n      elm.style.display = \\'none\\';\\n    }\\n  }\\n}\\nfunction showHideElement(h_id, div_id) {\\n  var hiddenTag = document.getElementById(h_id);\\n  if (hiddenTag) {\\n    showElement(div_id);\\n  } else {\\n    hideElement(div_id);\\n  }\\n}\\n\\n    if(typeof P === \\'object\\' && typeof P.when === \\'function\\'){\\n    P.register(\"isLazyLoadWeblabEnabled\", function(){\\n        var  isWeblabEnabled = 1;\\n        return isWeblabEnabled;\\n      });\\n    }\\n\\n\\twindow.isBowserFeatureCleanup = 0;\\n\\t\\nvar touchDeviceDetected = false;\\n\\n\\n        P.when(\\'atf\\').register(\\'sp.load.js\\');\\n\\n\\nvar CSMReqs={af:{c:2,p:\\'atf\\'},cf:{c:2,p:\\'cf\\'},x1:{c:1,p:\\'x1\\'},x2:{c:1,p:\\'x2\\'}};\\nfunction setCSMReq(a){\\n    a=a.toLowerCase();\\n    var b=CSMReqs[a];\\n    if(b&&--b.c==0){\\n        if(typeof uet==\\'function\\'){uet(a); (a == \\'af\\') && (typeof replaceImg === \\'function\\') && replaceImg();};\\n        if(typeof P != \\'undefined\\'){\\n            P.register(b.p);\\n            if(a == \\'af\\') {\\n                if(typeof uet === \\'function\\') {\\n                    uet(\\'bb\\', \\'TwisterAUIWait\\', {wb: 1});\\n                }\\n            }\\n        };\\n    }\\n}\\nif(typeof P != \\'undefined\\') {\\n    P.when(\\'A\\').execute(function(A) {\\n        if(typeof uet === \\'function\\') {\\n            uet(\\'af\\', \\'TwisterAUIWait\\', {wb: 1});\\n        }\\n    });\\n}\\n\\nvar addlongPoleTag = function(marker,customtag){\\n    marker=marker.toLowerCase();\\n    var b=CSMReqs[marker];\\n    if(b.c == 0){\\n        if(window.ue && typeof ue.tag === \\'function\\') {\\n            ue.tag(customtag);\\n        }\\n    }\\n};\\n;(function(_onerror){\\n  var old_error_handler = _onerror;\\n  var attributionMap = {\\n          \"BrowserAddon\":{\\n            logLevel: \"ERROR\",\\n            files:[\\n                /^res:\\\\/\\\\//, \\n                /^resource:\\\\/\\\\//, /^chrome:\\\\/\\\\//, \\n                /^chrome-extension:\\\\/\\\\//, /^extensions\\\\//, \\n                /^file:\\\\/\\\\/\\\\//, /^chrome\\\\/RendererExtensionBindings/, \\n                /^plugin\\\\/amazon_com_detail\\\\.js/, \\n                /^miscellaneous_bindings/, \\n              \\n                // plugin in china\\n                /^http.?:\\\\/\\\\/([^\\\\s\\\\.]+\\\\.)*qhimg\\\\.com/,\\n              \\n                // plugin in India\\n                /^http.?:\\\\/\\\\/([^\\\\s\\\\.]+\\\\.)*datafastguru\\\\.info/,\\n\\n                /^http.?:\\\\/\\\\/sc1\\\\.checkpoint\\\\.com\\\\/dev\\\\/abine\\\\/scripts\\\\/inject\\\\.js/,\\n\\n                /^http.?:\\\\/\\\\/([^\\\\s\\\\.]+\\\\.)*image2play\\\\.com/,\\n\\n                /^http.?:\\\\/\\\\/([^\\\\s\\\\.]+\\\\.)*wajam\\\\.com/,\\n\\n                /^http.?:\\\\/\\\\/([^\\\\s\\\\.]+\\\\.)*ydstatic\\\\.com/,\\n\\n\\t\\t/^https?:\\\\/\\\\/([^\\\\s\\\\.]+\\\\.)*googleapis\\\\.com\\\\/ajax\\\\/libs\\\\/jquery/,\\n\\n\\t\\t/^https?:\\\\/\\\\/www\\\\.superfish\\\\.com\\\\/ws/,\\n\\n\\t\\t/^https?:\\\\/\\\\/api.imideo.com\\\\/v2/,\\n\\n\\t\\t/^https?:\\\\/\\\\/minibar.iminent.com/,\\n\\n\\t\\t/^https?:\\\\/\\\\/translate.googleusercontent.com/,\\n\\t\\n\\t\\t/^includes\\\\/helper/\\n            ]\\n          }\\n  };\\n\\n    function findMatch(f){\\n\\tfor(var attribution in attributionMap){\\n\\t    var i=0;\\n\\t    var attributionValue = attributionMap[attribution];\\n\\t    var files = attributionValue[\\'files\\'];\\n\\t    while(files[i]){\\n\\t\\tif(f.match(files[i])){\\n\\t            var exception={};\\n\\t\\t    exception.attribution = attribution;\\n\\t\\t    if(attributionValue.hasOwnProperty(\"logLevel\")){\\n\\t\\t\\texception.logLevel = attributionValue[\\'logLevel\\'];\\t\\n\\t\\t    }\\n\\t\\treturn exception;\\n           \\t}\\n\\t\\ti++;\\n\\t    }\\n        }\\n\\treturn null;\\n    }\\n\\n\\n    function dpOnErrorOverride(message, file, line, col, error){\\n     var matchingErrorFound = false;\\n     if(typeof file == \"string\"){\\n        try{\\n\\t    var jsException = findMatch(file);\\n\\t    if(jsException && typeof jsException === \"object\"){\\n                jsException.m =  message;\\n                jsException.f = file;\\n                jsException.l = line;\\n                jsException.c =  \"\" + (col || \"\");\\n                jsException.err =  error;\\n                jsException.fromOnError = 1;\\n                jsException.args = arguments;\\n                if(window.ueLogError){\\n               \\t    window.ueLogError(jsException);\\n\\t\\t    matchingErrorFound = true;\\n\\t\\t    if(ue && ue.count){\\n\\t\\t        ue.count(\"dpJavascriptAffectedErrors\", (ue.count(\"dpJavascriptAffectedErrors\") || 0) + 1);\\n\\t\\t        ue.count(\"dpJSError\" + jsException.attribution, (ue.count(\"dpJSError\" + jsException.attribution) || 0) + 1);\\n\\t\\t    }\\n\\t        }\\n            }\\n\\t}catch(exception){\\n\\t    if(window.ueLogError){\\n\\t        window.ueLogError(exception,{message: \"dpOnErrorOverride: error occurred - \", logLevel:\"FATAL\"});\\n\\t    }\\n\\t}\\n    }\\n\\tif(!matchingErrorFound){ \\n          old_error_handler.apply(this, arguments);\\n\\t}\\n        return false;\\n    }\\n\\n      dpOnErrorOverride.skipTrace = 1;\\n      window.onerror = dpOnErrorOverride;\\n    })(window.onerror);\\n\\n\\nvar gbEnableTwisterJS  = 0;\\nvar isTwisterPage = 0;\\n  isTwisterPage = 1;\\n\\n\\n\\n    \\n\\n\\n    table.downloadEstimates {\\n      font-family: Verdana, Arial, sans-serif;\\n      border-collapse: collapse;\\n      font-size: .7em;\\n    }\\n    table.downloadEstimates td, table.downloadEstimates th {\\n      border: 1px dotted #898989;\\n      text-align: center;\\n    }\\n    table.downloadEstimates td {\\n      padding: 4px;\\n    }\\n    table.downloadEstimates th {\\n      background-color: #F5F6E8;\\n      padding: 6px;\\n      font-weight: normal;\\n    }\\n\\n    table.dsv-prime-bar td.bar-background {\\n      background-image: url(https://images-na.ssl-images-amazon.com/images/G/01/detail/graduated-blue._CB235410893_.jpg);\\n      paddding-top: 8px;\\n      background-repeat: repeat-x;\\n    }\\n    .dsv-prime-text {\\n      margin: 0px;\\n      padding: 0px;\\n    }\\n\\n    .compatibilityGradient {\\n        width: 280px;\\n        background: linear-gradient(#D9ECC1, white);\\n        background-repeat: no-repeat;\\n        background-size: 100% 25px;\\n\\n        border: 1px solid #94CA51;\\n        border-radius: 15px;\\n    }\\n\\n    table tr td div.compatibilityDownload {\\n        background-color: #D9ECC1;\\n        text-align: center;\\n        border-bottom-left-radius: 15px;\\n        border-bottom-right-radius: 15px;\\n        padding: 5px;\\n    }\\n\\n    .compatibilityLoading {\\n        background-image: url(https://g-ecx.images-amazon.com/images/G/01/amazonui/loading/loading-4x._CB391853216_.gif);\\n        background-repeat: no-repeat; background-position: 75px 0px;\\n    }\\n\\n    #compatibilityDownloadButton {\\n        height: 27px;\\n        width: 202px;\\n        cursor: pointer;\\n    }\\n\\n    #compatibilityDeleteButton {\\n        height: 27px;\\n        width: 104px;\\n        cursor: pointer;\\n    }\\n\\n    #compatibilityLoginLink {\\n        color: #003399;\\n    }\\n\\n    #compatibilityLoginLink:hover {\\n        color: #cc6600;\\n    }\\n\\n    button.compatibilityButtons {\\n        border: 0;\\n        outline: 0;\\n    }\\n\\n    button.compatibilityButtons::-moz-focus-inner {\\n        border: 0;\\n    }\\n\\n    #compatibilityCheckerError {\\n        color: red;\\n        background-color: #FFFDDA;\\n        border: 1px solid #E8E8D3;\\n        padding: 6px;\\n        font-size: 10px;\\n    }\\n\\n    table.bowserIOU {\\n      width: 280px;\\n    }\\n\\n    table.bowserIOU td.topLeft {\\n      width: 250px;\\n      background-image: url(https://images-na.ssl-images-amazon.com/images/G/01/digital-videogames/box2-line-tl2._CB192261786_.gif);\\n      background-repeat: no-repeat;\\n      padding-top: 6px;\\n      padding-left: 12px;\\n    }\\n    table.bowserIOU td.topRight {\\n      background-image: url(https://images-na.ssl-images-amazon.com/images/G/01/digital-videogames/box2-line-tr2._CB192261776_.gif);\\n      background-repeat: no-repeat;\\n    }\\n    table.bowserIOU td.bottomLeft {\\n      background-image: url(https://images-na.ssl-images-amazon.com/images/G/01/digital-videogames/box2-line-bl._CB192261787_.gif);\\n      background-repeat: no-repeat;\\n      font-size: 4px;\\n    }\\n    table.bowserIOU td.bottomRight {\\n      background-image: url(https://images-na.ssl-images-amazon.com/images/G/01/digital-videogames/box2-line-br._CB192261787_.gif);\\n      background-repeat: no-repeat;\\n      font-size: 4px;\\n    }\\n\\n    table.dsv-buy-box {\\n      width: 280px;\\n    }\\n    table.dsv-buy-box td.top-left {\\n      width: 250px;\\n      padding-left: 12px;\\n      background-image: url(https://images-na.ssl-images-amazon.com/images/G/01/digital/fiona/dp/tl2._CB192261580_.gif);\\n      padding-top: 8px;\\n      background-repeat: no-repeat\\n    }\\n    table.dsv-buy-box td.top-right {\\n      background-image: url(https://images-na.ssl-images-amazon.com/images/G/01/digital/fiona/dp/tr._CB192261582_.gif);\\n      background-repeat: no-repeat\\n    }\\n    table.dsv-buy-box td.bottom-left {\\n      font-size: 4px;\\n      background-image: url(https://images-na.ssl-images-amazon.com/images/G/01/digital/fiona/dp/bl2._CB192261606_.gif);\\n      background-repeat: no-repeat\\n    }\\n    table.dsv-buy-box td.bottom-right {\\n      font-size: 4px;\\n      background-image: url(https://images-na.ssl-images-amazon.com/images/G/01/digital/fiona/dp/br._CB192261606_.gif);\\n      background-repeat: no-repeat\\n    }\\n    .dsv-buy-box-price {\\n      color: #990000;\\n      margin: 0px;\\n      padding: 0px;\\n    }\\n    .dsv-buy-box-group {\\n      margin: 0px;\\n      padding: 0px;\\n    }\\n    .dsv-buy-box-no-selection {\\n      margin: 0px;\\n      padding: 0px;\\n    }\\n    .dsv-buy-box-selection {\\n      font-family: verdana,helvetica,sans-serif;\\n      font-size: x-small;\\n      margin: 0px;\\n      padding: 0px;\\n    }\\n    .dsv-buy-box-hr {\\n      border: none;\\n      border-top: 1px dashed #999999;\\n      margin: 0px;\\n      padding: 0px;\\n    }\\n    .dsv-buy-box-link {\\n      font-size: .85em;\\n      margin: 0px;\\n      padding: 0px;\\n    }\\n    .dsv-buy-box-logo {\\n      font-family: helvetica,sans-serif;\\n    }\\n    .dsv-download-data-size-div {\\n      color: #666666;\\n      font-weight: normal;\\n    }\\n    .dsv-download-data-time-div {\\n      color: #666666;\\n      font-weight: normal;\\n    }\\n    tr.dsv-bundle-list-item-displayed {\\n      display: table-row;\\n    }\\n    tr.dsv-bundle-list-item-hidden {\\n      display: none;\\n    }\\n    table.dsv-main-bundle-table .selectRow {\\n      background-color: #EAF3FE;\\n      cursor: pointer;\\n    }\\n    table.dsv-main-bundle-table td {\\n      font-family: Arial, Verdana, Helvetica, sans-serif;\\n    }\\n    table.dsv-main-bundle-table th {\\n      font-family: Arial, Verdana, Helvetica, sans-serif;\\n      font-size: 1.063em;\\n    }\\n    table.dsv-main-bundle-table h3 {\\n      margin: 0; padding: 0;\\n      font-size: 1.0em;\\n      color: #E47911;\\n    }\\n    table.dsv-main-bundle-table a {\\n      font-size: 1.0em;\\n    }\\n\\n    table.dsv-email-box td.top-left, table.dsv-email-box td.top-right,\\n    table.dsv-email-box td.bottom-left, table.dsv-email-box td.bottom-right {\\n      background-image: url(https://images-na.ssl-images-amazon.com/images/G/01/digital/infinity/elements/sprite_box_green._CB156421280_.png);\\n      background-repeat: no-repeat;\\n    }\\n    table.dsv-email-box td.top-left {\\n      background-position: left top;\\n      padding-left: 12px;\\n      padding-top: 4px;\\n    }\\n    table.dsv-email-box td.top-right {\\n      background-position: right top;\\n    }\\n    table.dsv-email-box td.bottom-left {\\n      background-position: left bottom;\\n      font-size: 4px;\\n    }\\n    table.dsv-email-box td.bottom-right {\\n      background-position: right bottom;\\n      font-size: 4px;\\n    }\\n    div.dsv-email-box-contents {\\n      font-size: 0.86em;\\n    }\\n    .learn-more-popover-container {\\n      height: 160px;\\n    }\\n    .learn-more-popover-container ul {\\n      list-style-type: disc;\\n      margin-left: 5em;\\n    }\\n\\n    table.redirection-widget {\\n      width: 280px;\\n    }\\n\\n    table.redirection-widget td.topLeft {\\n      width: 255px;\\n      background-image: url(https://images-na.ssl-images-amazon.com/images/G/01/digital-videogames/box2-line-tl2._CB192261786_.gif);\\n      background-repeat: no-repeat;\\n      padding-top: 6px;\\n      padding-left: 12px;\\n    }\\n    table.redirection-widget td.topRight {\\n      background-image: url(https://images-na.ssl-images-amazon.com/images/G/01/digital-videogames/box2-line-tr2._CB192261776_.gif);\\n      background-repeat: no-repeat;\\n    }\\n    table.redirection-widget td.bottomLeft {\\n      background-image: url(https://images-na.ssl-images-amazon.com/images/G/01/digital-videogames/box2-line-bl._CB192261787_.gif);\\n      background-repeat: no-repeat;\\n      font-size: 4px;\\n    }\\n    table.redirection-widget td.bottomRight {\\n      background-image: url(https://images-na.ssl-images-amazon.com/images/G/01/digital-videogames/box2-line-br._CB192261787_.gif);\\n      background-repeat: no-repeat;\\n      font-size: 4px;\\n    }\\n\\n    .redirection-info {\\n      padding: 5px 0px 0 0px;\\n    }\\n \\n    .redirection-disclaimer {\\n      padding-bottom: 5px;\\n    }\\n\\n    .redirection-info p {\\n      display: inline-block;\\n    }\\n    .redirection-widget-content {\\n      padding: 10px 5px 10px 5px;\\n      box-sizing: border-box;\\n      font-size: .9em;\\n    }\\n\\n    .redirection-widget-content p {\\n      margin: 0;\\n    }\\n\\n    .redirection-button img {\\n      display: block;\\n      margin: 5px auto;\\n    }\\n    .upper-content {\\n      border-style: solid;\\n      border-width: 0 0 1px 0;\\n      border-color: #DDDDDD;\\n    }\\n    .lower-content {\\n      text-align: center;\\n    }\\n\\n\\n\\n    \\n\\n\\n    .metacritic-bar a:visited {\\n      color: #003399;\\n    }\\n    .metacritic-bar a:hover {\\n      color: #CC6600;\\n    } \\n    .clear {\\n      content: \".\"; \\n      visibility: hidden; \\n      display: block; \\n      height: 0; \\n      clear: both;\\n    }\\n    .metacritic-container {\\n      padding-top: 12px;\\n      padding-bottom: 12px;\\n    }\\n    .metacritic-container .metascore-container .score-container {\\n      height: 85px;\\n      width: 85px;\\n      line-height: 85px;\\n      text-align: center;\\n      font: arial;\\n      font-family: arial;\\n      float: left;\\n    }  \\n    .metacritic-container .user-score-container .score-container {\\n      width: 32px;\\n      height: 32px;\\n      line-height: 32px;\\n      float: left;\\n      background-image:url(https://images-na.ssl-images-amazon.com/images/G/01/digital-videogames/metacritic/metacritic-user-scores._CB380529241_.png);\\n      text-align: center;\\n      font: arial;\\n      font-family: arial;\\n    } \\n    .metacritic-container .metascore-container .favorable {\\n      background-color: #66CC33;\\n    }\\n    .metacritic-container .metascore-container .mixed {\\n      background-color: #FFCC33;\\n    }\\n    .metacritic-container .metascore-container .negative {\\n      background-color: #FF0000;\\n    }\\n    .metacritic-container .favorable {\\n      color: #FFFFFF;\\n    }\\n    .metacritic-container .mixed {\\n      color: #FFFFFF;\\n    }\\n    .metacritic-container .negative {\\n      color: #FFFFFF;\\n    }\\n    .metacritic-container .score {\\n      font-weight: bold;\\n      text-align: center;\\n    }\\n    .metacritic-container .metascore-container .score {\\n      font-size: 42px;\\n    }\\n    .metacritic-container .user-score-container {\\n      font-size: 14px;\\n      padding-top: 12px;\\n    }\\n    .metacritic-container .side-box {\\n      width: 160px;\\n      float: left;\\n      padding-left: 10px;\\n    }\\n    .metacritic-container .side-box .side-box {\\n      width: 110px;\\n    }\\n    .metacritic-container .description .label{\\n      font-weight:bold;\\n    }\\n    .metacritic-container .description .blurb {\\n      font-size: 9px;\\n    }\\n    .metacritic-container .user-score-container .favorable {\\n      background-position: 0 -120px;\\n    }\\n    .metacritic-container .user-score-container .mixed {\\n      background-position: 0 -80px;\\n    }\\n    .metacritic-container .user-score-container .negative {\\n      background-position: 0 -40px;\\n    }\\n\\n\\n\\n\\n\\n    .dsv-only-show-digital {\\n      display: none;\\n    }\\n    .dsv-only-show-non-digital {\\n      display: block;\\n    }\\n    .dsv-only-show-download {\\n      display: none;\\n    }\\n    .dsv-only-show-non-download {\\n      display: block;\\n    }\\n    .dsv-only-show-e-card {\\n      display: none;\\n    }\\n    .dsv-only-show-non-e-card {\\n      display: block;\\n    }\\n    .dsv-only-show-online-code {\\n      display: none;\\n    }\\n    .dsv-only-show-non-online-code {\\n      display: block;\\n    }\\n  \\n\\n\\n/* Override for Native DropDown changes */\\n       #buybox_feature_div .a-native-dropdown, #buybox .a-native-dropdown { opacity: 1; filter: alpha(opacity=100); z-index: auto; position: static; display: inline; font-weight: normal;}\\n       #buybox_feature_div label.a-native-dropdown, #buybox label.a-native-dropdown {padding-right: 5px;}\\n       #buybox_feature_div .a-dropdown-container .a-button-dropdown, #buybox .a-dropdown-container .a-button-dropdown  { display: none !important;}\\n     #buybox_feature_div #OneClickBox, #buybox #OneClickBox { text-align:center;}\\n     #buybox_feature_div #oneClickAvailable, #buybox #oneClickAvailable { text-align:center;}\\n     #defaultChildDropdown_feature_div .a-native-dropdown { display: inline;}\\n     #defaultChildDropdown_feature_div .a-dropdown-container .a-button-dropdown { display: none !important;}\\n\\n\\n\\n\\n\\nP.when(\"p-detect\").execute(function() {\\n    var h = document.documentElement;\\n    h.className = h.className.replace(/(^|\\\\b)a-touch(\\\\b|$)/g,\"\");\\n});\\n\\nwindow.weblabs = {};\\n\\n\\n\\n\\nwindow.ue_ihe = (window.ue_ihe || 0) + 1;\\nif (window.ue_ihe === 1) {\\n(function(e,c){function h(b,a){f.push([b,a])}function g(b,a){if(b){var c=e.head||e.getElementsByTagName(\"head\")[0]||e.documentElement,d=e.createElement(\"script\");d.async=\"async\";d.src=b;d.setAttribute(\"crossorigin\",\"anonymous\");a&&a.onerror&&(d.onerror=a.onerror);a&&a.onload&&(d.onload=a.onload);c.insertBefore(d,c.firstChild)}}function k(){ue.uels=g;for(var b=0;b<f.length;b++){var a=f[b];g(a[0],a[1])}ue.deffered=1}var f=[];c.ue&&(ue.uels=h,c.ue.attach&&c.ue.attach(\"load\",k))})(document,window);\\n(function(k,l,g){function m(a){c||(c=b[a.type].id,\"undefined\"===typeof a.clientX?(e=a.pageX,f=a.pageY):(e=a.clientX,f=a.clientY),2!=c||h&&(h!=e||n!=f)?(r(),d.isl&&l.setTimeout(function(){p(\"at\",d.id)},0)):(h=e,n=f,c=0))}function r(){for(var a in b)b.hasOwnProperty(a)&&d.detach(a,m,b[a].parent)}function s(){for(var a in b)b.hasOwnProperty(a)&&d.attach(a,m,b[a].parent)}function t(){var a=\"\";!q&&c&&(q=1,a+=\"&ui=\"+c);return a}var d=k.ue,p=k.uex,q=0,c=0,h,n,e,f,b={click:{id:1,parent:g},mousemove:{id:2,\\nparent:g},scroll:{id:3,parent:l},keydown:{id:4,parent:g}};d&&p&&(s(),d._ui=t)})(ue_csm,window,document);\\n\\n\\n\\n    if (window.ue && window.ue.uels) {\\n            var cel_widgets = [ { \"c\":\"celwidget\" },{ \"c\":\"feature\" } ];\\n\\n                ue.uels(\"https://images-na.ssl-images-amazon.com/images/G/01/AUIClients/ClientSideMetricsAUIJavascript@jserrorsForester.10f2559e93ec589d92509318a7e2acbac74c343a._V2_.js\");\\n    }\\n\\n(function(k,c){function l(a,b){return a.filter(function(a){return a.initiatorType==b})}function f(a,c){if(b.t[a]){var g=b.t[a]-b._t0,e=c.filter(function(a){return 0!==a.responseEnd&&m(a)<g}),f=l(e,\"script\"),h=l(e,\"link\"),k=l(e,\"img\"),n=e.map(function(a){return a.name.split(\"/\")[2]}).filter(function(a,b,c){return a&&c.lastIndexOf(a)==b}),q=e.filter(function(a){return a.duration<p}),s=g-Math.max.apply(null,e.map(m))<r|0;\"af\"==a&&(b._afjs=f.length);return a+\":\"+[e[d],f[d],h[d],k[d],n[d],q[d],s].join(\"-\")}}\\nfunction m(a){return a.responseEnd-(b._t0-c.timing.navigationStart)}function n(){var a=c[h](\"resource\"),d=f(\"cf\",a),g=f(\"af\",a),a=f(\"ld\",a);delete b._rt;b._ld=b.t.ld-b._t0;b._art&&b._art();return[d,g,a].join(\"_\")}var p=20,r=50,d=\"length\",b=k.ue,h=\"getEntriesByType\";b._rre=m;b._rt=c&&c.timing&&c[h]&&n})(ue_csm,window.performance);\\n\\n\\n(function(s,l){function m(b,e,c){c=c||new Date(+new Date+t);c=\"expires=\"+c.toUTCString();n.cookie=b+\"=\"+e+\";\"+c+\";path=/\"}function p(b){b+=\"=\";for(var e=n.cookie.split(\";\"),c=0;c<e.length;c++){for(var a=e[c];\" \"==a.charAt(0);)a=a.substring(1);if(0===a.indexOf(b))return decodeURIComponent(a.substring(b.length,a.length))}return\"\"}function q(b,e,c){if(!e)return b;-1<b.indexOf(\"{\")&&(b=\"\");for(var a=b.split(\"&\"),f,d=!1,h=!1,g=0;g<a.length;g++)f=a[g].split(\":\"),f[0]==e?(!c||d?a.splice(g,1):(f[1]=c,a[g]=\\nf.join(\":\")),h=d=!0):2>f.length&&(a.splice(g,1),h=!0);h&&(b=a.join(\"&\"));!d&&c&&(0<b.length&&(b+=\"&\"),b+=e+\":\"+c);return b}var k=s.ue||{},t=6048E7,n=ue_csm.document||l.document,r=null,d;a:{try{d=l.localStorage;break a}catch(u){}d=void 0}k.count&&k.count(\"csm.cookieSize\",document.cookie.length);k.cookie={get:p,set:m,updateCsmHit:function(b,e,c){try{var a;if(!(a=r)){var f;a:{try{if(d&&d.getItem){f=d.getItem(\"csm-hit\");break a}}catch(k){}f=void 0}a=f||p(\"csm-hit\")||\"{}\"}a=q(a,b,e);r=a=q(a,\"t\",+new Date);\\ntry{d&&d.setItem&&d.setItem(\"csm-hit\",a)}catch(h){}m(\"csm-hit\",a,c)}catch(g){\"function\"==typeof l.ueLogError&&ueLogError(Error(\"Cookie manager: \"+g.message),{logLevel:\"WARN\"})}}}})(ue_csm,window);\\n\\n(function(l,d){function c(b){b=\"\";var c=a.isBFT?\"b\":\"s\",d=\"\"+a.oid,f=\"\"+a.lid,g=d;d!=f&&20==f.length&&(c+=\"a\",g+=\"-\"+f);a.tabid&&(b=a.tabid+\"+\");b+=c+\"-\"+g;b!=e&&100>b.length&&(e=b,a.cookie?a.cookie.updateCsmHit(m,b+(\"|\"+ +new Date)):document.cookie=\"csm-hit=\"+b+(\"|\"+ +new Date)+n+\"; path=/\")}function p(){e=0}function h(b){!0===d[a.pageViz.propHid]?e=0:!1===d[a.pageViz.propHid]&&c({type:\"visible\"})}var n=\"; expires=\"+(new Date(+new Date+6048E5)).toGMTString(),m=\"tb\",e,a=l.ue||{},k=a.pageViz&&a.pageViz.event&&\\na.pageViz.propHid;a.attach&&(a.attach(\"click\",c),a.attach(\"keyup\",c),k||(a.attach(\"focus\",c),a.attach(\"blur\",p)),k&&(a.attach(a.pageViz.event,h,d),h({})));a.aftb=1})(ue_csm,document);\\n\\n\\nue_csm.ue.stub(ue,\"impression\");\\n\\n\\n(function(k,d,h){function f(a,c,b){a&&a.indexOf&&0===a.indexOf(\"http\")&&0!==a.indexOf(\"https\")&&l(s,c,a,b)}function g(a,c,b){a&&a.indexOf&&(location.href.split(\"#\")[0]!=a&&null!==a&&\"undefined\"!==typeof a||l(t,c,a,b))}function l(a,c,b,e){m[b]||(e=u&&e?n(e):\"N/A\",d.ueLogError&&d.ueLogError({message:a+c+\" : \"+b,logLevel:v,stack:\"N/A\"},{attribution:e}),m[b]=1,p++)}function e(a,c){if(a&&c)for(var b=0;b<a.length;b++)try{c(a[b])}catch(d){}}function q(){return d.performance&&d.performance.getEntriesByType?\\nd.performance.getEntriesByType(\"resource\"):[]}function n(a){if(a.id)return\"//*[@id=\\'\"+a.id+\"\\']\";var c;c=1;var b;for(b=a.previousSibling;b;b=b.previousSibling)b.nodeName==a.nodeName&&(c+=1);b=a.nodeName;1!=c&&(b+=\"[\"+c+\"]\");a.parentNode&&(b=n(a.parentNode)+\"/\"+b);return b}function w(){var a=h.images;a&&a.length&&e(a,function(a){var b=a.getAttribute(\"src\");f(b,\"img\",a);g(b,\"img\",a)})}function x(){var a=h.scripts;a&&a.length&&e(a,function(a){var b=a.getAttribute(\"src\");f(b,\"script\",a);g(b,\"script\",a)})}\\nfunction y(){var a=h.styleSheets;a&&a.length&&e(a,function(a){if(a=a.ownerNode){var b=a.getAttribute(\"href\");f(b,\"style\",a);g(b,\"style\",a)}})}function z(){if(A){var a=q();e(a,function(a){f(a.name,a.initiatorType)})}}function B(){e(q(),function(a){g(a.name,a.initiatorType)})}function r(){var a;a=d.location&&d.location.protocol?d.location.protocol:void 0;\"https:\"==a&&(z(),w(),x(),y(),B(),p<C&&setTimeout(r,D))}var s=\"[CSM] Insecure content detected \",t=\"[CSM] Ajax request to same page detected \",v=\"WARN\",\\nm={},p=0,D=k.ue_nsip||1E3,C=5,A=1==k.ue_urt,u=!0;ue_csm.ue_disableNonSecure||(d.performance&&d.performance.setResourceTimingBufferSize&&d.performance.setResourceTimingBufferSize(300),r())})(ue_csm,window,document);\\n\\n(function(d){d.ue_cel_stub||(d.ue_cel_stub=function(){var b={};return{registerModule:function(a,c){b[a]||(b[a]=c,b[a].on())},replayModule:function(a,c){b[a]&&(b[a].replay(c),b[a].off(),delete b[a])}}}())})(ue_csm);\\n(function(a,d,h){a.ue_mcm_stub||a.ue&&a.ue.isBF||(a.ue_mcm_stub=function(){function e(a){var b=c.d(),e=(d.body||{}).scrollWidth,k=(d.body||{}).scrollHeight,f;h&&\"function\"===typeof h.now&&a.timeStamp&&(f=h.now()-a.timeStamp,f=parseFloat(f.toFixed(2)));g.push({rawEvent:a,additionalData:{ots:b,ow:e,oh:k,odt:f}})}var c=a.ue,g=[];return{on:function(){c.attach&&c.attach(\"click\",e,d)},off:function(){c.detach&&c.detach(\"click\",e,d)},replay:function(a){for(var b=0;b<g.length;b++)a(g[b].rawEvent,g[b].additionalData)}}}(),\\na.ue_cel_stub&&a.ue_cel_stub.registerModule(\"mcm\",a.ue_mcm_stub))})(ue_csm,document,window.performance);\\n\\n\\nue.stub(ue,\"trigger\");ue.trigger&&ue.trigger(\"CSM_CLIENT_WEBLAB_TRIGGER\",\"C\");\\n\\n\\nif(window.ue&&uet) { uet(\\'bb\\'); }\\n\\n}\\n\\n\\nwindow.P && P.register(\\'bb\\');\\nif (typeof ues === \\'function\\') {\\n  ues(\\'t0\\', \\'portal-bb\\', new Date());\\n  ues(\\'ctb\\', \\'portal-bb\\', 1);\\n}\\n\\n\\n{\"AUI_160684\":\"C\",\"AUI_157141\":\"C\",\"AUI_TNR_V2_180836\":\"C\",\"AUI_UX_114039\":\"C\",\"AUI_UX_113788\":\"C\",\"AUI_UX_145937\":\"C\",\"AUI_57326\":\"C\",\"AUI_158613\":\"C\",\"AUI_149818\":\"C\",\"AUI_72554\":\"C\",\"AUI_BOLT_62845\":\"C\",\"AUI_UX_60000\":\"C\",\"AUI_ATTR_VALIDATIONS_1_51371\":\"C\",\"AUI_ACCESSIBILITY_49860\":\"C\",\"AUI_152852\":\"C\",\"AUI_PERF_130093\":\"C\",\"AUI_UX_138741\":\"C\"}typeof uex === \\'function\\' && uex(\\'ld\\', \\'portal-bb\\', {wb: 1})\\n\\n\\n\\n(function(d){document.createElement(\"header\");function b(e){return[].slice.call(e)}function c(f,e){return{m:f,a:b(e)}}var a=function(f){var g={};g._sourceName=f;g._replay=[];g.getNow=function(i,h){return h};function e(i,h,j){i[j]=function(){g._replay.push(h.concat(c(j,arguments)))}}g.when=function(){var i=[c(\"when\",arguments)];var h={};e(h,i,\"run\");e(h,i,\"declare\");e(h,i,\"publish\");e(h,i,\"build\");return h};e(g,[],\"declare\");e(g,[],\"build\");e(g,[],\"publish\");e(g,[],\"importEvent\");a._shims.push(g);return g};a._shims=[];if(!d.$Nav){d.$Nav=a(\"rcx-nav\")}if(!d.$Nav.make){d.$Nav.make=a}}(window));\\n$Nav.importEvent(\\'navbarJS-beaconbelt\\');\\n$Nav.declare(\\'img.sprite\\', {\\n  \\'png8\\': \\'https://images-na.ssl-images-amazon.com/images/G/01/gno/sprites/global-sprite_bluebeacon-v1._CB327533540_.png\\',\\n  \\'png32\\': \\'https://images-na.ssl-images-amazon.com/images/G/01/gno/sprites/nav-sprite-global_bluebeacon-V3-1x_optimized._CB483188077_.png\\',\\n  \\'png32-2x\\': \\'https://images-na.ssl-images-amazon.com/images/G/01/gno/sprites/nav-sprite-global_bluebeacon-V3-2x_optimized._CB474516457_.png\\'\\n});\\nwindow._navbarSpriteUrl = \\'https://images-na.ssl-images-amazon.com/images/G/01/gno/sprites/nav-sprite-global_bluebeacon-V3-1x_optimized._CB483188077_.png\\';\\n$Nav.declare(\\'img.pixel\\', \\'https://images-na.ssl-images-amazon.com/images/G/01/x-locale/common/transparent-pixel._CB386942464_.gif\\');\\n\\n\\n\\n\\n\\n(window.AmazonUIPageJS ? AmazonUIPageJS : P).when(\\'navCF\\').execute(function(){\\n  (window.AmazonUIPageJS ? AmazonUIPageJS : P).load.js(\\'https://images-na.ssl-images-amazon.com/images/I/41eKbH%2BV9oL._RC|71gqiQPjkVL.js,61ybdwam-8L.js,41MSv8-3arL.js,113NkCQYmFL.js,01wBjiz9OvL.js,21YI5xZWAwL.js,31SFwv+1S1L.js,51+klsvwgqL.js,31Sch+N9NhL.js_.js?AUIClients/AmazonNavigationDesktopMetaAsset#desktop\\');\\n});\\n\\n\\n\\n\\n\\n\\n    if(window.navmet===undefined) {\\n      window.navmet=[];\\n      if (window.performance && window.performance.timing && window.ue_t0) {\\n        var t = window.performance.timing;\\n        var now = + new Date();\\n        window.navmet.basic = {\\n          \\'networkLatency\\': (t.responseStart - t.fetchStart),\\n          \\'navFirstPaint\\': (now - t.responseStart),\\n          \\'NavStart\\': (now - window.ue_t0)\\n        };\\n      }\\n    }\\n\\nwindow.navmet.tmp=+new Date();\\n\\n    window.uet && uet(\\'ns\\');\\n    window._navbar = (function (o) {\\n      o.componentLoaded = o.loading = function(){};\\n      o.browsepromos = {};\\n      o.issPromos = [];\\n      return o;\\n    }(window._navbar || {}));\\n    window._navbar.declareOnLoad = function () { window.$Nav && $Nav.declare(\\'page.load\\'); };\\n    if (window.addEventListener) {\\n      window.addEventListener(\"load\", window._navbar.declareOnLoad, false);\\n    } else if (window.attachEvent) {\\n      window.attachEvent(\"onload\", window._navbar.declareOnLoad);\\n    } else if (window.$Nav) {\\n      $Nav.when(\\'page.domReady\\').run(\"OnloadFallbackSetup\", function () {\\n        window._navbar.declareOnLoad();\\n      });\\n    }\\n    window.$Nav && $Nav.declare(\\'logEvent.enabled\\',\\n      \\'false\\');\\n\\n    window.$Nav && $Nav.declare(\\'config.lightningDeals\\', {});\\n  \\n\\n      div#navSwmHoliday.nav-focus {border: none;margin: 0;}\\n    \\n\\n      try {\\n        if(window.navmet===undefined)window.navmet=[]; if(window.$Nav) { $Nav.when(\\'$\\', \\'config\\', \\'flyout.accountList\\', \\'SignInRedirect\\', \\'dataPanel\\').run(\\'accountListRedirectFix\\', function ($, config, flyout, SignInRedirect, dataPanel) { if (!config.accountList) { return; } flyout.getPanel().onData(function (data) { if (SignInRedirect) { var $anchors = $(\\'[data-nav-role=signin]\\', flyout.elem()); $.each($anchors, function(i, anchorEl) {SignInRedirect.setRedirectUrl($(anchorEl), null, null);});}});}); $Nav.when(\\'$\\', \\'config\\').run(\\'subnavSpacious\\', function ($, config) {if(config.pageType === \\'ShoppingCart\\' && config.subPageType === \\'NewHUC\\') { $(\\'#nav-subnav.spacious\\').hide(); }}); $Nav.when(\\'$\\').run(\\'defineIsArray\\', function(jQuery) { if(jQuery.isArray===undefined) { jQuery.isArray=function(param) { if(param.length===undefined) { return false; } return true; }; } }); $Nav.declare(\\'config.cartFlyoutDisabled\\', \\'true\\'); $Nav.when(\\'$\\',\\'$F\\',\\'config\\',\\'logEvent\\',\\'panels\\',\\'phoneHome\\',\\'dataPanel\\',\\'flyouts.renderPromo\\',\\'flyouts.sloppyTrigger\\',\\'flyouts.accessibility\\',\\'util.mouseOut\\',\\'util.onKey\\',\\'debug.param\\').build(\\'flyouts.buildSubPanels\\',function($,$F,config,logEvent,panels,phoneHome,dataPanel,renderPromo,createSloppyTrigger,a11yHandler,mouseOutUtility,onKey,debugParam){var flyoutDebug=debugParam(\\'navFlyoutClick\\');return function(flyout,event){var linkKeys=[];$(\\'.nav-item\\',flyout.elem()).each(function(){var $item=$(this);linkKeys.push({link:$item,panelKey:$item.attr(\\'data-nav-panelkey\\')});});if(linkKeys.length===0){return;} var visible=false;var $parent=$(\\'<div class=\\\\\\'nav-subcats\\\\\\'></']"
            ]
          },
          "metadata": {
            "tags": []
          },
          "execution_count": 41
        }
      ]
    },
    {
      "cell_type": "code",
      "metadata": {
        "id": "NA0136QWbL4u",
        "colab_type": "code",
        "colab": {
          "base_uri": "https://localhost:8080/",
          "height": 34
        },
        "outputId": "c5a8289a-8352-4019-ba05-78be8c5018db"
      },
      "source": [
        "asin_to_name['B000P5BSUQ']"
      ],
      "execution_count": null,
      "outputs": [
        {
          "output_type": "execute_result",
          "data": {
            "text/plain": [
              "'Age Of Mythology:  Titans - PC'"
            ]
          },
          "metadata": {
            "tags": []
          },
          "execution_count": 37
        }
      ]
    },
    {
      "cell_type": "code",
      "metadata": {
        "colab_type": "code",
        "id": "N-Fl7SFIUaFI",
        "colab": {}
      },
      "source": [
        "def calculatehitrate(user_list):\n",
        "    arhr=0\n",
        "    hit_rate=0\n",
        "    l1=[]\n",
        "    for u in tqdm(user_list):\n",
        "        df=group_user.get_group(u)\n",
        "        asin1=[i for i in df[\"asin\"]]\n",
        "        if(len(asin1)>0):\n",
        "          i=random.choice(asin1)\n",
        "          asin1.remove(i)\n",
        "\n",
        "          p=sparse[userid_to_int[u],asin_to_int[i]]\n",
        "          sparse[userid_to_int[u],asin_to_int[i]]=0\n",
        "\n",
        "          recs=get_recommendations(u,20,sparse,asin1)\n",
        "          #print(recs)\n",
        "          sparse[userid_to_int[u],asin_to_int[i]]=p\n",
        "          for r,rec in enumerate(recs):\n",
        "            if i == rec:\n",
        "              flag=1\n",
        "              hit_rate=hit_rate+1\n",
        "              arhr=arhr+1/(r+1)\n",
        "    hit_rate=hit_rate/(len(user_list))*100\n",
        "    arhr=arhr/(len(user_list))*100\n",
        "    print('Hit Rate:')\n",
        "    print(hit_rate)\n",
        "    print('Average Reciprocal Hit Rate:')\n",
        "    print(arhr)"
      ],
      "execution_count": null,
      "outputs": []
    },
    {
      "cell_type": "code",
      "metadata": {
        "colab_type": "code",
        "id": "bLgFe2gKfPj-",
        "colab": {
          "base_uri": "https://localhost:8080/",
          "height": 168,
          "referenced_widgets": [
            "3d7cb853d77e4dcaa0d71fa43f602df9",
            "283c7020358e44cc9bd182459eb11cb5",
            "88e05e28f98e4a89b5abb8ee872e4567",
            "011bf01cad9a41669322aab0b076b85d",
            "29a705f282b84857adca73a492e285db",
            "52d438e092fb45388b1c7443407e689c",
            "f62a3aa9e5ab4e9bbdf0c8d768bbd38b",
            "89fd79a055fb46bca9c368dbf6769123"
          ]
        },
        "outputId": "a0f83d10-39ae-40ce-9cb2-743adf78c0c9"
      },
      "source": [
        "import time\n",
        "start_time = time.time()\n",
        "print(calculatehitrate(user_list[0:1000]))\n",
        "print(\"--- %s seconds ---\" % (time.time() - start_time))"
      ],
      "execution_count": null,
      "outputs": [
        {
          "output_type": "display_data",
          "data": {
            "application/vnd.jupyter.widget-view+json": {
              "model_id": "3d7cb853d77e4dcaa0d71fa43f602df9",
              "version_minor": 0,
              "version_major": 2
            },
            "text/plain": [
              "HBox(children=(FloatProgress(value=0.0, max=1000.0), HTML(value='')))"
            ]
          },
          "metadata": {
            "tags": []
          }
        },
        {
          "output_type": "stream",
          "text": [
            "\n",
            "Hit Rate:\n",
            "3.5000000000000004\n",
            "Average Reciprocal Hit Rate:\n",
            "0.8331325863678802\n",
            "None\n",
            "--- 113.51517915725708 seconds ---\n"
          ],
          "name": "stdout"
        }
      ]
    },
    {
      "cell_type": "code",
      "metadata": {
        "id": "TuKw-_cIqCVh",
        "colab_type": "code",
        "colab": {}
      },
      "source": [
        "def getPopularityRanks(df_ratings):\n",
        "  count = df_ratings.groupby(\"asin\", as_index=False).count()\n",
        "  count['Ratings']=count['overall']\n",
        "  count=count[['asin','Ratings']]\n",
        "  Rankings = pd.merge(df_ratings, count, how='left', on=[\"asin\"])\n",
        "\n",
        "  Rankings=Rankings[['asin','Ratings']]\n",
        "\n",
        "  Rankings.drop_duplicates(subset =\"asin\", \n",
        "                     keep = 'first', inplace = True) \n",
        "  \n",
        "  Rankings.sort_values(\"Ratings\", axis = 0, ascending = False, \n",
        "                 inplace = True, na_position ='first') \n",
        "\n",
        "  Rankings=Rankings.reset_index(drop=True)\n",
        "\n",
        "  rank =1\n",
        "  temp=0\n",
        "  i=0\n",
        "  for item in Rankings['asin']:\n",
        "\n",
        "    if temp!= Rankings.at[i, 'Ratings'] :\n",
        "      rank+=1\n",
        "\n",
        "\n",
        "    Rankings.loc[Rankings['asin']==item,'Rank'] = rank\n",
        "    temp=Rankings.at[i, 'Ratings']\n",
        "    i+=1\n",
        "\n",
        "  Rankings['Rank']=Rankings['Rank']-1\n",
        "\n",
        "  return Rankings"
      ],
      "execution_count": null,
      "outputs": []
    },
    {
      "cell_type": "code",
      "metadata": {
        "id": "Dea8i0_yqIIR",
        "colab_type": "code",
        "colab": {}
      },
      "source": [
        "Rankings= getPopularityRanks(df_og)"
      ],
      "execution_count": null,
      "outputs": []
    },
    {
      "cell_type": "code",
      "metadata": {
        "id": "MIEwZB2fqNpH",
        "colab_type": "code",
        "colab": {
          "base_uri": "https://localhost:8080/",
          "height": 204
        },
        "outputId": "1f855067-3c30-40fc-c2f5-db5e6131702f"
      },
      "source": [
        "Rankings.head()"
      ],
      "execution_count": null,
      "outputs": [
        {
          "output_type": "execute_result",
          "data": {
            "text/html": [
              "<div>\n",
              "<style scoped>\n",
              "    .dataframe tbody tr th:only-of-type {\n",
              "        vertical-align: middle;\n",
              "    }\n",
              "\n",
              "    .dataframe tbody tr th {\n",
              "        vertical-align: top;\n",
              "    }\n",
              "\n",
              "    .dataframe thead th {\n",
              "        text-align: right;\n",
              "    }\n",
              "</style>\n",
              "<table border=\"1\" class=\"dataframe\">\n",
              "  <thead>\n",
              "    <tr style=\"text-align: right;\">\n",
              "      <th></th>\n",
              "      <th>asin</th>\n",
              "      <th>Ratings</th>\n",
              "      <th>Rank</th>\n",
              "    </tr>\n",
              "  </thead>\n",
              "  <tbody>\n",
              "    <tr>\n",
              "      <th>0</th>\n",
              "      <td>B00JK00S0S</td>\n",
              "      <td>781</td>\n",
              "      <td>1.0</td>\n",
              "    </tr>\n",
              "    <tr>\n",
              "      <th>1</th>\n",
              "      <td>B003ZSP0WW</td>\n",
              "      <td>694</td>\n",
              "      <td>2.0</td>\n",
              "    </tr>\n",
              "    <tr>\n",
              "      <th>2</th>\n",
              "      <td>B00GODZYNA</td>\n",
              "      <td>684</td>\n",
              "      <td>3.0</td>\n",
              "    </tr>\n",
              "    <tr>\n",
              "      <th>3</th>\n",
              "      <td>B0009VXBAQ</td>\n",
              "      <td>629</td>\n",
              "      <td>4.0</td>\n",
              "    </tr>\n",
              "    <tr>\n",
              "      <th>4</th>\n",
              "      <td>B0050SYX8W</td>\n",
              "      <td>623</td>\n",
              "      <td>5.0</td>\n",
              "    </tr>\n",
              "  </tbody>\n",
              "</table>\n",
              "</div>"
            ],
            "text/plain": [
              "         asin  Ratings  Rank\n",
              "0  B00JK00S0S      781   1.0\n",
              "1  B003ZSP0WW      694   2.0\n",
              "2  B00GODZYNA      684   3.0\n",
              "3  B0009VXBAQ      629   4.0\n",
              "4  B0050SYX8W      623   5.0"
            ]
          },
          "metadata": {
            "tags": []
          },
          "execution_count": 35
        }
      ]
    },
    {
      "cell_type": "code",
      "metadata": {
        "id": "8UzkbfOPqSEq",
        "colab_type": "code",
        "colab": {}
      },
      "source": [
        "def Novelty(Rankings,user_list):\n",
        "\n",
        "  print(\"Novelty:   Average popularity rank of recommended items. Higher means more novel.\")\n",
        "\n",
        "  n=0\n",
        "  total=0\n",
        "  for u in tqdm(user_list):\n",
        "    #the next 3 lines are to just generate the top n recommendations\n",
        "    df=group_user.get_group(u)\n",
        "    asin1=[i for i in df[\"asin\"]]\n",
        "\n",
        "    recommendations=get_recommendations(u,20,sparse,asin1)\n",
        "\n",
        "    for item in recommendations:\n",
        "      rank=Rankings.loc[Rankings['asin']==item,'Rank']\n",
        "      total+=rank.iloc[0]\n",
        "      n+=1\n",
        "  #Note: The highest rank of an item is 781 becaue items with equal no. of total ratings have similar ranks \n",
        "  return (total/n)\n"
      ],
      "execution_count": null,
      "outputs": []
    },
    {
      "cell_type": "code",
      "metadata": {
        "id": "6JSxNu3NwaQh",
        "colab_type": "code",
        "colab": {
          "base_uri": "https://localhost:8080/",
          "height": 134,
          "referenced_widgets": [
            "3712791f4d094e6fba1598c987aa49dd",
            "870b41544dae475da62946a0573f30b7",
            "c97b9b16bcd44768bff2c5535c6b5656",
            "99611b566ee146d58a22c8b02dc27715",
            "5380e306f445489181bc63aea95143dd",
            "8449bc8be5e14b2299d5536e9ca94f0f",
            "d45154b9b6bd48b08f21f34d02026620",
            "733aad91c155418abaa0ef2e3df8f780"
          ]
        },
        "outputId": "455c1e29-6c24-4ddc-a7bd-febd3f7a9436"
      },
      "source": [
        "%%time\n",
        "print(Novelty(Rankings,user_list[0:1000]))"
      ],
      "execution_count": null,
      "outputs": [
        {
          "output_type": "stream",
          "text": [
            "Novelty:   Average popularity rank of recommended items. Higher means more novel.\n"
          ],
          "name": "stdout"
        },
        {
          "output_type": "display_data",
          "data": {
            "application/vnd.jupyter.widget-view+json": {
              "model_id": "3712791f4d094e6fba1598c987aa49dd",
              "version_minor": 0,
              "version_major": 2
            },
            "text/plain": [
              "HBox(children=(FloatProgress(value=0.0, max=1000.0), HTML(value='')))"
            ]
          },
          "metadata": {
            "tags": []
          }
        },
        {
          "output_type": "stream",
          "text": [
            "\n",
            "27.57215\n",
            "CPU times: user 2min 3s, sys: 642 ms, total: 2min 3s\n",
            "Wall time: 2min 3s\n"
          ],
          "name": "stdout"
        }
      ]
    },
    {
      "cell_type": "code",
      "metadata": {
        "id": "DzymHo3MweXQ",
        "colab_type": "code",
        "colab": {
          "base_uri": "https://localhost:8080/",
          "height": 51
        },
        "outputId": "eb1b2182-d9d7-45f8-f3c0-f9e4fd94efad"
      },
      "source": [
        "%%time\n",
        "sim_df= pd.read_csv('/content/drive/My Drive/Data (1)/Similarity_Matrix_for_Diversity.csv')"
      ],
      "execution_count": null,
      "outputs": [
        {
          "output_type": "stream",
          "text": [
            "CPU times: user 4min 3s, sys: 9.55 s, total: 4min 12s\n",
            "Wall time: 4min 49s\n"
          ],
          "name": "stdout"
        }
      ]
    },
    {
      "cell_type": "code",
      "metadata": {
        "id": "Ds2K_YY2wnuN",
        "colab_type": "code",
        "colab": {
          "base_uri": "https://localhost:8080/",
          "height": 191
        },
        "outputId": "8377321b-227b-45c9-a8d0-80c4a74f0e71"
      },
      "source": [
        "sim_df=sim_df.set_index('asin_x')\n",
        "sim_df.head(2)"
      ],
      "execution_count": null,
      "outputs": [
        {
          "output_type": "execute_result",
          "data": {
            "text/html": [
              "<div>\n",
              "<style scoped>\n",
              "    .dataframe tbody tr th:only-of-type {\n",
              "        vertical-align: middle;\n",
              "    }\n",
              "\n",
              "    .dataframe tbody tr th {\n",
              "        vertical-align: top;\n",
              "    }\n",
              "\n",
              "    .dataframe thead th {\n",
              "        text-align: right;\n",
              "    }\n",
              "</style>\n",
              "<table border=\"1\" class=\"dataframe\">\n",
              "  <thead>\n",
              "    <tr style=\"text-align: right;\">\n",
              "      <th></th>\n",
              "      <th>0700026657</th>\n",
              "      <th>B00000JMWB</th>\n",
              "      <th>B0000ALFCI</th>\n",
              "      <th>B0009VXBAQ</th>\n",
              "      <th>B000B8J7K0</th>\n",
              "      <th>B000FQ9QVI</th>\n",
              "      <th>B000P5BSUQ</th>\n",
              "      <th>B0018QOWEU</th>\n",
              "      <th>B0019R3O7E</th>\n",
              "      <th>B0019R4VCQ</th>\n",
              "      <th>B001L1RZ32</th>\n",
              "      <th>B00282WKEW</th>\n",
              "      <th>B002AB7TX8</th>\n",
              "      <th>B002BXKJA0</th>\n",
              "      <th>B002GEKIOG</th>\n",
              "      <th>B003YLWJLA</th>\n",
              "      <th>B004X56PWK</th>\n",
              "      <th>B0053B5RGI</th>\n",
              "      <th>B005EYRAUK</th>\n",
              "      <th>B005EZ5GNW</th>\n",
              "      <th>B006JKASAC</th>\n",
              "      <th>B00737H0KQ</th>\n",
              "      <th>B00AYABWYE</th>\n",
              "      <th>B00CH923NE</th>\n",
              "      <th>B00L4KVO78</th>\n",
              "      <th>B00001N2OM</th>\n",
              "      <th>B00002SUHI</th>\n",
              "      <th>B00002SVBV</th>\n",
              "      <th>B00004DSDE</th>\n",
              "      <th>B00004T77P</th>\n",
              "      <th>B00004U55G</th>\n",
              "      <th>B00004ZB2I</th>\n",
              "      <th>B00005AG1J</th>\n",
              "      <th>B0000899ZX</th>\n",
              "      <th>B00008JOLW</th>\n",
              "      <th>B00009THMU</th>\n",
              "      <th>B0000C0YW2</th>\n",
              "      <th>B0000C0YNT</th>\n",
              "      <th>B0000D12XH</th>\n",
              "      <th>B0000E2XEG</th>\n",
              "      <th>...</th>\n",
              "      <th>B00QDHPVS0</th>\n",
              "      <th>B00PYWLXH8</th>\n",
              "      <th>B00I6A7C7A</th>\n",
              "      <th>B00OXT577K</th>\n",
              "      <th>B00H0GGPNI</th>\n",
              "      <th>B00Q53IWHE</th>\n",
              "      <th>B00YZ4E3YG</th>\n",
              "      <th>B00LMI0LVM</th>\n",
              "      <th>B00DDCBOUC</th>\n",
              "      <th>B01GKH5QZ0</th>\n",
              "      <th>B01A8LQGCQ</th>\n",
              "      <th>B01D0G4DU8</th>\n",
              "      <th>B01H0TGLBU</th>\n",
              "      <th>B015GCU8XK</th>\n",
              "      <th>B013HJ77U6</th>\n",
              "      <th>B00GP2FH1O</th>\n",
              "      <th>B01FWYIYNI</th>\n",
              "      <th>B0155VB214</th>\n",
              "      <th>B00VKPL5LC</th>\n",
              "      <th>B00LWH3HMI</th>\n",
              "      <th>B01BRMDSMQ</th>\n",
              "      <th>B01EYCLJ04</th>\n",
              "      <th>B00SCQF9TG</th>\n",
              "      <th>B013HJ7CII</th>\n",
              "      <th>B00NQT47YM</th>\n",
              "      <th>B00IIYN746</th>\n",
              "      <th>B010OXC93I</th>\n",
              "      <th>B00LVRXS8C</th>\n",
              "      <th>B00XEXQTHI</th>\n",
              "      <th>B00ZAV2KC0</th>\n",
              "      <th>B0153XHRPY</th>\n",
              "      <th>B01AWM9Y48</th>\n",
              "      <th>B01DW8AGLO</th>\n",
              "      <th>B016WRQCKQ</th>\n",
              "      <th>B00NUIFZN6</th>\n",
              "      <th>B00XWE53XA</th>\n",
              "      <th>B01GYYB5O0</th>\n",
              "      <th>B014P7QI6I</th>\n",
              "      <th>B00MEXP33U</th>\n",
              "      <th>B016K3SI0O</th>\n",
              "    </tr>\n",
              "    <tr>\n",
              "      <th>asin_x</th>\n",
              "      <th></th>\n",
              "      <th></th>\n",
              "      <th></th>\n",
              "      <th></th>\n",
              "      <th></th>\n",
              "      <th></th>\n",
              "      <th></th>\n",
              "      <th></th>\n",
              "      <th></th>\n",
              "      <th></th>\n",
              "      <th></th>\n",
              "      <th></th>\n",
              "      <th></th>\n",
              "      <th></th>\n",
              "      <th></th>\n",
              "      <th></th>\n",
              "      <th></th>\n",
              "      <th></th>\n",
              "      <th></th>\n",
              "      <th></th>\n",
              "      <th></th>\n",
              "      <th></th>\n",
              "      <th></th>\n",
              "      <th></th>\n",
              "      <th></th>\n",
              "      <th></th>\n",
              "      <th></th>\n",
              "      <th></th>\n",
              "      <th></th>\n",
              "      <th></th>\n",
              "      <th></th>\n",
              "      <th></th>\n",
              "      <th></th>\n",
              "      <th></th>\n",
              "      <th></th>\n",
              "      <th></th>\n",
              "      <th></th>\n",
              "      <th></th>\n",
              "      <th></th>\n",
              "      <th></th>\n",
              "      <th></th>\n",
              "      <th></th>\n",
              "      <th></th>\n",
              "      <th></th>\n",
              "      <th></th>\n",
              "      <th></th>\n",
              "      <th></th>\n",
              "      <th></th>\n",
              "      <th></th>\n",
              "      <th></th>\n",
              "      <th></th>\n",
              "      <th></th>\n",
              "      <th></th>\n",
              "      <th></th>\n",
              "      <th></th>\n",
              "      <th></th>\n",
              "      <th></th>\n",
              "      <th></th>\n",
              "      <th></th>\n",
              "      <th></th>\n",
              "      <th></th>\n",
              "      <th></th>\n",
              "      <th></th>\n",
              "      <th></th>\n",
              "      <th></th>\n",
              "      <th></th>\n",
              "      <th></th>\n",
              "      <th></th>\n",
              "      <th></th>\n",
              "      <th></th>\n",
              "      <th></th>\n",
              "      <th></th>\n",
              "      <th></th>\n",
              "      <th></th>\n",
              "      <th></th>\n",
              "      <th></th>\n",
              "      <th></th>\n",
              "      <th></th>\n",
              "      <th></th>\n",
              "      <th></th>\n",
              "      <th></th>\n",
              "    </tr>\n",
              "  </thead>\n",
              "  <tbody>\n",
              "    <tr>\n",
              "      <th>0700026657</th>\n",
              "      <td>1.000000</td>\n",
              "      <td>0.003873</td>\n",
              "      <td>0.004003</td>\n",
              "      <td>0.012212</td>\n",
              "      <td>0.0</td>\n",
              "      <td>0.022866</td>\n",
              "      <td>0.033497</td>\n",
              "      <td>0.001524</td>\n",
              "      <td>0.009081</td>\n",
              "      <td>0.011354</td>\n",
              "      <td>0.011768</td>\n",
              "      <td>0.002842</td>\n",
              "      <td>0.027521</td>\n",
              "      <td>0.008307</td>\n",
              "      <td>0.001162</td>\n",
              "      <td>0.005826</td>\n",
              "      <td>0.006697</td>\n",
              "      <td>0.018209</td>\n",
              "      <td>0.006502</td>\n",
              "      <td>0.001589</td>\n",
              "      <td>0.005756</td>\n",
              "      <td>0.000579</td>\n",
              "      <td>0.012661</td>\n",
              "      <td>0.019270</td>\n",
              "      <td>0.026016</td>\n",
              "      <td>0.0</td>\n",
              "      <td>0.0</td>\n",
              "      <td>0.021119</td>\n",
              "      <td>0.0</td>\n",
              "      <td>0.010346</td>\n",
              "      <td>0.0</td>\n",
              "      <td>0.023158</td>\n",
              "      <td>0.0</td>\n",
              "      <td>0.0</td>\n",
              "      <td>0.012777</td>\n",
              "      <td>0.019470</td>\n",
              "      <td>0.014130</td>\n",
              "      <td>0.036380</td>\n",
              "      <td>0.011723</td>\n",
              "      <td>0.016873</td>\n",
              "      <td>...</td>\n",
              "      <td>0.005378</td>\n",
              "      <td>0.021400</td>\n",
              "      <td>0.000707</td>\n",
              "      <td>0.005015</td>\n",
              "      <td>0.001074</td>\n",
              "      <td>0.007968</td>\n",
              "      <td>0.001677</td>\n",
              "      <td>0.0</td>\n",
              "      <td>0.007828</td>\n",
              "      <td>0.027002</td>\n",
              "      <td>0.007300</td>\n",
              "      <td>0.003805</td>\n",
              "      <td>0.026403</td>\n",
              "      <td>0.007179</td>\n",
              "      <td>0.007659</td>\n",
              "      <td>0.001197</td>\n",
              "      <td>0.005120</td>\n",
              "      <td>0.005222</td>\n",
              "      <td>0.000312</td>\n",
              "      <td>0.005182</td>\n",
              "      <td>0.002126</td>\n",
              "      <td>0.003440</td>\n",
              "      <td>0.001101</td>\n",
              "      <td>0.006944</td>\n",
              "      <td>0.001151</td>\n",
              "      <td>0.000522</td>\n",
              "      <td>0.004378</td>\n",
              "      <td>0.0</td>\n",
              "      <td>0.0</td>\n",
              "      <td>0.0</td>\n",
              "      <td>0.006086</td>\n",
              "      <td>0.012254</td>\n",
              "      <td>0.010862</td>\n",
              "      <td>0.009135</td>\n",
              "      <td>0.0</td>\n",
              "      <td>0.001225</td>\n",
              "      <td>0.005145</td>\n",
              "      <td>0.0</td>\n",
              "      <td>0.002558</td>\n",
              "      <td>0.012545</td>\n",
              "    </tr>\n",
              "    <tr>\n",
              "      <th>B00000JMWB</th>\n",
              "      <td>0.003873</td>\n",
              "      <td>1.000000</td>\n",
              "      <td>0.002150</td>\n",
              "      <td>0.020433</td>\n",
              "      <td>0.0</td>\n",
              "      <td>0.006734</td>\n",
              "      <td>0.004491</td>\n",
              "      <td>0.008507</td>\n",
              "      <td>0.008335</td>\n",
              "      <td>0.004220</td>\n",
              "      <td>0.006461</td>\n",
              "      <td>0.004559</td>\n",
              "      <td>0.004737</td>\n",
              "      <td>0.010804</td>\n",
              "      <td>0.012928</td>\n",
              "      <td>0.011822</td>\n",
              "      <td>0.002790</td>\n",
              "      <td>0.009315</td>\n",
              "      <td>0.006115</td>\n",
              "      <td>0.004647</td>\n",
              "      <td>0.006780</td>\n",
              "      <td>0.020158</td>\n",
              "      <td>0.008371</td>\n",
              "      <td>0.014078</td>\n",
              "      <td>0.003071</td>\n",
              "      <td>0.0</td>\n",
              "      <td>0.0</td>\n",
              "      <td>0.009595</td>\n",
              "      <td>0.0</td>\n",
              "      <td>0.006894</td>\n",
              "      <td>0.0</td>\n",
              "      <td>0.001649</td>\n",
              "      <td>0.0</td>\n",
              "      <td>0.0</td>\n",
              "      <td>0.001917</td>\n",
              "      <td>0.003845</td>\n",
              "      <td>0.001866</td>\n",
              "      <td>0.007772</td>\n",
              "      <td>0.002090</td>\n",
              "      <td>0.004893</td>\n",
              "      <td>...</td>\n",
              "      <td>0.003745</td>\n",
              "      <td>0.001596</td>\n",
              "      <td>0.003945</td>\n",
              "      <td>0.007370</td>\n",
              "      <td>0.022420</td>\n",
              "      <td>0.005366</td>\n",
              "      <td>0.005857</td>\n",
              "      <td>0.0</td>\n",
              "      <td>0.001923</td>\n",
              "      <td>0.004264</td>\n",
              "      <td>0.022109</td>\n",
              "      <td>0.016239</td>\n",
              "      <td>0.002806</td>\n",
              "      <td>0.018742</td>\n",
              "      <td>0.006982</td>\n",
              "      <td>0.013322</td>\n",
              "      <td>0.001392</td>\n",
              "      <td>0.002774</td>\n",
              "      <td>0.001583</td>\n",
              "      <td>0.006956</td>\n",
              "      <td>0.007426</td>\n",
              "      <td>0.003162</td>\n",
              "      <td>0.018356</td>\n",
              "      <td>0.006330</td>\n",
              "      <td>0.006428</td>\n",
              "      <td>0.002914</td>\n",
              "      <td>0.001019</td>\n",
              "      <td>0.0</td>\n",
              "      <td>0.0</td>\n",
              "      <td>0.0</td>\n",
              "      <td>0.006131</td>\n",
              "      <td>0.008073</td>\n",
              "      <td>0.002216</td>\n",
              "      <td>0.002000</td>\n",
              "      <td>0.0</td>\n",
              "      <td>0.020239</td>\n",
              "      <td>0.004764</td>\n",
              "      <td>0.0</td>\n",
              "      <td>0.005123</td>\n",
              "      <td>0.006608</td>\n",
              "    </tr>\n",
              "  </tbody>\n",
              "</table>\n",
              "<p>2 rows × 17341 columns</p>\n",
              "</div>"
            ],
            "text/plain": [
              "            0700026657  B00000JMWB  ...  B00MEXP33U  B016K3SI0O\n",
              "asin_x                              ...                        \n",
              "0700026657    1.000000    0.003873  ...    0.002558    0.012545\n",
              "B00000JMWB    0.003873    1.000000  ...    0.005123    0.006608\n",
              "\n",
              "[2 rows x 17341 columns]"
            ]
          },
          "metadata": {
            "tags": []
          },
          "execution_count": 112
        }
      ]
    },
    {
      "cell_type": "code",
      "metadata": {
        "id": "qlZq3Q4ewsMv",
        "colab_type": "code",
        "colab": {}
      },
      "source": [
        "from itertools import combinations \n",
        "\n",
        "def Diversity(user_list,simsMatrix):\n",
        "  print(\"Diversity: 1-S, where S is the average similarity score between every possible pair of recommendations\")\n",
        "  print(\"           for a given user. Higher means more diverse.\")\n",
        "\n",
        "  n=0\n",
        "  total=0\n",
        "  missed=0\n",
        "  for u in tqdm(user_list):\n",
        "    #the next 3 lines are to just generate the top n recommendations\n",
        "    df=group_user.get_group(u)\n",
        "    asin1=[i for i in df[\"asin\"]]\n",
        "    recommendations=get_recommendations(u,20,sparse,asin1)\n",
        "\n",
        "\n",
        "    pairs = combinations(recommendations,2)\n",
        "    for pair in pairs:\n",
        "\n",
        "      item1= pair[0]\n",
        "      item2= pair[1]\n",
        "\n",
        "      if (item1 and item2 in sim_df.columns):\n",
        "\n",
        "        similarity= simsMatrix.at[item1, item2]\n",
        "        total+=similarity\n",
        "        n+=1\n",
        "      else:\n",
        "        missed+=1\n",
        "\n",
        "\n",
        "  \n",
        "  S= total/n\n",
        "  print('Total missed :')\n",
        "  print(missed)\n",
        "\n",
        "  return (1-S)"
      ],
      "execution_count": null,
      "outputs": []
    },
    {
      "cell_type": "code",
      "metadata": {
        "id": "KpuaDIpFxa1L",
        "colab_type": "code",
        "colab": {
          "base_uri": "https://localhost:8080/",
          "height": 185,
          "referenced_widgets": [
            "397a2fdde385405eaf9d7bc4346fc4d2",
            "36712a6598c4490d8393d25a2b66feaf",
            "a806e02db11342a8bb032f7efb90bbf2",
            "4bfd54ba94f245f281f9b1e655e18051",
            "90f4ec7bf212491889d96ea13b5cd356",
            "8dfde7f2f046426887e2787ebba97409",
            "11e84c7e0df2484dbba9a2080bc9400c",
            "f42a96f182ea4c43b2fddda2931a02ee"
          ]
        },
        "outputId": "394c19c6-fefe-4013-a5be-a3c1ab89319c"
      },
      "source": [
        "%%time\n",
        "print(Diversity(user_list[0:1000],sim_df))"
      ],
      "execution_count": null,
      "outputs": [
        {
          "output_type": "stream",
          "text": [
            "Diversity: 1-S, where S is the average similarity score between every possible pair of recommendations\n",
            "           for a given user. Higher means more diverse.\n"
          ],
          "name": "stdout"
        },
        {
          "output_type": "display_data",
          "data": {
            "application/vnd.jupyter.widget-view+json": {
              "model_id": "397a2fdde385405eaf9d7bc4346fc4d2",
              "version_minor": 0,
              "version_major": 2
            },
            "text/plain": [
              "HBox(children=(FloatProgress(value=0.0, max=1000.0), HTML(value='')))"
            ]
          },
          "metadata": {
            "tags": []
          }
        },
        {
          "output_type": "stream",
          "text": [
            "\n",
            "Total missed :\n",
            "0\n",
            "0.9882423696775127\n",
            "CPU times: user 1min 16s, sys: 569 ms, total: 1min 17s\n",
            "Wall time: 1min 17s\n"
          ],
          "name": "stdout"
        }
      ]
    },
    {
      "cell_type": "code",
      "metadata": {
        "id": "4eja9TXkxemB",
        "colab_type": "code",
        "colab": {}
      },
      "source": [
        ""
      ],
      "execution_count": null,
      "outputs": []
    }
  ]
}