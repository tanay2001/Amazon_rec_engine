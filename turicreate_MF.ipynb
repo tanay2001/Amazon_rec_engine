{
  "nbformat": 4,
  "nbformat_minor": 0,
  "metadata": {
    "colab": {
      "name": "turicreate_MF.ipynb",
      "provenance": [],
      "collapsed_sections": []
    },
    "kernelspec": {
      "name": "python3",
      "display_name": "Python 3"
    }
  },
  "cells": [
    {
      "cell_type": "code",
      "metadata": {
        "id": "X27Ex_Aal0JK",
        "colab_type": "code",
        "colab": {
          "base_uri": "https://localhost:8080/",
          "height": 122
        },
        "outputId": "89fade4a-fc7d-44cb-c67c-8e9a79e3a73f"
      },
      "source": [
        "from google.colab import drive\n",
        "drive.mount('/content/drive')"
      ],
      "execution_count": null,
      "outputs": [
        {
          "output_type": "stream",
          "text": [
            "Go to this URL in a browser: https://accounts.google.com/o/oauth2/auth?client_id=947318989803-6bn6qk8qdgf4n4g3pfee6491hc0brc4i.apps.googleusercontent.com&redirect_uri=urn%3aietf%3awg%3aoauth%3a2.0%3aoob&response_type=code&scope=email%20https%3a%2f%2fwww.googleapis.com%2fauth%2fdocs.test%20https%3a%2f%2fwww.googleapis.com%2fauth%2fdrive%20https%3a%2f%2fwww.googleapis.com%2fauth%2fdrive.photos.readonly%20https%3a%2f%2fwww.googleapis.com%2fauth%2fpeopleapi.readonly\n",
            "\n",
            "Enter your authorization code:\n",
            "··········\n",
            "Mounted at /content/drive\n"
          ],
          "name": "stdout"
        }
      ]
    },
    {
      "cell_type": "code",
      "metadata": {
        "id": "rQ1aM4l_2411",
        "colab_type": "code",
        "colab": {
          "base_uri": "https://localhost:8080/",
          "height": 1000
        },
        "outputId": "f03051e8-6377-4aee-e87d-3a160a3ec3ae"
      },
      "source": [
        "!pip install turicreate"
      ],
      "execution_count": null,
      "outputs": [
        {
          "output_type": "stream",
          "text": [
            "Collecting turicreate\n",
            "\u001b[?25l  Downloading https://files.pythonhosted.org/packages/e4/76/76c624d7ae1116b22cd559288596a1f9aa7a50f8f43f4481033fc047f5e9/turicreate-6.3-cp36-cp36m-manylinux1_x86_64.whl (91.9MB)\n",
            "\u001b[K     |████████████████████████████████| 91.9MB 68kB/s \n",
            "\u001b[?25hRequirement already satisfied: decorator>=4.0.9 in /usr/local/lib/python3.6/dist-packages (from turicreate) (4.4.2)\n",
            "Requirement already satisfied: numpy in /usr/local/lib/python3.6/dist-packages (from turicreate) (1.18.5)\n",
            "Requirement already satisfied: prettytable==0.7.2 in /usr/local/lib/python3.6/dist-packages (from turicreate) (0.7.2)\n",
            "Requirement already satisfied: requests>=2.9.1 in /usr/local/lib/python3.6/dist-packages (from turicreate) (2.23.0)\n",
            "Requirement already satisfied: scipy>=1.1.0 in /usr/local/lib/python3.6/dist-packages (from turicreate) (1.4.1)\n",
            "Collecting tensorflow<=2.0.1,>=2.0.0\n",
            "\u001b[?25l  Downloading https://files.pythonhosted.org/packages/43/16/b07e3f7a4a024b47918f7018967eb984b0c542458a6141d8c48515aa81d4/tensorflow-2.0.1-cp36-cp36m-manylinux2010_x86_64.whl (86.3MB)\n",
            "\u001b[K     |████████████████████████████████| 86.3MB 49kB/s \n",
            "\u001b[?25hRequirement already satisfied: pillow>=5.2.0 in /usr/local/lib/python3.6/dist-packages (from turicreate) (7.0.0)\n",
            "Collecting coremltools==3.3\n",
            "\u001b[?25l  Downloading https://files.pythonhosted.org/packages/77/19/611916d1ef326d38857d93af5ba184f6ad7491642e0fa4f9082e7d82f034/coremltools-3.3-cp36-none-manylinux1_x86_64.whl (3.4MB)\n",
            "\u001b[K     |████████████████████████████████| 3.4MB 46.6MB/s \n",
            "\u001b[?25hRequirement already satisfied: pandas>=0.23.2 in /usr/local/lib/python3.6/dist-packages (from turicreate) (1.0.4)\n",
            "Requirement already satisfied: six>=1.10.0 in /usr/local/lib/python3.6/dist-packages (from turicreate) (1.12.0)\n",
            "Collecting resampy==0.2.1\n",
            "\u001b[?25l  Downloading https://files.pythonhosted.org/packages/14/b6/66a06d85474190b50aee1a6c09cdc95bb405ac47338b27e9b21409da1760/resampy-0.2.1.tar.gz (322kB)\n",
            "\u001b[K     |████████████████████████████████| 327kB 48.6MB/s \n",
            "\u001b[?25hRequirement already satisfied: certifi>=2017.4.17 in /usr/local/lib/python3.6/dist-packages (from requests>=2.9.1->turicreate) (2020.4.5.2)\n",
            "Requirement already satisfied: chardet<4,>=3.0.2 in /usr/local/lib/python3.6/dist-packages (from requests>=2.9.1->turicreate) (3.0.4)\n",
            "Requirement already satisfied: urllib3!=1.25.0,!=1.25.1,<1.26,>=1.21.1 in /usr/local/lib/python3.6/dist-packages (from requests>=2.9.1->turicreate) (1.24.3)\n",
            "Requirement already satisfied: idna<3,>=2.5 in /usr/local/lib/python3.6/dist-packages (from requests>=2.9.1->turicreate) (2.9)\n",
            "Requirement already satisfied: opt-einsum>=2.3.2 in /usr/local/lib/python3.6/dist-packages (from tensorflow<=2.0.1,>=2.0.0->turicreate) (3.2.1)\n",
            "Requirement already satisfied: termcolor>=1.1.0 in /usr/local/lib/python3.6/dist-packages (from tensorflow<=2.0.1,>=2.0.0->turicreate) (1.1.0)\n",
            "Requirement already satisfied: wrapt>=1.11.1 in /usr/local/lib/python3.6/dist-packages (from tensorflow<=2.0.1,>=2.0.0->turicreate) (1.12.1)\n",
            "Requirement already satisfied: protobuf>=3.6.1 in /usr/local/lib/python3.6/dist-packages (from tensorflow<=2.0.1,>=2.0.0->turicreate) (3.10.0)\n",
            "Collecting gast==0.2.2\n",
            "  Downloading https://files.pythonhosted.org/packages/4e/35/11749bf99b2d4e3cceb4d55ca22590b0d7c2c62b9de38ac4a4a7f4687421/gast-0.2.2.tar.gz\n",
            "Requirement already satisfied: keras-applications>=1.0.8 in /usr/local/lib/python3.6/dist-packages (from tensorflow<=2.0.1,>=2.0.0->turicreate) (1.0.8)\n",
            "Requirement already satisfied: keras-preprocessing>=1.0.5 in /usr/local/lib/python3.6/dist-packages (from tensorflow<=2.0.1,>=2.0.0->turicreate) (1.1.2)\n",
            "Requirement already satisfied: astor>=0.6.0 in /usr/local/lib/python3.6/dist-packages (from tensorflow<=2.0.1,>=2.0.0->turicreate) (0.8.1)\n",
            "Collecting tensorboard<2.1.0,>=2.0.0\n",
            "\u001b[?25l  Downloading https://files.pythonhosted.org/packages/76/54/99b9d5d52d5cb732f099baaaf7740403e83fe6b0cedde940fabd2b13d75a/tensorboard-2.0.2-py3-none-any.whl (3.8MB)\n",
            "\u001b[K     |████████████████████████████████| 3.8MB 40.3MB/s \n",
            "\u001b[?25hCollecting tensorflow-estimator<2.1.0,>=2.0.0\n",
            "\u001b[?25l  Downloading https://files.pythonhosted.org/packages/fc/08/8b927337b7019c374719145d1dceba21a8bb909b93b1ad6f8fb7d22c1ca1/tensorflow_estimator-2.0.1-py2.py3-none-any.whl (449kB)\n",
            "\u001b[K     |████████████████████████████████| 450kB 32.5MB/s \n",
            "\u001b[?25hRequirement already satisfied: grpcio>=1.8.6 in /usr/local/lib/python3.6/dist-packages (from tensorflow<=2.0.1,>=2.0.0->turicreate) (1.29.0)\n",
            "Requirement already satisfied: absl-py>=0.7.0 in /usr/local/lib/python3.6/dist-packages (from tensorflow<=2.0.1,>=2.0.0->turicreate) (0.9.0)\n",
            "Requirement already satisfied: wheel>=0.26; python_version >= \"3\" in /usr/local/lib/python3.6/dist-packages (from tensorflow<=2.0.1,>=2.0.0->turicreate) (0.34.2)\n",
            "Requirement already satisfied: google-pasta>=0.1.6 in /usr/local/lib/python3.6/dist-packages (from tensorflow<=2.0.1,>=2.0.0->turicreate) (0.2.0)\n",
            "Requirement already satisfied: python-dateutil>=2.6.1 in /usr/local/lib/python3.6/dist-packages (from pandas>=0.23.2->turicreate) (2.8.1)\n",
            "Requirement already satisfied: pytz>=2017.2 in /usr/local/lib/python3.6/dist-packages (from pandas>=0.23.2->turicreate) (2018.9)\n",
            "Requirement already satisfied: numba>=0.32 in /usr/local/lib/python3.6/dist-packages (from resampy==0.2.1->turicreate) (0.48.0)\n",
            "Requirement already satisfied: setuptools in /usr/local/lib/python3.6/dist-packages (from protobuf>=3.6.1->tensorflow<=2.0.1,>=2.0.0->turicreate) (47.3.1)\n",
            "Requirement already satisfied: h5py in /usr/local/lib/python3.6/dist-packages (from keras-applications>=1.0.8->tensorflow<=2.0.1,>=2.0.0->turicreate) (2.10.0)\n",
            "Requirement already satisfied: google-auth<2,>=1.6.3 in /usr/local/lib/python3.6/dist-packages (from tensorboard<2.1.0,>=2.0.0->tensorflow<=2.0.1,>=2.0.0->turicreate) (1.17.2)\n",
            "Requirement already satisfied: werkzeug>=0.11.15 in /usr/local/lib/python3.6/dist-packages (from tensorboard<2.1.0,>=2.0.0->tensorflow<=2.0.1,>=2.0.0->turicreate) (1.0.1)\n",
            "Requirement already satisfied: google-auth-oauthlib<0.5,>=0.4.1 in /usr/local/lib/python3.6/dist-packages (from tensorboard<2.1.0,>=2.0.0->tensorflow<=2.0.1,>=2.0.0->turicreate) (0.4.1)\n",
            "Requirement already satisfied: markdown>=2.6.8 in /usr/local/lib/python3.6/dist-packages (from tensorboard<2.1.0,>=2.0.0->tensorflow<=2.0.1,>=2.0.0->turicreate) (3.2.2)\n",
            "Requirement already satisfied: llvmlite<0.32.0,>=0.31.0dev0 in /usr/local/lib/python3.6/dist-packages (from numba>=0.32->resampy==0.2.1->turicreate) (0.31.0)\n",
            "Requirement already satisfied: cachetools<5.0,>=2.0.0 in /usr/local/lib/python3.6/dist-packages (from google-auth<2,>=1.6.3->tensorboard<2.1.0,>=2.0.0->tensorflow<=2.0.1,>=2.0.0->turicreate) (4.1.0)\n",
            "Requirement already satisfied: rsa<5,>=3.1.4; python_version >= \"3\" in /usr/local/lib/python3.6/dist-packages (from google-auth<2,>=1.6.3->tensorboard<2.1.0,>=2.0.0->tensorflow<=2.0.1,>=2.0.0->turicreate) (4.6)\n",
            "Requirement already satisfied: pyasn1-modules>=0.2.1 in /usr/local/lib/python3.6/dist-packages (from google-auth<2,>=1.6.3->tensorboard<2.1.0,>=2.0.0->tensorflow<=2.0.1,>=2.0.0->turicreate) (0.2.8)\n",
            "Requirement already satisfied: requests-oauthlib>=0.7.0 in /usr/local/lib/python3.6/dist-packages (from google-auth-oauthlib<0.5,>=0.4.1->tensorboard<2.1.0,>=2.0.0->tensorflow<=2.0.1,>=2.0.0->turicreate) (1.3.0)\n",
            "Requirement already satisfied: importlib-metadata; python_version < \"3.8\" in /usr/local/lib/python3.6/dist-packages (from markdown>=2.6.8->tensorboard<2.1.0,>=2.0.0->tensorflow<=2.0.1,>=2.0.0->turicreate) (1.6.1)\n",
            "Requirement already satisfied: pyasn1>=0.1.3 in /usr/local/lib/python3.6/dist-packages (from rsa<5,>=3.1.4; python_version >= \"3\"->google-auth<2,>=1.6.3->tensorboard<2.1.0,>=2.0.0->tensorflow<=2.0.1,>=2.0.0->turicreate) (0.4.8)\n",
            "Requirement already satisfied: oauthlib>=3.0.0 in /usr/local/lib/python3.6/dist-packages (from requests-oauthlib>=0.7.0->google-auth-oauthlib<0.5,>=0.4.1->tensorboard<2.1.0,>=2.0.0->tensorflow<=2.0.1,>=2.0.0->turicreate) (3.1.0)\n",
            "Requirement already satisfied: zipp>=0.5 in /usr/local/lib/python3.6/dist-packages (from importlib-metadata; python_version < \"3.8\"->markdown>=2.6.8->tensorboard<2.1.0,>=2.0.0->tensorflow<=2.0.1,>=2.0.0->turicreate) (3.1.0)\n",
            "Building wheels for collected packages: resampy, gast\n",
            "  Building wheel for resampy (setup.py) ... \u001b[?25l\u001b[?25hdone\n",
            "  Created wheel for resampy: filename=resampy-0.2.1-cp36-none-any.whl size=320850 sha256=77ec414c6efe4588ac0e483d1a901ee03f82475445cb23c5127e72c4121279ee\n",
            "  Stored in directory: /root/.cache/pip/wheels/ff/4f/ed/2e6c676c23efe5394bb40ade50662e90eb46e29b48324c5f9b\n",
            "  Building wheel for gast (setup.py) ... \u001b[?25l\u001b[?25hdone\n",
            "  Created wheel for gast: filename=gast-0.2.2-cp36-none-any.whl size=7540 sha256=0cccf6a226cf6739dff87a73ae658a2b43c36656104df8b55a584a13bb5838f8\n",
            "  Stored in directory: /root/.cache/pip/wheels/5c/2e/7e/a1d4d4fcebe6c381f378ce7743a3ced3699feb89bcfbdadadd\n",
            "Successfully built resampy gast\n",
            "\u001b[31mERROR: tensorflow-probability 0.10.0 has requirement gast>=0.3.2, but you'll have gast 0.2.2 which is incompatible.\u001b[0m\n",
            "Installing collected packages: gast, tensorboard, tensorflow-estimator, tensorflow, coremltools, resampy, turicreate\n",
            "  Found existing installation: gast 0.3.3\n",
            "    Uninstalling gast-0.3.3:\n",
            "      Successfully uninstalled gast-0.3.3\n",
            "  Found existing installation: tensorboard 2.2.2\n",
            "    Uninstalling tensorboard-2.2.2:\n",
            "      Successfully uninstalled tensorboard-2.2.2\n",
            "  Found existing installation: tensorflow-estimator 2.2.0\n",
            "    Uninstalling tensorflow-estimator-2.2.0:\n",
            "      Successfully uninstalled tensorflow-estimator-2.2.0\n",
            "  Found existing installation: tensorflow 2.2.0\n",
            "    Uninstalling tensorflow-2.2.0:\n",
            "      Successfully uninstalled tensorflow-2.2.0\n",
            "  Found existing installation: resampy 0.2.2\n",
            "    Uninstalling resampy-0.2.2:\n",
            "      Successfully uninstalled resampy-0.2.2\n",
            "Successfully installed coremltools-3.3 gast-0.2.2 resampy-0.2.1 tensorboard-2.0.2 tensorflow-2.0.1 tensorflow-estimator-2.0.1 turicreate-6.3\n"
          ],
          "name": "stdout"
        }
      ]
    },
    {
      "cell_type": "code",
      "metadata": {
        "id": "Bp5wK88SlJ9A",
        "colab_type": "code",
        "colab": {
          "base_uri": "https://localhost:8080/",
          "height": 51
        },
        "outputId": "bf39d483-da02-4af1-8a7f-374bca0c98bb"
      },
      "source": [
        "from sklearn.utils import shuffle\n",
        "import matplotlib.pyplot as plt\n",
        "import tensorflow as tf\n",
        "from tensorflow.keras.models import Model\n",
        "from tensorflow.keras.layers import Input, Embedding, Dot, Add, Flatten, Concatenate, Dense, Activation,Dropout, BatchNormalization\n",
        "from tensorflow.keras.regularizers import l2\n",
        "from tensorflow.keras.optimizers import SGD, Adam\n",
        "from scipy.sparse import csr_matrix\n",
        "import pandas as pd\n",
        "from sklearn.model_selection import train_test_split\n",
        "import json\n",
        "import gzip\n",
        "import seaborn as sns\n",
        "from sklearn.feature_extraction.text import CountVectorizer, TfidfTransformer, TfidfVectorizer\n",
        "import re\n",
        "import random\n",
        "import string\n",
        "import nltk\n",
        "import numpy as np\n",
        "from numpy import *\n",
        "from sklearn.metrics.pairwise import cosine_similarity\n",
        "from tqdm.notebook import tqdm\n",
        "import turicreate as tc\n",
        "random.seed(10)"
      ],
      "execution_count": null,
      "outputs": [
        {
          "output_type": "stream",
          "text": [
            "/usr/local/lib/python3.6/dist-packages/statsmodels/tools/_testing.py:19: FutureWarning: pandas.util.testing is deprecated. Use the functions in the public API at pandas.testing instead.\n",
            "  import pandas.util.testing as tm\n"
          ],
          "name": "stderr"
        }
      ]
    },
    {
      "cell_type": "code",
      "metadata": {
        "id": "szo2eU_3yGWc",
        "colab_type": "code",
        "colab": {
          "base_uri": "https://localhost:8080/",
          "height": 391
        },
        "outputId": "727047bd-1f07-4ced-a79a-8fd8fba4c3a0"
      },
      "source": [
        "!wget http://deepyeti.ucsd.edu/jianmo/amazon/metaFiles/meta_Video_Games.json.gz\n",
        "data = []\n",
        "with gzip.open('meta_Video_Games.json.gz') as f:\n",
        "    for l in f:\n",
        "        data.append(json.loads(l.strip()))\n",
        "df = pd.DataFrame.from_dict(data)\n",
        "!wget http://deepyeti.ucsd.edu/jianmo/amazon/categoryFilesSmall/Video_Games_5.json.gz\n",
        "data2 = []\n",
        "with gzip.open('Video_Games_5.json.gz') as f:\n",
        "    for l in f:\n",
        "        data2.append(json.loads(l.strip()))\n"
      ],
      "execution_count": null,
      "outputs": [
        {
          "output_type": "stream",
          "text": [
            "--2020-06-19 05:00:29--  http://deepyeti.ucsd.edu/jianmo/amazon/metaFiles/meta_Video_Games.json.gz\n",
            "Resolving deepyeti.ucsd.edu (deepyeti.ucsd.edu)... 169.228.63.50\n",
            "Connecting to deepyeti.ucsd.edu (deepyeti.ucsd.edu)|169.228.63.50|:80... connected.\n",
            "HTTP request sent, awaiting response... 200 OK\n",
            "Length: 80222877 (77M) [application/octet-stream]\n",
            "Saving to: ‘meta_Video_Games.json.gz’\n",
            "\n",
            "meta_Video_Games.js 100%[===================>]  76.51M  35.2MB/s    in 2.2s    \n",
            "\n",
            "2020-06-19 05:00:31 (35.2 MB/s) - ‘meta_Video_Games.json.gz’ saved [80222877/80222877]\n",
            "\n",
            "--2020-06-19 05:00:39--  http://deepyeti.ucsd.edu/jianmo/amazon/categoryFilesSmall/Video_Games_5.json.gz\n",
            "Resolving deepyeti.ucsd.edu (deepyeti.ucsd.edu)... 169.228.63.50\n",
            "Connecting to deepyeti.ucsd.edu (deepyeti.ucsd.edu)|169.228.63.50|:80... connected.\n",
            "HTTP request sent, awaiting response... 200 OK\n",
            "Length: 154050105 (147M) [application/octet-stream]\n",
            "Saving to: ‘Video_Games_5.json.gz’\n",
            "\n",
            "Video_Games_5.json. 100%[===================>] 146.91M  42.6MB/s    in 3.8s    \n",
            "\n",
            "2020-06-19 05:00:43 (38.2 MB/s) - ‘Video_Games_5.json.gz’ saved [154050105/154050105]\n",
            "\n"
          ],
          "name": "stdout"
        }
      ]
    },
    {
      "cell_type": "markdown",
      "metadata": {
        "id": "_JVmLTBvSbrm",
        "colab_type": "text"
      },
      "source": [
        "# Data Preprocessing"
      ]
    },
    {
      "cell_type": "code",
      "metadata": {
        "id": "txmZSSZ8l0L1",
        "colab_type": "code",
        "colab": {}
      },
      "source": [
        "df2 = pd.DataFrame.from_dict(data2)\n",
        "df2 = df2[[\"reviewerID\",\"asin\",\"reviewText\", \"summary\" ,\"overall\"]]\n",
        "df2.drop_duplicates(keep=False , inplace = True)\n",
        "df3 = pd.merge(df, df2, on=\"asin\", how='right')\n",
        "df4 = df3.groupby(\"asin\").agg({\"overall\":\"mean\", \"reviewerID\":\"count\"})\n",
        "df4[\"avg_rating\"]= df4.overall\n",
        "df4[\"Count\"]= df4.reviewerID\n",
        "df5 = pd.merge(df3, df4, on=\"asin\", how='inner')\n",
        "#df5 = df5[df5.Count >10]\n",
        "df5 = df5[[\"category\",\"title\",\"asin\",\"reviewerID_x\",\"overall_x\",\"reviewText\",\"summary\",\"avg_rating\",\"Count\",\"brand\",\"feature\",\"description\"]]\n",
        "df7 = df5.groupby(\"reviewerID_x\").agg({\"asin\":\"count\"})\n",
        "df7[\"user_count\"] = df7.asin\n",
        "df6 = pd.merge(df5, df7, on=\"reviewerID_x\", how='inner')\n",
        "del(df2,df3,df4,df5, data, data2)\n",
        "#df_final = df6[df6.user_count >10]\n",
        "df_final =df6\n",
        "asin_count =dict(zip(df6.asin_x,df6.Count))\n",
        "df_final2  =df_final.drop([\"reviewText\",\"summary\",\"feature\",\"description\",\"asin_y\",\"category\", \"brand\",\"user_count\",\"Count\",\"avg_rating\"], axis = 1)\n",
        "df_user_item = df_final2.drop_duplicates( )\n",
        "df_user_item2 = df_user_item.drop_duplicates(subset=[\"asin_x\",\"reviewerID_x\"])"
      ],
      "execution_count": null,
      "outputs": []
    },
    {
      "cell_type": "code",
      "metadata": {
        "id": "uTghh1EY2O1y",
        "colab_type": "code",
        "colab": {
          "base_uri": "https://localhost:8080/",
          "height": 221
        },
        "outputId": "111fa9ea-bed8-4426-acec-2b61e7008cab"
      },
      "source": [
        "df_user_item2[\"overall\"] = df_user_item2[\"overall_x\"].apply(lambda x : x+1 if x ==1 else x)\n",
        "df_user_item2[\"likes\"] = df_user_item2[\"overall_x\"].apply(lambda x : 0 if x<3.5 else 1)"
      ],
      "execution_count": null,
      "outputs": [
        {
          "output_type": "stream",
          "text": [
            "/usr/local/lib/python3.6/dist-packages/ipykernel_launcher.py:1: SettingWithCopyWarning: \n",
            "A value is trying to be set on a copy of a slice from a DataFrame.\n",
            "Try using .loc[row_indexer,col_indexer] = value instead\n",
            "\n",
            "See the caveats in the documentation: https://pandas.pydata.org/pandas-docs/stable/user_guide/indexing.html#returning-a-view-versus-a-copy\n",
            "  \"\"\"Entry point for launching an IPython kernel.\n",
            "/usr/local/lib/python3.6/dist-packages/ipykernel_launcher.py:2: SettingWithCopyWarning: \n",
            "A value is trying to be set on a copy of a slice from a DataFrame.\n",
            "Try using .loc[row_indexer,col_indexer] = value instead\n",
            "\n",
            "See the caveats in the documentation: https://pandas.pydata.org/pandas-docs/stable/user_guide/indexing.html#returning-a-view-versus-a-copy\n",
            "  \n"
          ],
          "name": "stderr"
        }
      ]
    },
    {
      "cell_type": "code",
      "metadata": {
        "id": "ENgTsLZV934v",
        "colab_type": "code",
        "colab": {}
      },
      "source": [
        ""
      ],
      "execution_count": null,
      "outputs": []
    },
    {
      "cell_type": "code",
      "metadata": {
        "id": "B6ZswXfWl0OP",
        "colab_type": "code",
        "colab": {}
      },
      "source": [
        "\n",
        "id_reviewer={}\n",
        "c=0\n",
        "for i in df_user_item2.reviewerID_x.unique():\n",
        "  id_reviewer[i]=c\n",
        "  c=c+1\n",
        "id_asin={}\n",
        "c=0\n",
        "for i in df_user_item2.asin_x.unique():\n",
        "  id_asin[i]=c\n",
        "  c=c+1"
      ],
      "execution_count": null,
      "outputs": []
    },
    {
      "cell_type": "code",
      "metadata": {
        "id": "Y5JNNjDFl0Qy",
        "colab_type": "code",
        "colab": {
          "base_uri": "https://localhost:8080/",
          "height": 221
        },
        "outputId": "16d52f26-e14a-4c8d-fe1f-0f1e17ea1e1c"
      },
      "source": [
        "df_user_item2[\"reviewer_Id\"] = df_user_item2[\"reviewerID_x\"].apply(lambda x: id_reviewer[x])\n",
        "df_user_item2[\"asin_Id\"] = df_user_item2[\"asin_x\"].apply(lambda x: id_asin[x])\n",
        "id_to_asin=dict(zip(df_user_item2[\"asin_Id\"],df_user_item2[\"asin_x\"]))\n",
        "id_to_title = dict(zip(df_user_item2[\"asin_Id\"],df_user_item2[\"title\"]))"
      ],
      "execution_count": null,
      "outputs": [
        {
          "output_type": "stream",
          "text": [
            "/usr/local/lib/python3.6/dist-packages/ipykernel_launcher.py:1: SettingWithCopyWarning: \n",
            "A value is trying to be set on a copy of a slice from a DataFrame.\n",
            "Try using .loc[row_indexer,col_indexer] = value instead\n",
            "\n",
            "See the caveats in the documentation: https://pandas.pydata.org/pandas-docs/stable/user_guide/indexing.html#returning-a-view-versus-a-copy\n",
            "  \"\"\"Entry point for launching an IPython kernel.\n",
            "/usr/local/lib/python3.6/dist-packages/ipykernel_launcher.py:2: SettingWithCopyWarning: \n",
            "A value is trying to be set on a copy of a slice from a DataFrame.\n",
            "Try using .loc[row_indexer,col_indexer] = value instead\n",
            "\n",
            "See the caveats in the documentation: https://pandas.pydata.org/pandas-docs/stable/user_guide/indexing.html#returning-a-view-versus-a-copy\n",
            "  \n"
          ],
          "name": "stderr"
        }
      ]
    },
    {
      "cell_type": "code",
      "metadata": {
        "id": "TYJ81J5i4ciJ",
        "colab_type": "code",
        "colab": {
          "base_uri": "https://localhost:8080/",
          "height": 102
        },
        "outputId": "277f1a0c-f32b-4c0c-ddf0-a37eed08e39d"
      },
      "source": [
        "df_user_item2.overall.value_counts()"
      ],
      "execution_count": null,
      "outputs": [
        {
          "output_type": "execute_result",
          "data": {
            "text/plain": [
              "5.0    273978\n",
              "4.0     83253\n",
              "2.0     48896\n",
              "3.0     43928\n",
              "Name: overall, dtype: int64"
            ]
          },
          "metadata": {
            "tags": []
          },
          "execution_count": 9
        }
      ]
    },
    {
      "cell_type": "code",
      "metadata": {
        "id": "wUUtkxl4l0TX",
        "colab_type": "code",
        "colab": {}
      },
      "source": [
        "\n",
        "ratings = tc.SFrame(data = df_user_item2)"
      ],
      "execution_count": null,
      "outputs": []
    },
    {
      "cell_type": "code",
      "metadata": {
        "id": "E3lh1fMHl0XZ",
        "colab_type": "code",
        "colab": {
          "base_uri": "https://localhost:8080/",
          "height": 347
        },
        "outputId": "9fa9d0eb-8791-4e04-c8c3-aea87aace728"
      },
      "source": [
        "ratings.head()"
      ],
      "execution_count": null,
      "outputs": [
        {
          "output_type": "execute_result",
          "data": {
            "text/html": [
              "<div style=\"max-height:1000px;max-width:1500px;overflow:auto;\"><table frame=\"box\" rules=\"cols\">\n",
              "    <tr>\n",
              "        <th style=\"padding-left: 1em; padding-right: 1em; text-align: center\">title</th>\n",
              "        <th style=\"padding-left: 1em; padding-right: 1em; text-align: center\">asin_x</th>\n",
              "        <th style=\"padding-left: 1em; padding-right: 1em; text-align: center\">reviewerID_x</th>\n",
              "        <th style=\"padding-left: 1em; padding-right: 1em; text-align: center\">overall_x</th>\n",
              "        <th style=\"padding-left: 1em; padding-right: 1em; text-align: center\">overall</th>\n",
              "        <th style=\"padding-left: 1em; padding-right: 1em; text-align: center\">likes</th>\n",
              "        <th style=\"padding-left: 1em; padding-right: 1em; text-align: center\">reviewer_Id</th>\n",
              "        <th style=\"padding-left: 1em; padding-right: 1em; text-align: center\">asin_Id</th>\n",
              "    </tr>\n",
              "    <tr>\n",
              "        <td style=\"padding-left: 1em; padding-right: 1em; text-align: center; vertical-align: top\">Anno 2070</td>\n",
              "        <td style=\"padding-left: 1em; padding-right: 1em; text-align: center; vertical-align: top\">0700026657</td>\n",
              "        <td style=\"padding-left: 1em; padding-right: 1em; text-align: center; vertical-align: top\">A1HP7NVNPFMA4N</td>\n",
              "        <td style=\"padding-left: 1em; padding-right: 1em; text-align: center; vertical-align: top\">5.0</td>\n",
              "        <td style=\"padding-left: 1em; padding-right: 1em; text-align: center; vertical-align: top\">5.0</td>\n",
              "        <td style=\"padding-left: 1em; padding-right: 1em; text-align: center; vertical-align: top\">1</td>\n",
              "        <td style=\"padding-left: 1em; padding-right: 1em; text-align: center; vertical-align: top\">0</td>\n",
              "        <td style=\"padding-left: 1em; padding-right: 1em; text-align: center; vertical-align: top\">0</td>\n",
              "    </tr>\n",
              "    <tr>\n",
              "        <td style=\"padding-left: 1em; padding-right: 1em; text-align: center; vertical-align: top\">Hexen</td>\n",
              "        <td style=\"padding-left: 1em; padding-right: 1em; text-align: center; vertical-align: top\">B00000JMWB</td>\n",
              "        <td style=\"padding-left: 1em; padding-right: 1em; text-align: center; vertical-align: top\">A1HP7NVNPFMA4N</td>\n",
              "        <td style=\"padding-left: 1em; padding-right: 1em; text-align: center; vertical-align: top\">5.0</td>\n",
              "        <td style=\"padding-left: 1em; padding-right: 1em; text-align: center; vertical-align: top\">5.0</td>\n",
              "        <td style=\"padding-left: 1em; padding-right: 1em; text-align: center; vertical-align: top\">1</td>\n",
              "        <td style=\"padding-left: 1em; padding-right: 1em; text-align: center; vertical-align: top\">0</td>\n",
              "        <td style=\"padding-left: 1em; padding-right: 1em; text-align: center; vertical-align: top\">1</td>\n",
              "    </tr>\n",
              "    <tr>\n",
              "        <td style=\"padding-left: 1em; padding-right: 1em; text-align: center; vertical-align: top\">Logitech Dual Action Game<br>Pad USB ...</td>\n",
              "        <td style=\"padding-left: 1em; padding-right: 1em; text-align: center; vertical-align: top\">B0000ALFCI</td>\n",
              "        <td style=\"padding-left: 1em; padding-right: 1em; text-align: center; vertical-align: top\">A1HP7NVNPFMA4N</td>\n",
              "        <td style=\"padding-left: 1em; padding-right: 1em; text-align: center; vertical-align: top\">2.0</td>\n",
              "        <td style=\"padding-left: 1em; padding-right: 1em; text-align: center; vertical-align: top\">2.0</td>\n",
              "        <td style=\"padding-left: 1em; padding-right: 1em; text-align: center; vertical-align: top\">0</td>\n",
              "        <td style=\"padding-left: 1em; padding-right: 1em; text-align: center; vertical-align: top\">0</td>\n",
              "        <td style=\"padding-left: 1em; padding-right: 1em; text-align: center; vertical-align: top\">2</td>\n",
              "    </tr>\n",
              "    <tr>\n",
              "        <td style=\"padding-left: 1em; padding-right: 1em; text-align: center; vertical-align: top\">Wii</td>\n",
              "        <td style=\"padding-left: 1em; padding-right: 1em; text-align: center; vertical-align: top\">B0009VXBAQ</td>\n",
              "        <td style=\"padding-left: 1em; padding-right: 1em; text-align: center; vertical-align: top\">A1HP7NVNPFMA4N</td>\n",
              "        <td style=\"padding-left: 1em; padding-right: 1em; text-align: center; vertical-align: top\">5.0</td>\n",
              "        <td style=\"padding-left: 1em; padding-right: 1em; text-align: center; vertical-align: top\">5.0</td>\n",
              "        <td style=\"padding-left: 1em; padding-right: 1em; text-align: center; vertical-align: top\">1</td>\n",
              "        <td style=\"padding-left: 1em; padding-right: 1em; text-align: center; vertical-align: top\">0</td>\n",
              "        <td style=\"padding-left: 1em; padding-right: 1em; text-align: center; vertical-align: top\">3</td>\n",
              "    </tr>\n",
              "    <tr>\n",
              "        <td style=\"padding-left: 1em; padding-right: 1em; text-align: center; vertical-align: top\">Mario &amp; Luigi: Partners<br>In Time ...</td>\n",
              "        <td style=\"padding-left: 1em; padding-right: 1em; text-align: center; vertical-align: top\">B000B8J7K0</td>\n",
              "        <td style=\"padding-left: 1em; padding-right: 1em; text-align: center; vertical-align: top\">A1HP7NVNPFMA4N</td>\n",
              "        <td style=\"padding-left: 1em; padding-right: 1em; text-align: center; vertical-align: top\">3.0</td>\n",
              "        <td style=\"padding-left: 1em; padding-right: 1em; text-align: center; vertical-align: top\">3.0</td>\n",
              "        <td style=\"padding-left: 1em; padding-right: 1em; text-align: center; vertical-align: top\">0</td>\n",
              "        <td style=\"padding-left: 1em; padding-right: 1em; text-align: center; vertical-align: top\">0</td>\n",
              "        <td style=\"padding-left: 1em; padding-right: 1em; text-align: center; vertical-align: top\">4</td>\n",
              "    </tr>\n",
              "    <tr>\n",
              "        <td style=\"padding-left: 1em; padding-right: 1em; text-align: center; vertical-align: top\">Super Mario Galaxy</td>\n",
              "        <td style=\"padding-left: 1em; padding-right: 1em; text-align: center; vertical-align: top\">B000FQ9QVI</td>\n",
              "        <td style=\"padding-left: 1em; padding-right: 1em; text-align: center; vertical-align: top\">A1HP7NVNPFMA4N</td>\n",
              "        <td style=\"padding-left: 1em; padding-right: 1em; text-align: center; vertical-align: top\">5.0</td>\n",
              "        <td style=\"padding-left: 1em; padding-right: 1em; text-align: center; vertical-align: top\">5.0</td>\n",
              "        <td style=\"padding-left: 1em; padding-right: 1em; text-align: center; vertical-align: top\">1</td>\n",
              "        <td style=\"padding-left: 1em; padding-right: 1em; text-align: center; vertical-align: top\">0</td>\n",
              "        <td style=\"padding-left: 1em; padding-right: 1em; text-align: center; vertical-align: top\">5</td>\n",
              "    </tr>\n",
              "    <tr>\n",
              "        <td style=\"padding-left: 1em; padding-right: 1em; text-align: center; vertical-align: top\">Age Of Mythology:  Titans<br>- PC ...</td>\n",
              "        <td style=\"padding-left: 1em; padding-right: 1em; text-align: center; vertical-align: top\">B000P5BSUQ</td>\n",
              "        <td style=\"padding-left: 1em; padding-right: 1em; text-align: center; vertical-align: top\">A1HP7NVNPFMA4N</td>\n",
              "        <td style=\"padding-left: 1em; padding-right: 1em; text-align: center; vertical-align: top\">5.0</td>\n",
              "        <td style=\"padding-left: 1em; padding-right: 1em; text-align: center; vertical-align: top\">5.0</td>\n",
              "        <td style=\"padding-left: 1em; padding-right: 1em; text-align: center; vertical-align: top\">1</td>\n",
              "        <td style=\"padding-left: 1em; padding-right: 1em; text-align: center; vertical-align: top\">0</td>\n",
              "        <td style=\"padding-left: 1em; padding-right: 1em; text-align: center; vertical-align: top\">6</td>\n",
              "    </tr>\n",
              "    <tr>\n",
              "        <td style=\"padding-left: 1em; padding-right: 1em; text-align: center; vertical-align: top\">var aPageStart = (new<br>Date()).getTime();\\nvar ...</td>\n",
              "        <td style=\"padding-left: 1em; padding-right: 1em; text-align: center; vertical-align: top\">B0018QOWEU</td>\n",
              "        <td style=\"padding-left: 1em; padding-right: 1em; text-align: center; vertical-align: top\">A1HP7NVNPFMA4N</td>\n",
              "        <td style=\"padding-left: 1em; padding-right: 1em; text-align: center; vertical-align: top\">5.0</td>\n",
              "        <td style=\"padding-left: 1em; padding-right: 1em; text-align: center; vertical-align: top\">5.0</td>\n",
              "        <td style=\"padding-left: 1em; padding-right: 1em; text-align: center; vertical-align: top\">1</td>\n",
              "        <td style=\"padding-left: 1em; padding-right: 1em; text-align: center; vertical-align: top\">0</td>\n",
              "        <td style=\"padding-left: 1em; padding-right: 1em; text-align: center; vertical-align: top\">7</td>\n",
              "    </tr>\n",
              "    <tr>\n",
              "        <td style=\"padding-left: 1em; padding-right: 1em; text-align: center; vertical-align: top\">var aPageStart = (new<br>Date()).getTime();\\nvar ...</td>\n",
              "        <td style=\"padding-left: 1em; padding-right: 1em; text-align: center; vertical-align: top\">B0019R3O7E</td>\n",
              "        <td style=\"padding-left: 1em; padding-right: 1em; text-align: center; vertical-align: top\">A1HP7NVNPFMA4N</td>\n",
              "        <td style=\"padding-left: 1em; padding-right: 1em; text-align: center; vertical-align: top\">5.0</td>\n",
              "        <td style=\"padding-left: 1em; padding-right: 1em; text-align: center; vertical-align: top\">5.0</td>\n",
              "        <td style=\"padding-left: 1em; padding-right: 1em; text-align: center; vertical-align: top\">1</td>\n",
              "        <td style=\"padding-left: 1em; padding-right: 1em; text-align: center; vertical-align: top\">0</td>\n",
              "        <td style=\"padding-left: 1em; padding-right: 1em; text-align: center; vertical-align: top\">8</td>\n",
              "    </tr>\n",
              "    <tr>\n",
              "        <td style=\"padding-left: 1em; padding-right: 1em; text-align: center; vertical-align: top\">MySims Kingdom - Nintendo<br>Wii ...</td>\n",
              "        <td style=\"padding-left: 1em; padding-right: 1em; text-align: center; vertical-align: top\">B0019R4VCQ</td>\n",
              "        <td style=\"padding-left: 1em; padding-right: 1em; text-align: center; vertical-align: top\">A1HP7NVNPFMA4N</td>\n",
              "        <td style=\"padding-left: 1em; padding-right: 1em; text-align: center; vertical-align: top\">5.0</td>\n",
              "        <td style=\"padding-left: 1em; padding-right: 1em; text-align: center; vertical-align: top\">5.0</td>\n",
              "        <td style=\"padding-left: 1em; padding-right: 1em; text-align: center; vertical-align: top\">1</td>\n",
              "        <td style=\"padding-left: 1em; padding-right: 1em; text-align: center; vertical-align: top\">0</td>\n",
              "        <td style=\"padding-left: 1em; padding-right: 1em; text-align: center; vertical-align: top\">9</td>\n",
              "    </tr>\n",
              "</table>\n",
              "[10 rows x 8 columns]<br/>\n",
              "</div>"
            ],
            "text/plain": [
              "Columns:\n",
              "\ttitle\tstr\n",
              "\tasin_x\tstr\n",
              "\treviewerID_x\tstr\n",
              "\toverall_x\tfloat\n",
              "\toverall\tfloat\n",
              "\tlikes\tint\n",
              "\treviewer_Id\tint\n",
              "\tasin_Id\tint\n",
              "\n",
              "Rows: 10\n",
              "\n",
              "Data:\n",
              "+--------------------------------+------------+----------------+-----------+---------+\n",
              "|             title              |   asin_x   |  reviewerID_x  | overall_x | overall |\n",
              "+--------------------------------+------------+----------------+-----------+---------+\n",
              "|           Anno 2070            | 0700026657 | A1HP7NVNPFMA4N |    5.0    |   5.0   |\n",
              "|             Hexen              | B00000JMWB | A1HP7NVNPFMA4N |    5.0    |   5.0   |\n",
              "| Logitech Dual Action Game ...  | B0000ALFCI | A1HP7NVNPFMA4N |    2.0    |   2.0   |\n",
              "|              Wii               | B0009VXBAQ | A1HP7NVNPFMA4N |    5.0    |   5.0   |\n",
              "| Mario & Luigi: Partners In...  | B000B8J7K0 | A1HP7NVNPFMA4N |    3.0    |   3.0   |\n",
              "|       Super Mario Galaxy       | B000FQ9QVI | A1HP7NVNPFMA4N |    5.0    |   5.0   |\n",
              "| Age Of Mythology:  Titans - PC | B000P5BSUQ | A1HP7NVNPFMA4N |    5.0    |   5.0   |\n",
              "| var aPageStart = (new Date...  | B0018QOWEU | A1HP7NVNPFMA4N |    5.0    |   5.0   |\n",
              "| var aPageStart = (new Date...  | B0019R3O7E | A1HP7NVNPFMA4N |    5.0    |   5.0   |\n",
              "| MySims Kingdom - Nintendo Wii  | B0019R4VCQ | A1HP7NVNPFMA4N |    5.0    |   5.0   |\n",
              "+--------------------------------+------------+----------------+-----------+---------+\n",
              "+-------+-------------+---------+\n",
              "| likes | reviewer_Id | asin_Id |\n",
              "+-------+-------------+---------+\n",
              "|   1   |      0      |    0    |\n",
              "|   1   |      0      |    1    |\n",
              "|   0   |      0      |    2    |\n",
              "|   1   |      0      |    3    |\n",
              "|   0   |      0      |    4    |\n",
              "|   1   |      0      |    5    |\n",
              "|   1   |      0      |    6    |\n",
              "|   1   |      0      |    7    |\n",
              "|   1   |      0      |    8    |\n",
              "|   1   |      0      |    9    |\n",
              "+-------+-------------+---------+\n",
              "[10 rows x 8 columns]"
            ]
          },
          "metadata": {
            "tags": []
          },
          "execution_count": 11
        }
      ]
    },
    {
      "cell_type": "markdown",
      "metadata": {
        "id": "7yTLBqCQShgJ",
        "colab_type": "text"
      },
      "source": [
        "# Modelling"
      ]
    },
    {
      "cell_type": "code",
      "metadata": {
        "id": "739XL1zRl0V2",
        "colab_type": "code",
        "colab": {}
      },
      "source": [
        "training_data, validation_data = tc.recommender.util.random_split_by_user(ratings, 'reviewer_Id', 'asin_Id',item_test_proportion=0.1,max_num_users=2000, )"
      ],
      "execution_count": null,
      "outputs": []
    },
    {
      "cell_type": "code",
      "metadata": {
        "id": "K40D4r5_34lI",
        "colab_type": "code",
        "colab": {
          "base_uri": "https://localhost:8080/",
          "height": 1000
        },
        "outputId": "cde4d8c1-48e8-4543-f50e-ba8e70d81830"
      },
      "source": [
        "model = tc.recommender.ranking_factorization_recommender.create(training_data, user_id='reviewer_Id',item_id='asin_Id',target='likes', binary_target=True )\n"
      ],
      "execution_count": null,
      "outputs": [
        {
          "output_type": "display_data",
          "data": {
            "text/html": [
              "<pre>Preparing data set.</pre>"
            ],
            "text/plain": [
              "Preparing data set."
            ]
          },
          "metadata": {
            "tags": []
          }
        },
        {
          "output_type": "display_data",
          "data": {
            "text/html": [
              "<pre>    Data has 448427 observations with 55175 users and 17340 items.</pre>"
            ],
            "text/plain": [
              "    Data has 448427 observations with 55175 users and 17340 items."
            ]
          },
          "metadata": {
            "tags": []
          }
        },
        {
          "output_type": "display_data",
          "data": {
            "text/html": [
              "<pre>    Data prepared in: 2.24137s</pre>"
            ],
            "text/plain": [
              "    Data prepared in: 2.24137s"
            ]
          },
          "metadata": {
            "tags": []
          }
        },
        {
          "output_type": "display_data",
          "data": {
            "text/html": [
              "<pre>Training ranking_factorization_recommender for recommendations.</pre>"
            ],
            "text/plain": [
              "Training ranking_factorization_recommender for recommendations."
            ]
          },
          "metadata": {
            "tags": []
          }
        },
        {
          "output_type": "display_data",
          "data": {
            "text/html": [
              "<pre>+--------------------------------+--------------------------------------------------+----------+</pre>"
            ],
            "text/plain": [
              "+--------------------------------+--------------------------------------------------+----------+"
            ]
          },
          "metadata": {
            "tags": []
          }
        },
        {
          "output_type": "display_data",
          "data": {
            "text/html": [
              "<pre>| Parameter                      | Description                                      | Value    |</pre>"
            ],
            "text/plain": [
              "| Parameter                      | Description                                      | Value    |"
            ]
          },
          "metadata": {
            "tags": []
          }
        },
        {
          "output_type": "display_data",
          "data": {
            "text/html": [
              "<pre>+--------------------------------+--------------------------------------------------+----------+</pre>"
            ],
            "text/plain": [
              "+--------------------------------+--------------------------------------------------+----------+"
            ]
          },
          "metadata": {
            "tags": []
          }
        },
        {
          "output_type": "display_data",
          "data": {
            "text/html": [
              "<pre>| num_factors                    | Factor Dimension                                 | 32       |</pre>"
            ],
            "text/plain": [
              "| num_factors                    | Factor Dimension                                 | 32       |"
            ]
          },
          "metadata": {
            "tags": []
          }
        },
        {
          "output_type": "display_data",
          "data": {
            "text/html": [
              "<pre>| regularization                 | L2 Regularization on Factors                     | 1e-09    |</pre>"
            ],
            "text/plain": [
              "| regularization                 | L2 Regularization on Factors                     | 1e-09    |"
            ]
          },
          "metadata": {
            "tags": []
          }
        },
        {
          "output_type": "display_data",
          "data": {
            "text/html": [
              "<pre>| solver                         | Solver used for training                         | adagrad  |</pre>"
            ],
            "text/plain": [
              "| solver                         | Solver used for training                         | adagrad  |"
            ]
          },
          "metadata": {
            "tags": []
          }
        },
        {
          "output_type": "display_data",
          "data": {
            "text/html": [
              "<pre>| linear_regularization          | L2 Regularization on Linear Coefficients         | 1e-09    |</pre>"
            ],
            "text/plain": [
              "| linear_regularization          | L2 Regularization on Linear Coefficients         | 1e-09    |"
            ]
          },
          "metadata": {
            "tags": []
          }
        },
        {
          "output_type": "display_data",
          "data": {
            "text/html": [
              "<pre>| ranking_regularization         | Rank-based Regularization Weight                 | 0.25     |</pre>"
            ],
            "text/plain": [
              "| ranking_regularization         | Rank-based Regularization Weight                 | 0.25     |"
            ]
          },
          "metadata": {
            "tags": []
          }
        },
        {
          "output_type": "display_data",
          "data": {
            "text/html": [
              "<pre>| binary_target                  | Assume Binary Targets                            | True     |</pre>"
            ],
            "text/plain": [
              "| binary_target                  | Assume Binary Targets                            | True     |"
            ]
          },
          "metadata": {
            "tags": []
          }
        },
        {
          "output_type": "display_data",
          "data": {
            "text/html": [
              "<pre>| max_iterations                 | Maximum Number of Iterations                     | 25       |</pre>"
            ],
            "text/plain": [
              "| max_iterations                 | Maximum Number of Iterations                     | 25       |"
            ]
          },
          "metadata": {
            "tags": []
          }
        },
        {
          "output_type": "display_data",
          "data": {
            "text/html": [
              "<pre>+--------------------------------+--------------------------------------------------+----------+</pre>"
            ],
            "text/plain": [
              "+--------------------------------+--------------------------------------------------+----------+"
            ]
          },
          "metadata": {
            "tags": []
          }
        },
        {
          "output_type": "display_data",
          "data": {
            "text/html": [
              "<pre>  Optimizing model using SGD; tuning step size.</pre>"
            ],
            "text/plain": [
              "  Optimizing model using SGD; tuning step size."
            ]
          },
          "metadata": {
            "tags": []
          }
        },
        {
          "output_type": "display_data",
          "data": {
            "text/html": [
              "<pre>  Using 56053 / 448427 points for tuning the step size.</pre>"
            ],
            "text/plain": [
              "  Using 56053 / 448427 points for tuning the step size."
            ]
          },
          "metadata": {
            "tags": []
          }
        },
        {
          "output_type": "display_data",
          "data": {
            "text/html": [
              "<pre>+---------+-------------------+------------------------------------------+</pre>"
            ],
            "text/plain": [
              "+---------+-------------------+------------------------------------------+"
            ]
          },
          "metadata": {
            "tags": []
          }
        },
        {
          "output_type": "display_data",
          "data": {
            "text/html": [
              "<pre>| Attempt | Initial Step Size | Estimated Objective Value                |</pre>"
            ],
            "text/plain": [
              "| Attempt | Initial Step Size | Estimated Objective Value                |"
            ]
          },
          "metadata": {
            "tags": []
          }
        },
        {
          "output_type": "display_data",
          "data": {
            "text/html": [
              "<pre>+---------+-------------------+------------------------------------------+</pre>"
            ],
            "text/plain": [
              "+---------+-------------------+------------------------------------------+"
            ]
          },
          "metadata": {
            "tags": []
          }
        },
        {
          "output_type": "display_data",
          "data": {
            "text/html": [
              "<pre>| 0       | 7.14286           | Not Viable                               |</pre>"
            ],
            "text/plain": [
              "| 0       | 7.14286           | Not Viable                               |"
            ]
          },
          "metadata": {
            "tags": []
          }
        },
        {
          "output_type": "display_data",
          "data": {
            "text/html": [
              "<pre>| 1       | 1.78571           | Not Viable                               |</pre>"
            ],
            "text/plain": [
              "| 1       | 1.78571           | Not Viable                               |"
            ]
          },
          "metadata": {
            "tags": []
          }
        },
        {
          "output_type": "display_data",
          "data": {
            "text/html": [
              "<pre>| 2       | 0.446429          | Not Viable                               |</pre>"
            ],
            "text/plain": [
              "| 2       | 0.446429          | Not Viable                               |"
            ]
          },
          "metadata": {
            "tags": []
          }
        },
        {
          "output_type": "display_data",
          "data": {
            "text/html": [
              "<pre>| 3       | 0.111607          | Not Viable                               |</pre>"
            ],
            "text/plain": [
              "| 3       | 0.111607          | Not Viable                               |"
            ]
          },
          "metadata": {
            "tags": []
          }
        },
        {
          "output_type": "display_data",
          "data": {
            "text/html": [
              "<pre>| 4       | 0.0279018         | Not Viable                               |</pre>"
            ],
            "text/plain": [
              "| 4       | 0.0279018         | Not Viable                               |"
            ]
          },
          "metadata": {
            "tags": []
          }
        },
        {
          "output_type": "display_data",
          "data": {
            "text/html": [
              "<pre>| 5       | 0.00697545        | Not Viable                               |</pre>"
            ],
            "text/plain": [
              "| 5       | 0.00697545        | Not Viable                               |"
            ]
          },
          "metadata": {
            "tags": []
          }
        },
        {
          "output_type": "display_data",
          "data": {
            "text/html": [
              "<pre>| 6       | 0.00174386        | Not Viable                               |</pre>"
            ],
            "text/plain": [
              "| 6       | 0.00174386        | Not Viable                               |"
            ]
          },
          "metadata": {
            "tags": []
          }
        },
        {
          "output_type": "display_data",
          "data": {
            "text/html": [
              "<pre>| 7       | 0.000435965       | No Decrease (4.18936 >= 1.70409)         |</pre>"
            ],
            "text/plain": [
              "| 7       | 0.000435965       | No Decrease (4.18936 >= 1.70409)         |"
            ]
          },
          "metadata": {
            "tags": []
          }
        },
        {
          "output_type": "display_data",
          "data": {
            "text/html": [
              "<pre>| 8       | 0.000108991       | No Decrease (1.77742 >= 1.70409)         |</pre>"
            ],
            "text/plain": [
              "| 8       | 0.000108991       | No Decrease (1.77742 >= 1.70409)         |"
            ]
          },
          "metadata": {
            "tags": []
          }
        },
        {
          "output_type": "display_data",
          "data": {
            "text/html": [
              "<pre>| 9       | 2.72478e-05       | 1.69702                                  |</pre>"
            ],
            "text/plain": [
              "| 9       | 2.72478e-05       | 1.69702                                  |"
            ]
          },
          "metadata": {
            "tags": []
          }
        },
        {
          "output_type": "display_data",
          "data": {
            "text/html": [
              "<pre>| 10      | 1.36239e-05       | 1.69848                                  |</pre>"
            ],
            "text/plain": [
              "| 10      | 1.36239e-05       | 1.69848                                  |"
            ]
          },
          "metadata": {
            "tags": []
          }
        },
        {
          "output_type": "display_data",
          "data": {
            "text/html": [
              "<pre>| 11      | 6.81196e-06       | 1.70076                                  |</pre>"
            ],
            "text/plain": [
              "| 11      | 6.81196e-06       | 1.70076                                  |"
            ]
          },
          "metadata": {
            "tags": []
          }
        },
        {
          "output_type": "display_data",
          "data": {
            "text/html": [
              "<pre>| 12      | 3.40598e-06       | 1.70229                                  |</pre>"
            ],
            "text/plain": [
              "| 12      | 3.40598e-06       | 1.70229                                  |"
            ]
          },
          "metadata": {
            "tags": []
          }
        },
        {
          "output_type": "display_data",
          "data": {
            "text/html": [
              "<pre>+---------+-------------------+------------------------------------------+</pre>"
            ],
            "text/plain": [
              "+---------+-------------------+------------------------------------------+"
            ]
          },
          "metadata": {
            "tags": []
          }
        },
        {
          "output_type": "display_data",
          "data": {
            "text/html": [
              "<pre>| Final   | 2.72478e-05       | 1.69702                                  |</pre>"
            ],
            "text/plain": [
              "| Final   | 2.72478e-05       | 1.69702                                  |"
            ]
          },
          "metadata": {
            "tags": []
          }
        },
        {
          "output_type": "display_data",
          "data": {
            "text/html": [
              "<pre>+---------+-------------------+------------------------------------------+</pre>"
            ],
            "text/plain": [
              "+---------+-------------------+------------------------------------------+"
            ]
          },
          "metadata": {
            "tags": []
          }
        },
        {
          "output_type": "display_data",
          "data": {
            "text/html": [
              "<pre>Starting Optimization.</pre>"
            ],
            "text/plain": [
              "Starting Optimization."
            ]
          },
          "metadata": {
            "tags": []
          }
        },
        {
          "output_type": "display_data",
          "data": {
            "text/html": [
              "<pre>+---------+--------------+-------------------+-----------------------------------+-------------+</pre>"
            ],
            "text/plain": [
              "+---------+--------------+-------------------+-----------------------------------+-------------+"
            ]
          },
          "metadata": {
            "tags": []
          }
        },
        {
          "output_type": "display_data",
          "data": {
            "text/html": [
              "<pre>| Iter.   | Elapsed Time | Approx. Objective | Approx. Training Predictive Error | Step Size   |</pre>"
            ],
            "text/plain": [
              "| Iter.   | Elapsed Time | Approx. Objective | Approx. Training Predictive Error | Step Size   |"
            ]
          },
          "metadata": {
            "tags": []
          }
        },
        {
          "output_type": "display_data",
          "data": {
            "text/html": [
              "<pre>+---------+--------------+-------------------+-----------------------------------+-------------+</pre>"
            ],
            "text/plain": [
              "+---------+--------------+-------------------+-----------------------------------+-------------+"
            ]
          },
          "metadata": {
            "tags": []
          }
        },
        {
          "output_type": "display_data",
          "data": {
            "text/html": [
              "<pre>| Initial | 122us        | 1.70369           | 0.53674                           |             |</pre>"
            ],
            "text/plain": [
              "| Initial | 122us        | 1.70369           | 0.53674                           |             |"
            ]
          },
          "metadata": {
            "tags": []
          }
        },
        {
          "output_type": "display_data",
          "data": {
            "text/html": [
              "<pre>+---------+--------------+-------------------+-----------------------------------+-------------+</pre>"
            ],
            "text/plain": [
              "+---------+--------------+-------------------+-----------------------------------+-------------+"
            ]
          },
          "metadata": {
            "tags": []
          }
        },
        {
          "output_type": "display_data",
          "data": {
            "text/html": [
              "<pre>| 1       | 2.64s        | 1.69755           | 0.533076                          | 2.72478e-05 |</pre>"
            ],
            "text/plain": [
              "| 1       | 2.64s        | 1.69755           | 0.533076                          | 2.72478e-05 |"
            ]
          },
          "metadata": {
            "tags": []
          }
        },
        {
          "output_type": "display_data",
          "data": {
            "text/html": [
              "<pre>| 2       | 5.24s        | 1.69975           | 0.532538                          | 2.72478e-05 |</pre>"
            ],
            "text/plain": [
              "| 2       | 5.24s        | 1.69975           | 0.532538                          | 2.72478e-05 |"
            ]
          },
          "metadata": {
            "tags": []
          }
        },
        {
          "output_type": "display_data",
          "data": {
            "text/html": [
              "<pre>| 3       | 7.86s        | 1.70575           | 0.533713                          | 2.72478e-05 |</pre>"
            ],
            "text/plain": [
              "| 3       | 7.86s        | 1.70575           | 0.533713                          | 2.72478e-05 |"
            ]
          },
          "metadata": {
            "tags": []
          }
        },
        {
          "output_type": "display_data",
          "data": {
            "text/html": [
              "<pre>| 4       | 10.45s       | 1.71288           | 0.535447                          | 2.72478e-05 |</pre>"
            ],
            "text/plain": [
              "| 4       | 10.45s       | 1.71288           | 0.535447                          | 2.72478e-05 |"
            ]
          },
          "metadata": {
            "tags": []
          }
        },
        {
          "output_type": "display_data",
          "data": {
            "text/html": [
              "<pre>| 5       | 13.07s       | 1.72171           | 0.537831                          | 2.72478e-05 |</pre>"
            ],
            "text/plain": [
              "| 5       | 13.07s       | 1.72171           | 0.537831                          | 2.72478e-05 |"
            ]
          },
          "metadata": {
            "tags": []
          }
        },
        {
          "output_type": "display_data",
          "data": {
            "text/html": [
              "<pre>| 8       | 21.90s       | DIVERGED          | DIVERGED                          | 2.72478e-05 |</pre>"
            ],
            "text/plain": [
              "| 8       | 21.90s       | DIVERGED          | DIVERGED                          | 2.72478e-05 |"
            ]
          },
          "metadata": {
            "tags": []
          }
        },
        {
          "output_type": "display_data",
          "data": {
            "text/html": [
              "<pre>| RESET   | 23.03s       | 1.70357           | 0.536606                          |             |</pre>"
            ],
            "text/plain": [
              "| RESET   | 23.03s       | 1.70357           | 0.536606                          |             |"
            ]
          },
          "metadata": {
            "tags": []
          }
        },
        {
          "output_type": "display_data",
          "data": {
            "text/html": [
              "<pre>| 2       | 28.28s       | 1.69693           | 0.532918                          | 1.36239e-05 |</pre>"
            ],
            "text/plain": [
              "| 2       | 28.28s       | 1.69693           | 0.532918                          | 1.36239e-05 |"
            ]
          },
          "metadata": {
            "tags": []
          }
        },
        {
          "output_type": "display_data",
          "data": {
            "text/html": [
              "<pre>| 7       | 41.27s       | 1.70116           | 0.532687                          | 1.36239e-05 |</pre>"
            ],
            "text/plain": [
              "| 7       | 41.27s       | 1.70116           | 0.532687                          | 1.36239e-05 |"
            ]
          },
          "metadata": {
            "tags": []
          }
        },
        {
          "output_type": "display_data",
          "data": {
            "text/html": [
              "<pre>| 12      | 54.22s       | 1.71259           | 0.534745                          | 1.36239e-05 |</pre>"
            ],
            "text/plain": [
              "| 12      | 54.22s       | 1.71259           | 0.534745                          | 1.36239e-05 |"
            ]
          },
          "metadata": {
            "tags": []
          }
        },
        {
          "output_type": "display_data",
          "data": {
            "text/html": [
              "<pre>| 14      | 1m 0s        | DIVERGED          | DIVERGED                          | 1.36239e-05 |</pre>"
            ],
            "text/plain": [
              "| 14      | 1m 0s        | DIVERGED          | DIVERGED                          | 1.36239e-05 |"
            ]
          },
          "metadata": {
            "tags": []
          }
        },
        {
          "output_type": "display_data",
          "data": {
            "text/html": [
              "<pre>| RESET   | 1m 1s        | 1.70398           | 0.53702                           |             |</pre>"
            ],
            "text/plain": [
              "| RESET   | 1m 1s        | 1.70398           | 0.53702                           |             |"
            ]
          },
          "metadata": {
            "tags": []
          }
        },
        {
          "output_type": "display_data",
          "data": {
            "text/html": [
              "<pre>| 3       | 1m 9s        | 1.69849           | 0.534115                          | 6.81196e-06 |</pre>"
            ],
            "text/plain": [
              "| 3       | 1m 9s        | 1.69849           | 0.534115                          | 6.81196e-06 |"
            ]
          },
          "metadata": {
            "tags": []
          }
        },
        {
          "output_type": "display_data",
          "data": {
            "text/html": [
              "<pre>| 8       | 1m 22s       | 1.69725           | 0.532857                          | 6.81196e-06 |</pre>"
            ],
            "text/plain": [
              "| 8       | 1m 22s       | 1.69725           | 0.532857                          | 6.81196e-06 |"
            ]
          },
          "metadata": {
            "tags": []
          }
        },
        {
          "output_type": "display_data",
          "data": {
            "text/html": [
              "<pre>+---------+--------------+-------------------+-----------------------------------+-------------+</pre>"
            ],
            "text/plain": [
              "+---------+--------------+-------------------+-----------------------------------+-------------+"
            ]
          },
          "metadata": {
            "tags": []
          }
        },
        {
          "output_type": "display_data",
          "data": {
            "text/html": [
              "<pre>Optimization Complete: Maximum number of passes through the data reached (hard limit).</pre>"
            ],
            "text/plain": [
              "Optimization Complete: Maximum number of passes through the data reached (hard limit)."
            ]
          },
          "metadata": {
            "tags": []
          }
        },
        {
          "output_type": "display_data",
          "data": {
            "text/html": [
              "<pre>Computing final objective value and training Predictive Error.</pre>"
            ],
            "text/plain": [
              "Computing final objective value and training Predictive Error."
            ]
          },
          "metadata": {
            "tags": []
          }
        },
        {
          "output_type": "display_data",
          "data": {
            "text/html": [
              "<pre>       Final objective value: 1.69723</pre>"
            ],
            "text/plain": [
              "       Final objective value: 1.69723"
            ]
          },
          "metadata": {
            "tags": []
          }
        },
        {
          "output_type": "display_data",
          "data": {
            "text/html": [
              "<pre>       Final training Predictive Error: 0.532748</pre>"
            ],
            "text/plain": [
              "       Final training Predictive Error: 0.532748"
            ]
          },
          "metadata": {
            "tags": []
          }
        }
      ]
    },
    {
      "cell_type": "code",
      "metadata": {
        "id": "ZQskIAuh34n4",
        "colab_type": "code",
        "colab": {
          "base_uri": "https://localhost:8080/",
          "height": 1000
        },
        "outputId": "c7d6cb36-9aec-4f4f-9c47-4ead38a524bb"
      },
      "source": [
        "model.evaluate(validation_data)"
      ],
      "execution_count": null,
      "outputs": [
        {
          "output_type": "stream",
          "text": [
            "\n",
            "Precision and recall summary statistics by cutoff\n",
            "+--------+-----------------------+-----------------------+\n",
            "| cutoff |     mean_precision    |      mean_recall      |\n",
            "+--------+-----------------------+-----------------------+\n",
            "|   1    | 0.0010373443983402492 | 0.0003457814661134163 |\n",
            "|   2    | 0.0015560165975103733 | 0.0017289073305670815 |\n",
            "|   3    | 0.0013831258644536651 | 0.0027662517289073307 |\n",
            "|   4    | 0.0015560165975103731 | 0.0038035961272475808 |\n",
            "|   5    | 0.0016597510373443976 |  0.004989132582493579 |\n",
            "|   6    | 0.0017289073305670822 | 0.0054831061055127415 |\n",
            "|   7    | 0.0017783046828689978 |  0.007039122703023119 |\n",
            "|   8    |  0.001685684647302905 |  0.007557794902193244 |\n",
            "|   9    |  0.001498386353158138 |  0.007557794902193243 |\n",
            "|   10   | 0.0015560165975103738 |  0.008191727590067836 |\n",
            "+--------+-----------------------+-----------------------+\n",
            "[10 rows x 3 columns]\n",
            "\n",
            "\n",
            "Overall RMSE: 0.40882339813172425\n",
            "\n",
            "Per User RMSE (best)\n",
            "+-------------+--------------------+-------+\n",
            "| reviewer_Id |        rmse        | count |\n",
            "+-------------+--------------------+-------+\n",
            "|    23336    | 0.3094753168440715 |   1   |\n",
            "+-------------+--------------------+-------+\n",
            "[1 rows x 3 columns]\n",
            "\n",
            "\n",
            "Per User RMSE (worst)\n",
            "+-------------+--------------------+-------+\n",
            "| reviewer_Id |        rmse        | count |\n",
            "+-------------+--------------------+-------+\n",
            "|     7216    | 0.6845645146054762 |   1   |\n",
            "+-------------+--------------------+-------+\n",
            "[1 rows x 3 columns]\n",
            "\n",
            "\n",
            "Per Item RMSE (best)\n",
            "+---------+--------------------+-------+\n",
            "| asin_Id |        rmse        | count |\n",
            "+---------+--------------------+-------+\n",
            "|  11188  | 0.3094291205319881 |   1   |\n",
            "+---------+--------------------+-------+\n",
            "[1 rows x 3 columns]\n",
            "\n",
            "\n",
            "Per Item RMSE (worst)\n",
            "+---------+--------------------+-------+\n",
            "| asin_Id |        rmse        | count |\n",
            "+---------+--------------------+-------+\n",
            "|   5581  | 0.6845645146054762 |   1   |\n",
            "+---------+--------------------+-------+\n",
            "[1 rows x 3 columns]\n",
            "\n"
          ],
          "name": "stdout"
        },
        {
          "output_type": "execute_result",
          "data": {
            "text/plain": [
              "{'precision_recall_by_user': Columns:\n",
              " \treviewer_Id\tint\n",
              " \tcutoff\tint\n",
              " \tprecision\tfloat\n",
              " \trecall\tfloat\n",
              " \tcount\tint\n",
              " \n",
              " Rows: 17352\n",
              " \n",
              " Data:\n",
              " +-------------+--------+-----------+--------+-------+\n",
              " | reviewer_Id | cutoff | precision | recall | count |\n",
              " +-------------+--------+-----------+--------+-------+\n",
              " |      41     |   1    |    0.0    |  0.0   |   5   |\n",
              " |      41     |   2    |    0.0    |  0.0   |   5   |\n",
              " |      41     |   3    |    0.0    |  0.0   |   5   |\n",
              " |      41     |   4    |    0.0    |  0.0   |   5   |\n",
              " |      41     |   5    |    0.0    |  0.0   |   5   |\n",
              " |      41     |   6    |    0.0    |  0.0   |   5   |\n",
              " |      41     |   7    |    0.0    |  0.0   |   5   |\n",
              " |      41     |   8    |    0.0    |  0.0   |   5   |\n",
              " |      41     |   9    |    0.0    |  0.0   |   5   |\n",
              " |      41     |   10   |    0.0    |  0.0   |   5   |\n",
              " +-------------+--------+-----------+--------+-------+\n",
              " [17352 rows x 5 columns]\n",
              " Note: Only the head of the SFrame is printed.\n",
              " You can use print_rows(num_rows=m, num_columns=n) to print more rows and columns.,\n",
              " 'precision_recall_overall': Columns:\n",
              " \tcutoff\tint\n",
              " \tprecision\tfloat\n",
              " \trecall\tfloat\n",
              " \n",
              " Rows: 18\n",
              " \n",
              " Data:\n",
              " +--------+-----------------------+-----------------------+\n",
              " | cutoff |       precision       |         recall        |\n",
              " +--------+-----------------------+-----------------------+\n",
              " |   1    | 0.0010373443983402492 | 0.0003457814661134163 |\n",
              " |   2    | 0.0015560165975103733 | 0.0017289073305670813 |\n",
              " |   3    |  0.001383125864453665 |  0.002766251728907331 |\n",
              " |   4    |  0.001556016597510374 | 0.0038035961272475803 |\n",
              " |   5    | 0.0016597510373443976 |  0.004989132582493578 |\n",
              " |   6    | 0.0017289073305670815 |  0.005483106105512742 |\n",
              " |   7    |  0.001778304682868998 |  0.007039122703023116 |\n",
              " |   8    |  0.001685684647302905 | 0.0075577949021932425 |\n",
              " |   9    | 0.0014983863531581373 |  0.007557794902193244 |\n",
              " |   10   | 0.0015560165975103731 |  0.008191727590067836 |\n",
              " +--------+-----------------------+-----------------------+\n",
              " [18 rows x 3 columns]\n",
              " Note: Only the head of the SFrame is printed.\n",
              " You can use print_rows(num_rows=m, num_columns=n) to print more rows and columns.,\n",
              " 'rmse_by_item': Columns:\n",
              " \tasin_Id\tint\n",
              " \trmse\tfloat\n",
              " \tcount\tint\n",
              " \n",
              " Rows: 1378\n",
              " \n",
              " Data:\n",
              " +---------+---------------------+-------+\n",
              " | asin_Id |         rmse        | count |\n",
              " +---------+---------------------+-------+\n",
              " |  12883  |  0.531923647651909  |   2   |\n",
              " |   2057  |  0.6830683429524699 |   1   |\n",
              " |   5783  |  0.6824255226259791 |   1   |\n",
              " |   3270  |  0.3097131025922307 |   1   |\n",
              " |  16633  | 0.30991137261951607 |   1   |\n",
              " |  13482  |  0.3096952139353498 |   1   |\n",
              " |   4639  |  0.3099722933923258 |   1   |\n",
              " |  15635  | 0.31446280425441997 |   1   |\n",
              " |   567   |  0.3097880800109073 |   1   |\n",
              " |   1029  |  0.6831265356305732 |   1   |\n",
              " +---------+---------------------+-------+\n",
              " [1378 rows x 3 columns]\n",
              " Note: Only the head of the SFrame is printed.\n",
              " You can use print_rows(num_rows=m, num_columns=n) to print more rows and columns.,\n",
              " 'rmse_by_user': Columns:\n",
              " \treviewer_Id\tint\n",
              " \trmse\tfloat\n",
              " \tcount\tint\n",
              " \n",
              " Rows: 964\n",
              " \n",
              " Data:\n",
              " +-------------+---------------------+-------+\n",
              " | reviewer_Id |         rmse        | count |\n",
              " +-------------+---------------------+-------+\n",
              " |     4686    |  0.3123151759727637 |   2   |\n",
              " |    19193    |  0.3096791193336147 |   1   |\n",
              " |     2527    | 0.30989053723466753 |   1   |\n",
              " |    18609    |  0.6832302538000453 |   1   |\n",
              " |     1859    |  0.6835710605551475 |   2   |\n",
              " |     1687    | 0.30983213660225467 |   2   |\n",
              " |    35193    |  0.309921760420957  |   1   |\n",
              " |    47901    | 0.30996623155680036 |   3   |\n",
              " |     5203    |  0.3098530773626025 |   5   |\n",
              " |    11946    | 0.30984957763637366 |   1   |\n",
              " +-------------+---------------------+-------+\n",
              " [964 rows x 3 columns]\n",
              " Note: Only the head of the SFrame is printed.\n",
              " You can use print_rows(num_rows=m, num_columns=n) to print more rows and columns.,\n",
              " 'rmse_overall': 0.40882339813172425}"
            ]
          },
          "metadata": {
            "tags": []
          },
          "execution_count": 14
        }
      ]
    },
    {
      "cell_type": "code",
      "metadata": {
        "id": "RP7e6igd6EqD",
        "colab_type": "code",
        "colab": {}
      },
      "source": [
        "valid = validation_data.to_dataframe()\n",
        "train = training_data.to_dataframe()\n",
        "valid2 = valid[valid.likes ==1]\n",
        "df_grp = valid2.groupby(\"reviewer_Id\")"
      ],
      "execution_count": null,
      "outputs": []
    },
    {
      "cell_type": "code",
      "metadata": {
        "id": "AC2qxiE7_GVv",
        "colab_type": "code",
        "colab": {
          "base_uri": "https://localhost:8080/",
          "height": 197
        },
        "outputId": "91764384-44d5-4fd1-a024-5d5bb14141bf"
      },
      "source": [
        "user_list = valid2.reviewer_Id.unique()\n",
        "#df_asin = pd.read_csv(\"drive/My Drive/Data (1)/asin_int_values.csv\")\n",
        "int_to_asin=dict({count:i for i,count in enumerate(df_asin.columns)})\n"
      ],
      "execution_count": null,
      "outputs": [
        {
          "output_type": "error",
          "ename": "NameError",
          "evalue": "ignored",
          "traceback": [
            "\u001b[0;31m---------------------------------------------------------------------------\u001b[0m",
            "\u001b[0;31mNameError\u001b[0m                                 Traceback (most recent call last)",
            "\u001b[0;32m<ipython-input-16-30c608b3ef4c>\u001b[0m in \u001b[0;36m<module>\u001b[0;34m()\u001b[0m\n\u001b[1;32m      1\u001b[0m \u001b[0muser_list\u001b[0m \u001b[0;34m=\u001b[0m \u001b[0mvalid2\u001b[0m\u001b[0;34m.\u001b[0m\u001b[0mreviewer_Id\u001b[0m\u001b[0;34m.\u001b[0m\u001b[0munique\u001b[0m\u001b[0;34m(\u001b[0m\u001b[0;34m)\u001b[0m\u001b[0;34m\u001b[0m\u001b[0;34m\u001b[0m\u001b[0m\n\u001b[1;32m      2\u001b[0m \u001b[0;31m#df_asin = pd.read_csv(\"drive/My Drive/Data (1)/asin_int_values.csv\")\u001b[0m\u001b[0;34m\u001b[0m\u001b[0;34m\u001b[0m\u001b[0;34m\u001b[0m\u001b[0m\n\u001b[0;32m----> 3\u001b[0;31m \u001b[0mint_to_asin\u001b[0m\u001b[0;34m=\u001b[0m\u001b[0mdict\u001b[0m\u001b[0;34m(\u001b[0m\u001b[0;34m{\u001b[0m\u001b[0mcount\u001b[0m\u001b[0;34m:\u001b[0m\u001b[0mi\u001b[0m \u001b[0;32mfor\u001b[0m \u001b[0mi\u001b[0m\u001b[0;34m,\u001b[0m\u001b[0mcount\u001b[0m \u001b[0;32min\u001b[0m \u001b[0menumerate\u001b[0m\u001b[0;34m(\u001b[0m\u001b[0mdf_asin\u001b[0m\u001b[0;34m.\u001b[0m\u001b[0mcolumns\u001b[0m\u001b[0;34m)\u001b[0m\u001b[0;34m}\u001b[0m\u001b[0;34m)\u001b[0m\u001b[0;34m\u001b[0m\u001b[0;34m\u001b[0m\u001b[0m\n\u001b[0m",
            "\u001b[0;31mNameError\u001b[0m: name 'df_asin' is not defined"
          ]
        }
      ]
    },
    {
      "cell_type": "code",
      "metadata": {
        "id": "bIR2Talj34tE",
        "colab_type": "code",
        "colab": {}
      },
      "source": [
        "results = model.recommend(users =user_list,k=20,diversity =1, random_seed = 10)\n",
        "df_recs = results.sort(['reviewer_Id','rank'], ascending=True).to_dataframe()\n",
        "rec = df_recs.groupby(\"reviewer_Id\")"
      ],
      "execution_count": null,
      "outputs": []
    },
    {
      "cell_type": "code",
      "metadata": {
        "id": "xYiD6pdC99g9",
        "colab_type": "code",
        "colab": {
          "base_uri": "https://localhost:8080/",
          "height": 328
        },
        "outputId": "f2c7ffe3-f6b8-40f6-ac42-a6c800961b1f"
      },
      "source": [
        "df_user_item2[df_user_item2.reviewer_Id==536]"
      ],
      "execution_count": null,
      "outputs": [
        {
          "output_type": "execute_result",
          "data": {
            "text/html": [
              "<div>\n",
              "<style scoped>\n",
              "    .dataframe tbody tr th:only-of-type {\n",
              "        vertical-align: middle;\n",
              "    }\n",
              "\n",
              "    .dataframe tbody tr th {\n",
              "        vertical-align: top;\n",
              "    }\n",
              "\n",
              "    .dataframe thead th {\n",
              "        text-align: right;\n",
              "    }\n",
              "</style>\n",
              "<table border=\"1\" class=\"dataframe\">\n",
              "  <thead>\n",
              "    <tr style=\"text-align: right;\">\n",
              "      <th></th>\n",
              "      <th>title</th>\n",
              "      <th>asin_x</th>\n",
              "      <th>reviewerID_x</th>\n",
              "      <th>overall_x</th>\n",
              "      <th>overall</th>\n",
              "      <th>likes</th>\n",
              "      <th>reviewer_Id</th>\n",
              "      <th>asin_Id</th>\n",
              "    </tr>\n",
              "  </thead>\n",
              "  <tbody>\n",
              "    <tr>\n",
              "      <th>12201</th>\n",
              "      <td>X-Men vs. Street Fighter</td>\n",
              "      <td>B000006OVK</td>\n",
              "      <td>A14XH33SGMTA7R</td>\n",
              "      <td>5.0</td>\n",
              "      <td>5.0</td>\n",
              "      <td>1</td>\n",
              "      <td>536</td>\n",
              "      <td>3766</td>\n",
              "    </tr>\n",
              "    <tr>\n",
              "      <th>12202</th>\n",
              "      <td>Marvel Super Heroes Vs. Street Fighter</td>\n",
              "      <td>B00000IPEE</td>\n",
              "      <td>A14XH33SGMTA7R</td>\n",
              "      <td>5.0</td>\n",
              "      <td>5.0</td>\n",
              "      <td>1</td>\n",
              "      <td>536</td>\n",
              "      <td>3769</td>\n",
              "    </tr>\n",
              "    <tr>\n",
              "      <th>12204</th>\n",
              "      <td>Marvel Vs. Capcom: Clash of Super Heroes</td>\n",
              "      <td>B00004R9IC</td>\n",
              "      <td>A14XH33SGMTA7R</td>\n",
              "      <td>5.0</td>\n",
              "      <td>5.0</td>\n",
              "      <td>1</td>\n",
              "      <td>536</td>\n",
              "      <td>3789</td>\n",
              "    </tr>\n",
              "    <tr>\n",
              "      <th>12206</th>\n",
              "      <td>Mega Man X Collection - PlayStation 2</td>\n",
              "      <td>B0009XBWY6</td>\n",
              "      <td>A14XH33SGMTA7R</td>\n",
              "      <td>5.0</td>\n",
              "      <td>5.0</td>\n",
              "      <td>1</td>\n",
              "      <td>536</td>\n",
              "      <td>756</td>\n",
              "    </tr>\n",
              "    <tr>\n",
              "      <th>12207</th>\n",
              "      <td>Age Of Empires Collector's Edition (Limited Ed...</td>\n",
              "      <td>B000J18SR2</td>\n",
              "      <td>A14XH33SGMTA7R</td>\n",
              "      <td>5.0</td>\n",
              "      <td>5.0</td>\n",
              "      <td>1</td>\n",
              "      <td>536</td>\n",
              "      <td>44</td>\n",
              "    </tr>\n",
              "    <tr>\n",
              "      <th>12208</th>\n",
              "      <td>PlayStation 2 Console Slim PS2</td>\n",
              "      <td>B000TLU67W</td>\n",
              "      <td>A14XH33SGMTA7R</td>\n",
              "      <td>5.0</td>\n",
              "      <td>5.0</td>\n",
              "      <td>1</td>\n",
              "      <td>536</td>\n",
              "      <td>718</td>\n",
              "    </tr>\n",
              "    <tr>\n",
              "      <th>12209</th>\n",
              "      <td>AmazonBasics Carrying Case for Nintendo - New ...</td>\n",
              "      <td>B0050SVNZ8</td>\n",
              "      <td>A14XH33SGMTA7R</td>\n",
              "      <td>3.0</td>\n",
              "      <td>3.0</td>\n",
              "      <td>0</td>\n",
              "      <td>536</td>\n",
              "      <td>1065</td>\n",
              "    </tr>\n",
              "    <tr>\n",
              "      <th>12210</th>\n",
              "      <td>Saint Seiya Sanctuary Battle (Playstation 3)</td>\n",
              "      <td>B007ORIXIS</td>\n",
              "      <td>A14XH33SGMTA7R</td>\n",
              "      <td>5.0</td>\n",
              "      <td>5.0</td>\n",
              "      <td>1</td>\n",
              "      <td>536</td>\n",
              "      <td>5010</td>\n",
              "    </tr>\n",
              "    <tr>\n",
              "      <th>12211</th>\n",
              "      <td>Age of Empires III Complete Collection [Download]</td>\n",
              "      <td>B00AR05D7I</td>\n",
              "      <td>A14XH33SGMTA7R</td>\n",
              "      <td>5.0</td>\n",
              "      <td>5.0</td>\n",
              "      <td>1</td>\n",
              "      <td>536</td>\n",
              "      <td>5011</td>\n",
              "    </tr>\n",
              "  </tbody>\n",
              "</table>\n",
              "</div>"
            ],
            "text/plain": [
              "                                                   title  ... asin_Id\n",
              "12201                           X-Men vs. Street Fighter  ...    3766\n",
              "12202             Marvel Super Heroes Vs. Street Fighter  ...    3769\n",
              "12204           Marvel Vs. Capcom: Clash of Super Heroes  ...    3789\n",
              "12206              Mega Man X Collection - PlayStation 2  ...     756\n",
              "12207  Age Of Empires Collector's Edition (Limited Ed...  ...      44\n",
              "12208                     PlayStation 2 Console Slim PS2  ...     718\n",
              "12209  AmazonBasics Carrying Case for Nintendo - New ...  ...    1065\n",
              "12210       Saint Seiya Sanctuary Battle (Playstation 3)  ...    5010\n",
              "12211  Age of Empires III Complete Collection [Download]  ...    5011\n",
              "\n",
              "[9 rows x 8 columns]"
            ]
          },
          "metadata": {
            "tags": []
          },
          "execution_count": 48
        }
      ]
    },
    {
      "cell_type": "code",
      "metadata": {
        "id": "aCSLlO3U34vs",
        "colab_type": "code",
        "colab": {
          "base_uri": "https://localhost:8080/",
          "height": 476
        },
        "outputId": "a7970f0b-af1a-4c05-8c72-b13992578fd5"
      },
      "source": [
        "hit =0\n",
        "c=0\n",
        "arh =0\n",
        "for u in user_list:\n",
        "  c+=1\n",
        "  for item in df_grp.get_group(u).asin_Id:\n",
        "    if item in rec.get_group(u).asin_Id.values:\n",
        "      arh+= 1/(list(rec.get_group(u).asin_Id.values).index(item)+1)\n",
        "      hit= hit+1\n",
        "print(hit/c)\n",
        "print(arh/len(user_list))"
      ],
      "execution_count": null,
      "outputs": [
        {
          "output_type": "stream",
          "text": [
            "536\n",
            "2596\n",
            "4651\n",
            "12465\n",
            "15711\n",
            "16642\n",
            "22927\n",
            "24622\n",
            "28219\n",
            "29789\n",
            "34280\n",
            "37222\n",
            "37934\n",
            "38697\n",
            "38790\n",
            "39476\n",
            "41271\n",
            "41456\n",
            "43508\n",
            "44174\n",
            "44477\n",
            "44767\n",
            "49285\n",
            "51149\n",
            "53695\n",
            "0.03033980582524272\n",
            "0.0042665885316419605\n"
          ],
          "name": "stdout"
        }
      ]
    },
    {
      "cell_type": "code",
      "metadata": {
        "id": "JKvJZ524tvF0",
        "colab_type": "code",
        "colab": {}
      },
      "source": [
        "rankings = pd.read_csv('drive/My Drive/Data (1)/Popularity_Rankings_for_Diversity.csv')"
      ],
      "execution_count": null,
      "outputs": []
    },
    {
      "cell_type": "code",
      "metadata": {
        "id": "L2NSg7D5tvIe",
        "colab_type": "code",
        "colab": {}
      },
      "source": [
        "\n",
        "def Novelty(Rankings,user_list):\n",
        "\n",
        "  print(\"Novelty:   Average popularity rank of recommended items. Higher means more novel.\")\n",
        "\n",
        "  n=0\n",
        "  total=0\n",
        "  for u in tqdm(user_list):\n",
        "    #the next 5 lines are to just generate the top n recommendations\n",
        "    recs = rec.get_group(u).asin_Id.values\n",
        "    recommendations=[id_to_asin[i] for i in recs]\n",
        "    for item in recommendations:\n",
        "      rank=Rankings.loc[Rankings['asin']==item,'Rank']\n",
        "      total+=rank.iloc[0]\n",
        "      n+=1\n",
        "  #Note: The highest rank of an item is 332 becaue items with equal no. of total ratings have similar ranks \n",
        "  return (total/n)\n"
      ],
      "execution_count": null,
      "outputs": []
    },
    {
      "cell_type": "code",
      "metadata": {
        "id": "g6DC4VkLtvLd",
        "colab_type": "code",
        "colab": {}
      },
      "source": [
        "%%time\n",
        "print(Novelty(rankings,user_list))"
      ],
      "execution_count": null,
      "outputs": []
    },
    {
      "cell_type": "code",
      "metadata": {
        "id": "lg04m4-qtvPg",
        "colab_type": "code",
        "colab": {}
      },
      "source": [
        "%%time\n",
        "sim_df= pd.read_csv('/content/drive/My Drive/Data (1)/Similarity_Matrix_for_Diversity.csv')"
      ],
      "execution_count": null,
      "outputs": []
    },
    {
      "cell_type": "code",
      "metadata": {
        "id": "99x_jZAmtvTg",
        "colab_type": "code",
        "colab": {}
      },
      "source": [
        "from itertools import combinations \n",
        "\n",
        "def Diversity(user_list,simsMatrix):\n",
        "  print(\"Diversity: 1-S, where S is the average similarity score between every possible pair of recommendations\")\n",
        "  print(\"           for a given user. Higher means more diverse.\")\n",
        "\n",
        "  n=0\n",
        "  total=0\n",
        "  missed=0\n",
        "  for u in tqdm(user_list):\n",
        "    #the next 5 lines are to just generate the top n recommendations\n",
        "\n",
        "    recs = rec.get_group(u).asin_Id.values\n",
        "    recommendations=[id_to_asin[i] for i in recs]\n",
        "    pairs = combinations(recommendations,2)\n",
        "    for pair in pairs:\n",
        "\n",
        "      item1= pair[0]\n",
        "      item2= pair[1]\n",
        "\n",
        "      if (item1 and item2 in sim_df.columns):\n",
        "\n",
        "        similarity= simsMatrix.at[ int_to_asin[item1], item2]\n",
        "        total+=similarity\n",
        "        n+=1\n",
        "      else:\n",
        "        missed+=1\n",
        "\n",
        "\n",
        "  print(n)\n",
        "  S= total/n\n",
        "  print('Total missed :')\n",
        "  print(missed)\n",
        "\n",
        "  return (1-S)\n",
        "  \n"
      ],
      "execution_count": null,
      "outputs": []
    },
    {
      "cell_type": "code",
      "metadata": {
        "id": "BVK9CnUwtvV7",
        "colab_type": "code",
        "colab": {}
      },
      "source": [
        "%%time\n",
        "print(Diversity(user_list,sim_df))"
      ],
      "execution_count": null,
      "outputs": []
    },
    {
      "cell_type": "code",
      "metadata": {
        "id": "zFDdukoktvYT",
        "colab_type": "code",
        "colab": {}
      },
      "source": [
        ""
      ],
      "execution_count": null,
      "outputs": []
    },
    {
      "cell_type": "code",
      "metadata": {
        "id": "qGrhxvL6tvOb",
        "colab_type": "code",
        "colab": {}
      },
      "source": [
        ""
      ],
      "execution_count": null,
      "outputs": []
    },
    {
      "cell_type": "code",
      "metadata": {
        "id": "rNPQUPXStvDF",
        "colab_type": "code",
        "colab": {}
      },
      "source": [
        ""
      ],
      "execution_count": null,
      "outputs": []
    },
    {
      "cell_type": "code",
      "metadata": {
        "id": "13ZzrYpTtvAn",
        "colab_type": "code",
        "colab": {}
      },
      "source": [
        ""
      ],
      "execution_count": null,
      "outputs": []
    }
  ]
}